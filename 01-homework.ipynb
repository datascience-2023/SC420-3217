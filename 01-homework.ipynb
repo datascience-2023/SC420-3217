{
 "cells": [
  {
   "cell_type": "markdown",
   "id": "a9274f7e-5793-45e0-bbf9-e354c68dbba2",
   "metadata": {},
   "source": [
    "# Домашнее задание"
   ]
  },
  {
   "cell_type": "markdown",
   "id": "434fe8e7-4a2b-4532-8579-e2138106aa3b",
   "metadata": {},
   "source": [
    "- Установите у себя Anaconda<sup>*</sup> и Git.\n",
    "- Создайте виртуальное окружение, активируйте его и установите Jupyterlab (`conda install -c conda-forge jupyterlab`).\n",
    "- Зарегистрируйтесь на GitHub и создайте репозиторий.\n",
    "\n",
    "<sup>*</sup>Если вы уверены в себе, можете воспользоваться другим пакетным менеджером по выбору.\n"
   ]
  },
  {
   "cell_type": "markdown",
   "id": "97db77d1-39e3-4148-aef2-ff0d4be4b061",
   "metadata": {},
   "source": [
    "- Откройте копию этой тетради у себя в Jupyter.\n",
    "- Выберите уровень сложности и решите соответствующую задачу ниже.\n",
    "\n",
    "Когда закончите, ячейки с нерешенными задачами можно удалить."
   ]
  },
  {
   "cell_type": "markdown",
   "id": "96c47b9d-bcc4-44e8-a94c-c69d6ad2aa50",
   "metadata": {},
   "source": [
    "## Easy"
   ]
  },
  {
   "cell_type": "markdown",
   "id": "576e1012-ce1b-4e17-a86e-e123595687b2",
   "metadata": {},
   "source": [
    "Напишите функцию, которая:\n",
    "- принимает одно число в качестве аргумента;\n",
    "- возвращает обратное число (1/x)."
   ]
  },
  {
   "cell_type": "code",
   "execution_count": null,
   "id": "d977f117-f149-41f3-808e-c870751ecd63",
   "metadata": {},
   "outputs": [],
   "source": [
    "def inv(x):\n",
    "    # Ваш код ниже:\n",
    "    "
   ]
  },
  {
   "cell_type": "markdown",
   "id": "fa802dde-423e-4d2a-9cec-4a4b95dbc00c",
   "metadata": {},
   "source": [
    "Проверьте результат, например:"
   ]
  },
  {
   "cell_type": "code",
   "execution_count": null,
   "id": "8d3e4af6-f13e-44d3-84f9-05a598cc1035",
   "metadata": {},
   "outputs": [],
   "source": [
    "# Должно быть истинно:\n",
    "inv(5) == 0.2 "
   ]
  },
  {
   "cell_type": "markdown",
   "id": "27d27d87-a7e3-4063-a3c0-4cd51483f388",
   "metadata": {},
   "source": [
    "Что случится, если в функцию передать 0? Напишите ответ в ячейке ниже:"
   ]
  },
  {
   "cell_type": "markdown",
   "id": "084dd433-e537-4b5e-8efa-ae502c41572c",
   "metadata": {},
   "source": [
    "Ответ: "
   ]
  },
  {
   "cell_type": "markdown",
   "id": "35720bfe-4e35-4007-be64-695807038de7",
   "metadata": {},
   "source": [
    "## Normal"
   ]
  },
  {
   "cell_type": "markdown",
   "id": "6f6ae64e-316f-4dac-99e0-f9591de7471b",
   "metadata": {},
   "source": [
    "Напишите функцию, которая принимает список целых чисел и возвращает медиану.\n",
    "\n",
    "Алгоритм нахождения медианы:\n",
    "- список сортируется;\n",
    "- если число элементов нечетное, возвращается центральный элемент отсортированного списка;\n",
    "- если число элементов четное, возвращается среднее арифметическое двух соседних элементов в середине отсортированнного списка."
   ]
  },
  {
   "cell_type": "code",
   "execution_count": null,
   "id": "b7764a88-3c89-4b0f-8057-777f6b9d2844",
   "metadata": {},
   "outputs": [],
   "source": [
    "def median(array):\n",
    "    # Ваш код ниже:\n",
    "    "
   ]
  },
  {
   "cell_type": "markdown",
   "id": "1ca2956f-4556-4f45-8b80-8b0906378809",
   "metadata": {},
   "source": [
    "Проверьте результат, например:"
   ]
  },
  {
   "cell_type": "code",
   "execution_count": null,
   "id": "8f76a4d8-10e1-4d31-a202-e4e363fe0507",
   "metadata": {},
   "outputs": [],
   "source": [
    "# Должно быть истинно:\n",
    "median([1, 4, 6, 5, 2, 100]) == 4.5"
   ]
  },
  {
   "cell_type": "code",
   "execution_count": null,
   "id": "4579a28d-c523-447b-a064-4c4ab080d6e5",
   "metadata": {},
   "outputs": [],
   "source": [
    "# Должно быть истинно:\n",
    "median([25, 1, 4, 6, 5, 2, 100]) == 5"
   ]
  },
  {
   "cell_type": "markdown",
   "id": "3024c6b3-315c-43ab-8e69-86fd5b64ac64",
   "metadata": {},
   "source": [
    "Какого типа получилось возвращамое значение? Напишите ответ в ячейке ниже:"
   ]
  },
  {
   "cell_type": "markdown",
   "id": "b81b9e11-7152-4503-8ac2-7ad4ba81eaef",
   "metadata": {},
   "source": [
    "Ответ: "
   ]
  },
  {
   "cell_type": "markdown",
   "id": "dd797b59-a07d-463c-b5b1-9350b0ff73c3",
   "metadata": {},
   "source": [
    "## Hard"
   ]
  },
  {
   "cell_type": "markdown",
   "id": "42341073-cb0c-430f-9ffe-8973298f69d6",
   "metadata": {},
   "source": [
    "Ознакомьтесь самостоятельно с основными методами для работы со строками (https://docs.python.org/3/library/stdtypes.html#string-methods) и документацией к стандартной функции `sorted()` (https://docs.python.org/3/howto/sorting.html).\n",
    "\n",
    "Напишите функцию, которая:\n",
    "- принимает на вход список файлов с расширениями;\n",
    "- возвращает список, отсортированный *по расширению* в алфавитном порядке(a-z).\n",
    "\n",
    "У файла может быть только одно расширение."
   ]
  },
  {
   "cell_type": "code",
   "execution_count": null,
   "id": "804238ff-affc-40c5-8787-7f47e44115dc",
   "metadata": {},
   "outputs": [],
   "source": [
    "def sort_by_ext(array):\n",
    "    # Ваш код ниже:\n",
    "    "
   ]
  },
  {
   "cell_type": "markdown",
   "id": "8b39fa7a-14b5-4c93-8850-5fe082d99265",
   "metadata": {},
   "source": [
    "Проверьте результат:"
   ]
  },
  {
   "cell_type": "code",
   "execution_count": null,
   "id": "fd245e08-6d5b-4bd2-9122-fac65f275a93",
   "metadata": {},
   "outputs": [],
   "source": [
    "# Должно быть истинно:\n",
    "sort_by_ext([\"1.cad\", \"1.bat\", \"1.aa\"]) == [\"1.aa\", \"1.bat\", \"1.cad\"]"
   ]
  },
  {
   "cell_type": "markdown",
   "id": "0ea95a67-6b09-4004-968b-cddeef4e9ee3",
   "metadata": {},
   "source": [
    "Как ваша функция справляется с крайними случаями?\n",
    "- пустая строка;\n",
    "- файл без имени, но с расширением;\n",
    "- файл с пустым расширением (точка присутствует, например `file.`)\n",
    "\n",
    "Напишите ответ в ячейке ниже:"
   ]
  },
  {
   "cell_type": "markdown",
   "id": "b007c71d-5792-41b0-98ca-72fc6d3e7a82",
   "metadata": {},
   "source": [
    "Ответ: "
   ]
  },
  {
   "cell_type": "markdown",
   "id": "fcbf4361-9b8c-443a-bba3-137ffd7d1cd0",
   "metadata": {},
   "source": [
    "## Сдача задания"
   ]
  },
  {
   "cell_type": "markdown",
   "id": "8b720b3e-5fb4-4971-b4f0-ad06a35aef1d",
   "metadata": {},
   "source": [
    "После того, как впишете решение, сохраните эту тетрадку и загрузите в основную ветку созданного вами репозитория (можно в корневой каталог, можно в отдельный). Желательно сохранить исходное имя файла (по крайней мере, номер задания должен быть сразу виден.)"
   ]
  }
 ],
 "metadata": {
  "kernelspec": {
   "display_name": "Python 3 (ipykernel)",
   "language": "python",
   "name": "python3"
  },
  "language_info": {
   "codemirror_mode": {
    "name": "ipython",
    "version": 3
   },
   "file_extension": ".py",
   "mimetype": "text/x-python",
   "name": "python",
   "nbconvert_exporter": "python",
   "pygments_lexer": "ipython3",
   "version": "3.11.3"
  },
  "widgets": {
   "application/vnd.jupyter.widget-state+json": {
    "state": {},
    "version_major": 2,
    "version_minor": 0
   }
  }
 },
 "nbformat": 4,
 "nbformat_minor": 5
}
