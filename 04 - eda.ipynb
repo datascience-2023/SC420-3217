{
 "cells": [
  {
   "cell_type": "markdown",
   "id": "27d9c689-c661-4b24-a715-2d67ce883b8d",
   "metadata": {},
   "source": [
    "# EDA"
   ]
  },
  {
   "cell_type": "markdown",
   "id": "b2cac4fb-6f41-4422-a5e9-1b3c5b79d546",
   "metadata": {},
   "source": [
    "На этом занятии мы научимся проводить исследовательский анализ данных на примере датасета клиентов банка."
   ]
  },
  {
   "cell_type": "code",
   "execution_count": null,
   "id": "13124a68-d6a1-4e93-9a06-f932719bc151",
   "metadata": {},
   "outputs": [],
   "source": [
    "import pandas as pd"
   ]
  },
  {
   "cell_type": "code",
   "execution_count": null,
   "id": "af8676ba-bce8-46a8-a84e-c0f1b9ee1d86",
   "metadata": {},
   "outputs": [],
   "source": [
    "df = pd.read_csv('Churn_Modelling.csv')"
   ]
  },
  {
   "cell_type": "markdown",
   "id": "b44157df-6d1c-4e25-98eb-f8cd0b1edd66",
   "metadata": {},
   "source": [
    "## Обзор данных"
   ]
  },
  {
   "cell_type": "code",
   "execution_count": null,
   "id": "249e9616-ff52-4f88-b1ae-a7e348f3ca84",
   "metadata": {},
   "outputs": [],
   "source": [
    "df.head(10)"
   ]
  },
  {
   "cell_type": "code",
   "execution_count": null,
   "id": "df5a2181-8d53-4b7f-b83e-b0a26361bae8",
   "metadata": {},
   "outputs": [],
   "source": [
    "df.info()"
   ]
  },
  {
   "cell_type": "code",
   "execution_count": null,
   "id": "7dae3456-34e9-4354-8511-b2987cd1a62e",
   "metadata": {},
   "outputs": [],
   "source": [
    "df['CustomerId'].duplicated().sum()"
   ]
  },
  {
   "cell_type": "code",
   "execution_count": null,
   "id": "dad8bfc8-7006-47bb-8447-b70784d8c211",
   "metadata": {},
   "outputs": [],
   "source": [
    "df['Surname'].value_counts()"
   ]
  },
  {
   "cell_type": "code",
   "execution_count": null,
   "id": "ae0b0d9c-5994-4738-af1e-fa6a043b11f1",
   "metadata": {},
   "outputs": [],
   "source": [
    "df = df.drop(['RowNumber', 'CustomerId', 'Surname'], axis=1)"
   ]
  },
  {
   "cell_type": "code",
   "execution_count": null,
   "id": "051c02f5-da13-4315-b662-e87ba3c622d2",
   "metadata": {},
   "outputs": [],
   "source": [
    "df.head()"
   ]
  },
  {
   "cell_type": "markdown",
   "id": "c841dcb4-71b3-4390-add5-3d611449add6",
   "metadata": {},
   "source": [
    "## Аналитическая часть"
   ]
  },
  {
   "cell_type": "code",
   "execution_count": null,
   "id": "fc8a898b-4eed-4108-b01b-fdae1d5385f5",
   "metadata": {},
   "outputs": [],
   "source": [
    "df.describe().T"
   ]
  },
  {
   "cell_type": "markdown",
   "id": "6814121d-98c2-43e7-9632-3069e2de0536",
   "metadata": {},
   "source": [
    "### Численные значения\n",
    "### CreditScore"
   ]
  },
  {
   "cell_type": "code",
   "execution_count": null,
   "id": "c6d6b8c2-a713-4198-bf8a-57047d817908",
   "metadata": {},
   "outputs": [],
   "source": [
    "import matplotlib.pyplot as plt"
   ]
  },
  {
   "cell_type": "code",
   "execution_count": null,
   "id": "31572f00-44e8-44f0-8cd5-d57e9573ee6e",
   "metadata": {},
   "outputs": [],
   "source": [
    "plt.hist(df['CreditScore'])"
   ]
  },
  {
   "cell_type": "code",
   "execution_count": null,
   "id": "a1d4db4d-4357-45d1-8f84-db648665c043",
   "metadata": {},
   "outputs": [],
   "source": [
    "plt.title(\"Кредитный рейтинг (гистограмма)\")\n",
    "plt.xlabel(\"Кредитный рейтинг\")\n",
    "plt.ylabel(\"Наблюдений, шт.\")\n",
    "plt.hist(df['CreditScore'], bins=5);"
   ]
  },
  {
   "cell_type": "code",
   "execution_count": null,
   "id": "8aa66dd0-32d9-4c0b-8dae-c762631ae3cb",
   "metadata": {},
   "outputs": [],
   "source": [
    "plt.title(\"Кредитный рейтинг (гистограмма)\")\n",
    "plt.xlabel(\"Кредитный рейтинг\")\n",
    "plt.ylabel(\"Наблюдений, шт.\")\n",
    "plt.hist(df['CreditScore'], bins=200);"
   ]
  },
  {
   "cell_type": "code",
   "execution_count": null,
   "id": "51f33f02-f379-4496-ad5c-9f0f890aff3c",
   "metadata": {},
   "outputs": [],
   "source": [
    "plt.title(\"Кредитный рейтинг (гистограмма)\")\n",
    "plt.xlabel(\"Кредитный рейтинг\")\n",
    "plt.ylabel(\"Наблюдений, шт.\")\n",
    "plt.hist(df['CreditScore'], bins='fd'); # 'auto'"
   ]
  },
  {
   "cell_type": "code",
   "execution_count": null,
   "id": "13305003-14c7-45f4-a52c-7632eb15bac6",
   "metadata": {},
   "outputs": [],
   "source": [
    "plt.title(\"Кредитный рейтинг (гистограмма)\")\n",
    "plt.xlabel(\"Кредитный рейтинг\")\n",
    "plt.ylabel(\"Наблюдений, шт.\")\n",
    "plt.hist(df['CreditScore'], bins='sqrt');"
   ]
  },
  {
   "cell_type": "markdown",
   "id": "1a0ebb6e-6433-4552-aeb8-2312a77283c5",
   "metadata": {},
   "source": [
    "https://numpy.org/doc/stable/reference/generated/numpy.histogram_bin_edges.html#numpy.histogram_bin_edges"
   ]
  },
  {
   "cell_type": "code",
   "execution_count": null,
   "id": "a9d4d9cd-bbb8-4985-b13f-4f65c8daf58d",
   "metadata": {},
   "outputs": [],
   "source": [
    "df['CreditScore'].hist(bins='auto').set(xlabel='Кредитный рейтинг', ylabel='Наблюдений, шт.', title='Кредитный рейтинг (гистограмма)');"
   ]
  },
  {
   "cell_type": "code",
   "execution_count": null,
   "id": "01cc9e1b-876c-486d-b77a-65581ff946cc",
   "metadata": {},
   "outputs": [],
   "source": [
    "plt.title(\"Кредитный рейтинг (размах)\")\n",
    "plt.ylabel(\"Кредитный рейтинг\")\n",
    "plt.boxplot(df['CreditScore']);"
   ]
  },
  {
   "cell_type": "code",
   "execution_count": null,
   "id": "ed0004e5-a12f-4637-8f28-2ce5ed70a0ec",
   "metadata": {},
   "outputs": [],
   "source": [
    "df['CreditScore'].plot(kind='box', vert=False).set(xlabel='Кредитный рейтинг', title='Кредитный рейтинг (размах)');"
   ]
  },
  {
   "cell_type": "code",
   "execution_count": null,
   "id": "55bd2927-6df5-4b3a-9800-6742c971fc48",
   "metadata": {},
   "outputs": [],
   "source": [
    "plt.title(\"Кредитный рейтинг (размах)\")\n",
    "plt.xlabel(\"Кредитный рейтинг\")\n",
    "plt.boxplot(df['CreditScore'], vert=False);"
   ]
  },
  {
   "cell_type": "code",
   "execution_count": null,
   "id": "d1b27485-8ea0-4f1e-859e-947d57650635",
   "metadata": {},
   "outputs": [],
   "source": [
    "df[['CreditScore']].describe()"
   ]
  },
  {
   "cell_type": "code",
   "execution_count": null,
   "id": "7531b081-eb27-4ea5-8007-cfce2d01a2bb",
   "metadata": {},
   "outputs": [],
   "source": [
    "import seaborn as sns"
   ]
  },
  {
   "cell_type": "code",
   "execution_count": null,
   "id": "092e739d-89fb-413b-88ec-be4aa3b09862",
   "metadata": {},
   "outputs": [],
   "source": [
    "sns.violinplot(df['CreditScore'], orient='h');\n",
    "plt.title(\"Кредитный рейтинг (плотность и размах)\");\n",
    "plt.xlabel(\"Кредитный рейтинг\");"
   ]
  },
  {
   "cell_type": "code",
   "execution_count": null,
   "id": "5f9a9634-5229-45ea-b994-5743425af711",
   "metadata": {},
   "outputs": [],
   "source": [
    "sns.histplot(df['CreditScore'], kde=True);\n",
    "plt.title(\"Кредитный рейтинг (гистограмма)\");\n",
    "plt.xlabel(\"Кредитный рейтинг\");\n",
    "plt.ylabel(\"Наблюдений, шт.\");"
   ]
  },
  {
   "cell_type": "code",
   "execution_count": null,
   "id": "6f2eb2aa-0850-4d2f-8c6e-711c72d1808e",
   "metadata": {},
   "outputs": [],
   "source": [
    "df.groupby('Exited')['CreditScore'].hist(bins='fd', figsize=(8,6), alpha=0.75)\n",
    "plt.title(\"Распределение клиентов по кредитному рейтингу\")\n",
    "plt.xlabel(\"Кредитный рейтинг\")\n",
    "plt.ylabel(\"Наблюдений, шт.\")\n",
    "plt.legend(['лояльные', 'ушедшие']);"
   ]
  },
  {
   "cell_type": "markdown",
   "id": "b5cf127a-7930-41c2-8dc8-6ef40409569d",
   "metadata": {},
   "source": [
    "#### Вывод:\n",
    "\n",
    "Значения кредитного рейтинга распределены околонормально от 350 до 850, за исключением повышенного количества клиентов с максимальным значением (видимо, рейтинг ограничен сверху). Также немного выбиваются из общей картины несколько клиентов с очень низким рейтингом (ниже 375).\n",
    "\n",
    "Сильной разницы в кредитном рейтинге между лояльными и ушедшими клиентами не наблюдается."
   ]
  },
  {
   "cell_type": "code",
   "execution_count": null,
   "id": "0adced66-97b0-429d-8e2b-4d9886175644",
   "metadata": {},
   "outputs": [],
   "source": [
    "translations = {\n",
    "    'CreditScore' : 'Кредитный рейтинг',\n",
    "    'Age' : 'Возраст',\n",
    "}\n",
    "\n",
    "def visualize(column, xlim=None):\n",
    "    xlabel = translations.get(column.name, column.name)\n",
    "    fig, axes = plt.subplots(1, 2, figsize=(16,6))\n",
    "    sns.histplot(column, ax=axes[0], bins=25, kde=False)\n",
    "    axes[0].set(title='Гистограмма', xlabel=xlabel, ylabel='Наблюдений, шт.', xlim=xlim);\n",
    "    sns.violinplot(column, ax=axes[1], orient='h')\n",
    "    axes[1].set(title='Плотность и размах', xlabel=xlabel, xlim=xlim);"
   ]
  },
  {
   "cell_type": "code",
   "execution_count": null,
   "id": "c0584830-d709-4a57-987a-db11a9021fd3",
   "metadata": {},
   "outputs": [],
   "source": [
    "visualize(df['CreditScore'])"
   ]
  },
  {
   "cell_type": "markdown",
   "id": "43d5823b-fb8f-4229-8a72-bec05ecb9861",
   "metadata": {},
   "source": [
    "### Возраст"
   ]
  },
  {
   "cell_type": "code",
   "execution_count": null,
   "id": "6c791684-e981-4946-a354-acaef0743f83",
   "metadata": {},
   "outputs": [],
   "source": [
    "visualize(df['Age'])"
   ]
  },
  {
   "cell_type": "code",
   "execution_count": null,
   "id": "8f739234-c3c7-46b3-bd7c-7cffe9ddf7a6",
   "metadata": {},
   "outputs": [],
   "source": [
    "df[['Age']].describe()"
   ]
  },
  {
   "cell_type": "code",
   "execution_count": null,
   "id": "547eee57-e65b-48be-b1b6-603cd77ab781",
   "metadata": {},
   "outputs": [],
   "source": [
    "df.groupby('Exited')['Age'].hist(bins='fd', figsize=(8,6), alpha=0.75)\n",
    "plt.title(\"Распределение клиентов по возрасту\")\n",
    "plt.xlabel(\"Возраст, лет\")\n",
    "plt.ylabel(\"Наблюдений, шт.\")\n",
    "plt.legend(['лояльные', 'ушедшие']);"
   ]
  },
  {
   "cell_type": "code",
   "execution_count": null,
   "id": "d2a31ec5-54a6-4887-b9e4-9bff637d1875",
   "metadata": {},
   "outputs": [],
   "source": [
    "    df.groupby('Exited')['Age'].agg(['count', 'mean', 'median'])"
   ]
  },
  {
   "cell_type": "markdown",
   "id": "be0ad718-b745-4465-8925-12f0062d7fcd",
   "metadata": {},
   "source": [
    "#### Вывод:\n",
    "\n",
    "Данные о возрасте выглядят достоверно, клиентам от 18 до 92 лет, но большинство не старше 44 лет при среднем значении около 39 (37 по медиане).\n",
    "\n",
    "Сравнение групп показывает, что риск оттока клиента повышается с возрастом (средний возраст лояльных клиентов 36-37 лет, а ушедших - около 45 лет.)"
   ]
  },
  {
   "cell_type": "markdown",
   "id": "c8ebe58f-5fa7-4706-8535-2245b80f98c2",
   "metadata": {},
   "source": [
    "### Самостоятельная работа:\n",
    "\n",
    "Проанализируйте другие столбцы, например, `Balance`."
   ]
  },
  {
   "cell_type": "code",
   "execution_count": null,
   "id": "0698e5af-aff3-47fd-8bf4-3b84272ac4c8",
   "metadata": {},
   "outputs": [],
   "source": [
    "# Ваш код:\n"
   ]
  },
  {
   "cell_type": "markdown",
   "id": "31b80a99-d7f6-4906-9861-2e06ba3fd8d0",
   "metadata": {},
   "source": [
    "### Категории и бинарные значения"
   ]
  },
  {
   "cell_type": "code",
   "execution_count": null,
   "id": "eb8c0a49-d45d-4baa-b27a-cd7eb74c3bc4",
   "metadata": {},
   "outputs": [],
   "source": [
    "df['Geography'].value_counts()"
   ]
  },
  {
   "cell_type": "code",
   "execution_count": null,
   "id": "d2c79c44-c3b9-4ebc-8751-31106d10868b",
   "metadata": {},
   "outputs": [],
   "source": [
    "df['Geography'].value_counts().plot(kind='bar', rot=0).set();\n",
    "plt.title(\"Пользователи по странам\");\n",
    "plt.xlabel(\"Страна\");\n",
    "plt.ylabel(\"Наблюдений, шт.\");"
   ]
  },
  {
   "cell_type": "code",
   "execution_count": null,
   "id": "e9582a45-6d6c-4ffa-8d15-a88d22464596",
   "metadata": {},
   "outputs": [],
   "source": [
    "df['Geography'].value_counts().plot(kind='pie', rot=0).set();\n",
    "plt.title(\"Пользователи по странам\");\n",
    "plt.xlabel(\"Страна\");\n",
    "plt.ylabel(\"Наблюдений, шт.\");"
   ]
  },
  {
   "cell_type": "code",
   "execution_count": null,
   "id": "780a1cf7-b881-49a1-bed8-ae72018d0d9d",
   "metadata": {},
   "outputs": [],
   "source": [
    "df.groupby('Geography')['Exited'].count().plot(kind='bar', rot=0);\n",
    "df.groupby('Geography')['Exited'].sum().plot(kind='bar', color='darkorange', rot=0);\n",
    "plt.title(\"Распределение пользователей по странам\");\n",
    "plt.xlabel(\"Страна\");\n",
    "plt.ylabel(\"Наблюдений, шт.\")\n",
    "plt.legend(['всего', 'ушедшие']);"
   ]
  },
  {
   "cell_type": "markdown",
   "id": "c3222f08-4616-45ba-a38f-564fbba91d07",
   "metadata": {},
   "source": [
    "### Самостоятельная работа:\n",
    "\n",
    "Проанализируйте другие категории например, `NumOfProducts`."
   ]
  },
  {
   "cell_type": "code",
   "execution_count": null,
   "id": "871d0be7-947f-44af-893b-a3378a146bda",
   "metadata": {},
   "outputs": [],
   "source": [
    "# Ваш код:\n"
   ]
  },
  {
   "cell_type": "markdown",
   "id": "1c710ed3-e670-4e6b-be5e-4a50d5603389",
   "metadata": {},
   "source": [
    "### Взаимное влияние признаков"
   ]
  },
  {
   "cell_type": "code",
   "execution_count": null,
   "id": "7811e25d-fa87-4911-9511-e5edf2525364",
   "metadata": {},
   "outputs": [],
   "source": [
    "df.groupby(['Geography'])['Balance'].agg(['mean', 'median']).plot(kind='bar', rot=0);\n",
    "plt.title(\"Средний остаток на счете по странам\");\n",
    "plt.xlabel(\"Страна\");\n",
    "plt.ylabel(\"Остаток, у.е.\");"
   ]
  },
  {
   "cell_type": "code",
   "execution_count": null,
   "id": "a45e8cb7-7c34-4775-8ddc-335f78cdc7bf",
   "metadata": {},
   "outputs": [],
   "source": [
    "plt.scatter(df['EstimatedSalary'], df['Balance']);\n",
    "plt.title(\"Зависимость отношения остатка на счету от зарплаты\");\n",
    "plt.xlabel(\"Зарплата, у.е.\");\n",
    "plt.ylabel(\"Остаток, у.е.\");"
   ]
  },
  {
   "cell_type": "code",
   "execution_count": null,
   "id": "bb17a7a2-56a2-4ee6-826b-4e1925e888b1",
   "metadata": {},
   "outputs": [],
   "source": [
    "pd.plotting.scatter_matrix(df[['Balance', 'EstimatedSalary', 'Age', 'CreditScore']], figsize=(10, 10));"
   ]
  },
  {
   "cell_type": "code",
   "execution_count": null,
   "id": "4dff3480-4843-4aa0-882f-22762d5d6b3e",
   "metadata": {},
   "outputs": [],
   "source": [
    "sns.pairplot(df[['Balance', 'EstimatedSalary', 'Age', 'CreditScore']]);"
   ]
  },
  {
   "cell_type": "code",
   "execution_count": null,
   "id": "2eec7355-64ec-45aa-8676-ed743ad05648",
   "metadata": {},
   "outputs": [],
   "source": [
    "df['BalanceSalaryRatio'] = df['Balance'] / df['EstimatedSalary']"
   ]
  },
  {
   "cell_type": "code",
   "execution_count": null,
   "id": "10c00460-b81f-4a45-b3da-3c1e73883027",
   "metadata": {},
   "outputs": [],
   "source": [
    "plt.scatter(df['EstimatedSalary'], df['BalanceSalaryRatio']);\n",
    "plt.title(\"Зависимость отношения остатка на счету к зарплате от зарплаты\");\n",
    "plt.xlabel(\"Зарплата, у.е.\");\n",
    "plt.ylabel(\"Отношение\");"
   ]
  },
  {
   "cell_type": "code",
   "execution_count": null,
   "id": "08faf70a-5169-41e4-afd4-6ea5d28b695c",
   "metadata": {},
   "outputs": [],
   "source": [
    "plt.scatter(df['EstimatedSalary'], df['BalanceSalaryRatio']);\n",
    "plt.title(\"Зависимость отношения остатка на счету к зарплате от зарплаты\");\n",
    "plt.xlabel(\"Зарплата, у.е.\");\n",
    "plt.ylabel(\"Отношение\");\n",
    "plt.ylim(0, 50);"
   ]
  },
  {
   "cell_type": "code",
   "execution_count": null,
   "id": "d867d4bb-67de-4fb6-a683-920d6e696f80",
   "metadata": {},
   "outputs": [],
   "source": [
    "df.query('BalanceSalaryRatio > 50').sort_values(by='BalanceSalaryRatio', ascending=False).head(10)"
   ]
  },
  {
   "cell_type": "markdown",
   "id": "2d43f8e2-e452-4e34-add8-e1ca3efde39f",
   "metadata": {},
   "source": [
    "# Домашнее задание"
   ]
  },
  {
   "cell_type": "markdown",
   "id": "c1acfedd-0e99-4ac3-980f-0fdbc04300c9",
   "metadata": {},
   "source": [
    "## Easy"
   ]
  },
  {
   "cell_type": "markdown",
   "id": "f9637e0f-0ae0-4188-970b-4a9e36b3342a",
   "metadata": {},
   "source": [
    "Проведите иссдедовательский анализ одного из признаков, не исследованных вами на уроке. Вкратце опишите свои наблюдения."
   ]
  },
  {
   "cell_type": "code",
   "execution_count": null,
   "id": "148c1b01-6e7f-4624-878d-361944732a66",
   "metadata": {},
   "outputs": [],
   "source": [
    "# Ваш код ниже:\n"
   ]
  },
  {
   "cell_type": "markdown",
   "id": "6aa7648a-4c26-434d-ad70-c13c6c10a0e1",
   "metadata": {},
   "source": [
    "Вывод: "
   ]
  },
  {
   "cell_type": "markdown",
   "id": "89d2cb46-5428-49cc-b358-0548a9c63352",
   "metadata": {},
   "source": [
    "## Normal"
   ]
  },
  {
   "cell_type": "markdown",
   "id": "c3585159-6684-45cc-9e09-96bcffe7a901",
   "metadata": {},
   "source": [
    "Исследуйте другой похожий датасет: отток клиентов мобильного оператора."
   ]
  },
  {
   "cell_type": "code",
   "execution_count": null,
   "id": "d7da6b6e-62a0-487f-9cc3-4aab6466dd1b",
   "metadata": {},
   "outputs": [],
   "source": [
    "df = pd.read_csv('telecom_churn.csv')"
   ]
  },
  {
   "cell_type": "code",
   "execution_count": null,
   "id": "a14ae28b-75e7-483d-91e2-13a89fa15391",
   "metadata": {},
   "outputs": [],
   "source": [
    "df.head()"
   ]
  },
  {
   "cell_type": "markdown",
   "id": "5e4f0928-0231-4d42-ab65-9ad70be99d69",
   "metadata": {},
   "source": [
    "Ваша цель - численные столбцы (`ClientPeriod`, `MonthlySpending`, `TotalSpent`).\n",
    "\n",
    "- ознакомьтесь с данными и проведите необходимую предобработку;\n",
    "- проведите исследовательский анализ трех указанных выше признаков (распределение в целом и по лояльным/ушедшим клиентам);\n",
    "- оцените взаимозависимость признаков с помощью матрицы рассеяния.\n",
    "\n",
    "Не забывайте снабжать графики краткими выводами."
   ]
  },
  {
   "cell_type": "code",
   "execution_count": null,
   "id": "08be9b7b-224d-4f12-a27f-9c1a9684ec08",
   "metadata": {},
   "outputs": [],
   "source": [
    "# Ваш код ниже:\n"
   ]
  },
  {
   "cell_type": "markdown",
   "id": "4bdfb5cb-3538-4831-b6e8-2f5b5d161c2f",
   "metadata": {},
   "source": [
    "Вывод: "
   ]
  },
  {
   "cell_type": "markdown",
   "id": "07329c80-e4ca-4652-95bf-5c8dbdbec840",
   "metadata": {},
   "source": [
    "## Hard"
   ]
  },
  {
   "cell_type": "markdown",
   "id": "2ed2138a-9fde-4b7b-9911-61fa4bc6ffdb",
   "metadata": {},
   "source": [
    "Исследуйте датасет \"Титаник\":"
   ]
  },
  {
   "cell_type": "code",
   "execution_count": null,
   "id": "85a453f1-c83b-482a-9175-bea867be61b0",
   "metadata": {},
   "outputs": [],
   "source": [
    "df = pd.read_csv('titanic.csv')"
   ]
  },
  {
   "cell_type": "code",
   "execution_count": null,
   "id": "d5ec6387-8ad2-4fe4-9b27-917ec7b981c8",
   "metadata": {},
   "outputs": [],
   "source": [
    "df.head()"
   ]
  },
  {
   "cell_type": "markdown",
   "id": "d6bd775d-a9b6-474e-a931-2d73f510310a",
   "metadata": {},
   "source": [
    "Подумайте, от каких признаков могли зависеть шансы пассажира спастись (столбец `Survived`)? Проведите исследовательский анализ и выделите хотя бы один, а лучше больше таких признаков.\n",
    "\n",
    "На базе этих признаков постройте логическое выражение, предсказывающее, выжил ли пассажир, и запишите результат в столбец `Predicted`. Например:\n",
    "\n",
    "`df['Predicted'] = (df['Столбец_1'] == 'значение') & (df['Столбец_2'] < 42)`\n",
    "\n",
    "При работе с логическими масками используются [побитовые логические операции](https://docs-python.ru/tutorial/operatsii-chislami-python/bitovye-operatsii-chislami/). Также можно использовать построчный `apply()`.\n",
    "\n",
    "Ваша задача - построить выражение, дающее точность (accuracy) заметно выше бейзлайна."
   ]
  },
  {
   "cell_type": "markdown",
   "id": "765f97cc-e8a1-4dc7-963b-a4e5b7efefe9",
   "metadata": {},
   "source": [
    "### Baseline"
   ]
  },
  {
   "cell_type": "markdown",
   "id": "68de3f8c-397a-4d5b-8cab-a6991991352c",
   "metadata": {},
   "source": [
    "Как известно, большинство пассажиров не выжило. Поэтому объявим бейзлайном \"все умерли\":"
   ]
  },
  {
   "cell_type": "code",
   "execution_count": null,
   "id": "894f58f7-e329-4bb3-b91b-ae39599119e8",
   "metadata": {},
   "outputs": [],
   "source": [
    "df['Predicted'] = 0"
   ]
  },
  {
   "cell_type": "markdown",
   "id": "c2d677dd-1855-4874-b39e-0e75d28f6168",
   "metadata": {},
   "source": [
    "Метрика accuracy соответсвует общей доле правильных ответов:"
   ]
  },
  {
   "cell_type": "code",
   "execution_count": null,
   "id": "bf136ed3-6b36-42d6-977a-6293bb2e3d13",
   "metadata": {},
   "outputs": [],
   "source": [
    "sum(df['Predicted'] == df['Survived']) / len(df)"
   ]
  },
  {
   "cell_type": "markdown",
   "id": "340bb39f-9bea-419d-aca4-6b4d1140236b",
   "metadata": {},
   "source": [
    "Таким образом, базовая точность составляет около 62%."
   ]
  },
  {
   "cell_type": "code",
   "execution_count": null,
   "id": "aec8b53e",
   "metadata": {},
   "outputs": [],
   "source": []
  },
  {
   "cell_type": "markdown",
   "id": "c019edc0-c917-4cae-82fb-7e9f3ca083ed",
   "metadata": {},
   "source": [
    "Не забудьте написать краткий вывод!"
   ]
  }
 ],
 "metadata": {
  "kernelspec": {
   "display_name": "Python 3 (ipykernel)",
   "language": "python",
   "name": "python3"
  },
  "language_info": {
   "codemirror_mode": {
    "name": "ipython",
    "version": 3
   },
   "file_extension": ".py",
   "mimetype": "text/x-python",
   "name": "python",
   "nbconvert_exporter": "python",
   "pygments_lexer": "ipython3",
   "version": "3.11.6"
  },
  "widgets": {
   "application/vnd.jupyter.widget-state+json": {
    "state": {},
    "version_major": 2,
    "version_minor": 0
   }
  }
 },
 "nbformat": 4,
 "nbformat_minor": 5
}
