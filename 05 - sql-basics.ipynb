{
 "cells": [
  {
   "cell_type": "markdown",
   "id": "a6a0def3-c473-40d9-a5fc-0e0503ee02e4",
   "metadata": {},
   "source": [
    "# Извлечение данных"
   ]
  },
  {
   "cell_type": "markdown",
   "id": "b0243336-e5ca-4b9b-9897-96a4c6d6bf42",
   "metadata": {},
   "source": [
    "На этом занятии мы расследуем загадочное убийство с помощью SQL-запросов!"
   ]
  },
  {
   "cell_type": "code",
   "execution_count": null,
   "id": "cdfa2e97-ecc6-49cf-89a0-21298a89ba2e",
   "metadata": {},
   "outputs": [],
   "source": [
    "!git clone https://github.com/NUKnightLab/sql-mysteries.git"
   ]
  },
  {
   "cell_type": "markdown",
   "id": "edc4792d-8128-4b35-9dd5-da9f10aecc7b",
   "metadata": {},
   "source": [
    "[Задание](sql-mysteries/prompt_beginner.pdf)"
   ]
  },
  {
   "cell_type": "markdown",
   "id": "eab2e7ef-f885-49be-b424-990e53d3f834",
   "metadata": {},
   "source": [
    "Схема базы данных:"
   ]
  },
  {
   "cell_type": "markdown",
   "id": "2795b7ff-439a-481f-9ba3-84e7d1e9f3e3",
   "metadata": {},
   "source": [
    "<img src = \"sql-mysteries/schema.png\"/>"
   ]
  },
  {
   "cell_type": "markdown",
   "id": "10ad927b-e93e-44ce-a53b-d00ca0805382",
   "metadata": {},
   "source": [
    "## Подключение и работа с базой данных на примере SQLite"
   ]
  },
  {
   "cell_type": "code",
   "execution_count": null,
   "id": "7dec5395-f2b0-4a96-85bb-ee76f08058e0",
   "metadata": {},
   "outputs": [],
   "source": [
    "import sqlite3\n",
    "import pandas as pd"
   ]
  },
  {
   "cell_type": "code",
   "execution_count": null,
   "id": "237368b3-60dc-4451-918e-96805c8fb88b",
   "metadata": {},
   "outputs": [],
   "source": [
    "connection = sqlite3.connect('sql-mysteries/sql-murder-mystery.db')"
   ]
  },
  {
   "cell_type": "code",
   "execution_count": null,
   "id": "7edf4936-c80f-47b8-bf78-fd9a310c764e",
   "metadata": {},
   "outputs": [],
   "source": [
    "with connection:\n",
    "    message_list = connection.execute(\n",
    "        \"\"\"\n",
    "        SELECT * FROM crime_scene_report\n",
    "        ;\n",
    "        \"\"\"\n",
    "    )"
   ]
  },
  {
   "cell_type": "code",
   "execution_count": null,
   "id": "796927f4-f168-4b86-a1b0-24478b8e5bdc",
   "metadata": {},
   "outputs": [],
   "source": [
    "for n, item in enumerate(message_list):\n",
    "    print(item)\n",
    "    if n > 5:\n",
    "        break"
   ]
  },
  {
   "cell_type": "markdown",
   "id": "7ec4c5b3-a922-4739-a55c-e1976e23d65c",
   "metadata": {},
   "source": [
    "Для подключения к другим серверам можно воспользоваться модулем sqlalchemy:"
   ]
  },
  {
   "cell_type": "code",
   "execution_count": null,
   "id": "7a42424c-d474-4dd6-9d5f-e055f6651eb3",
   "metadata": {},
   "outputs": [],
   "source": [
    "# from sqlalchemy import create_engine\n",
    "# connection = create_engine(\"postgresql:///?User=username&;Password=password&Database=database_name&Server=127.0.0.1&Port=5432\")"
   ]
  },
  {
   "cell_type": "markdown",
   "id": "8f63a123-1fab-417d-a37e-d7124103f9cf",
   "metadata": {},
   "source": [
    "### Работа с подключением через Pandas"
   ]
  },
  {
   "cell_type": "code",
   "execution_count": null,
   "id": "b7a4e66f-4d6e-44b1-afef-6a3abb0df9d4",
   "metadata": {},
   "outputs": [],
   "source": [
    "pd.read_sql(\n",
    "        \"\"\"\n",
    "        SELECT * FROM crime_scene_report\n",
    "        ;\n",
    "        \"\"\",\n",
    "        connection)"
   ]
  },
  {
   "cell_type": "markdown",
   "id": "701ffc92-2d4b-4610-b6ca-0b801d75aaff",
   "metadata": {},
   "source": [
    "### Условия и сортировка в запросе SELECT"
   ]
  },
  {
   "cell_type": "code",
   "execution_count": null,
   "id": "e37ab26d-ee74-4610-b8d8-95dd279fd99c",
   "metadata": {},
   "outputs": [],
   "source": [
    "df = pd.read_sql(\n",
    "        \"\"\"\n",
    "        SELECT * FROM crime_scene_report\n",
    "        WHERE type = \"murder\"\n",
    "        AND date = 20180115\n",
    "        AND city = \"SQL City\"\n",
    "        ;\n",
    "        \"\"\",\n",
    "        connection)"
   ]
  },
  {
   "cell_type": "code",
   "execution_count": null,
   "id": "0fdfeca2-6a7b-47e2-bcdf-30a128bc4705",
   "metadata": {},
   "outputs": [],
   "source": [
    "df"
   ]
  },
  {
   "cell_type": "code",
   "execution_count": null,
   "id": "f238665a-ccb7-4b42-b81c-3e89e1e8caa3",
   "metadata": {},
   "outputs": [],
   "source": [
    "df['description'].loc[0]"
   ]
  },
  {
   "cell_type": "code",
   "execution_count": null,
   "id": "36c040ea-ecc6-4840-af0b-cf0c814ddb34",
   "metadata": {},
   "outputs": [],
   "source": [
    "df = pd.read_sql(\n",
    "        \"\"\"\n",
    "        SELECT * FROM person\n",
    "        ;\n",
    "        \"\"\",\n",
    "        connection)"
   ]
  },
  {
   "cell_type": "code",
   "execution_count": null,
   "id": "5e323a84-81c4-459c-a5f1-91eb73665660",
   "metadata": {},
   "outputs": [],
   "source": [
    "df.head()"
   ]
  },
  {
   "cell_type": "code",
   "execution_count": null,
   "id": "fa3ddb37-6875-41a7-8754-63e89ac59010",
   "metadata": {},
   "outputs": [],
   "source": [
    "pd.read_sql(\n",
    "        \"\"\"\n",
    "        SELECT * FROM person\n",
    "        WHERE address_street_name = \"Northwestern Dr\"\n",
    "        ORDER BY address_number DESC\n",
    "        ;\n",
    "        \"\"\",\n",
    "        connection).head()"
   ]
  },
  {
   "cell_type": "markdown",
   "id": "392cf7c1-e146-4af1-a74e-56f10df9775b",
   "metadata": {},
   "source": [
    "#### Самостоятельная работа\n",
    "\n",
    "Найдите второго свидетеля."
   ]
  },
  {
   "cell_type": "code",
   "execution_count": null,
   "id": "ae649137-d086-4d5b-91f9-df5d41b180f3",
   "metadata": {},
   "outputs": [],
   "source": [
    "## Ваш код ниже:\n"
   ]
  },
  {
   "cell_type": "markdown",
   "id": "45bef6b5-95d7-47f2-bb82-6dca68c8d2c5",
   "metadata": {},
   "source": [
    "### Объединение таблиц"
   ]
  },
  {
   "cell_type": "code",
   "execution_count": null,
   "id": "147c29de-d88a-4bb8-a944-2d8e8c655c18",
   "metadata": {},
   "outputs": [],
   "source": [
    "pd.read_sql(\n",
    "        \"\"\"\n",
    "        SELECT * FROM \n",
    "        person INNER JOIN interview ON person.id = interview.person_id\n",
    "        ;\n",
    "        \"\"\",\n",
    "        connection).head()"
   ]
  },
  {
   "cell_type": "code",
   "execution_count": null,
   "id": "7d9f18c5-3663-4146-8aee-2d52e7c26cf0",
   "metadata": {},
   "outputs": [],
   "source": [
    "df = pd.read_sql(\n",
    "        \"\"\"\n",
    "        SELECT * FROM \n",
    "        person INNER JOIN interview ON person.id = interview.person_id\n",
    "        WHERE id = 14887 or id = 16371\n",
    "        ;\n",
    "        \"\"\",\n",
    "        connection)"
   ]
  },
  {
   "cell_type": "code",
   "execution_count": null,
   "id": "e16a0b42-ace5-45fb-a1dc-6c4402e6f06c",
   "metadata": {},
   "outputs": [],
   "source": [
    "df"
   ]
  },
  {
   "cell_type": "code",
   "execution_count": null,
   "id": "4c660eb8-ab7c-4dd5-a7b0-5007e0cfd724",
   "metadata": {},
   "outputs": [],
   "source": [
    "df['transcript'].loc[0]"
   ]
  },
  {
   "cell_type": "code",
   "execution_count": null,
   "id": "56d8ef8d-5f3b-4a4e-a596-0d8b6bc38307",
   "metadata": {},
   "outputs": [],
   "source": [
    "df['transcript'].loc[1]"
   ]
  },
  {
   "cell_type": "code",
   "execution_count": null,
   "id": "928d8562-04a8-4725-94d5-9149a6fbf3c2",
   "metadata": {},
   "outputs": [],
   "source": [
    "pd.read_sql(\n",
    "        \"\"\"\n",
    "        SELECT * FROM\n",
    "        get_fit_now_member INNER JOIN get_fit_now_check_in ON get_fit_now_member.id = get_fit_now_check_in.membership_id\n",
    "        WHERE id LIKE \"48Z%\"\n",
    "        AND check_in_date = 20180109\n",
    "        ;\n",
    "        \"\"\",\n",
    "        connection)"
   ]
  },
  {
   "cell_type": "code",
   "execution_count": null,
   "id": "c25ca28e-0ac7-44ae-9da8-41b51626a656",
   "metadata": {},
   "outputs": [],
   "source": [
    "pd.read_sql(\n",
    "        \"\"\"\n",
    "        SELECT * FROM\n",
    "        get_fit_now_member INNER JOIN get_fit_now_check_in ON get_fit_now_member.id = get_fit_now_check_in.membership_id\n",
    "        INNER JOIN person ON get_fit_now_member.person_id = person.id\n",
    "        INNER JOIN drivers_license ON person.license_id = drivers_license.id\n",
    "        WHERE get_fit_now_member.id LIKE \"48Z%\"\n",
    "        AND check_in_date = 20180109\n",
    "        ;\n",
    "        \"\"\",\n",
    "        connection)"
   ]
  },
  {
   "cell_type": "code",
   "execution_count": null,
   "id": "ead5ba11-1954-461f-9347-f72c8881418f",
   "metadata": {},
   "outputs": [],
   "source": [
    "with connection:\n",
    "    message_list = connection.execute(\n",
    "        \"\"\"\n",
    "        INSERT INTO solution VALUES (1, 'Jeremy Bowers');\n",
    "        \"\"\"\n",
    "    )   "
   ]
  },
  {
   "cell_type": "code",
   "execution_count": null,
   "id": "d414ad70-17f8-40c8-86cb-50b0657683ae",
   "metadata": {},
   "outputs": [],
   "source": [
    "pd.read_sql(\n",
    "        \"\"\"\n",
    "        SELECT value FROM solution;\n",
    "        \"\"\",\n",
    "        connection)['value'][0]"
   ]
  },
  {
   "cell_type": "code",
   "execution_count": null,
   "id": "5e09053d-b3e7-4fcf-a4f2-b34b5d02230a",
   "metadata": {},
   "outputs": [],
   "source": [
    "df = pd.read_sql(\n",
    "        \"\"\"\n",
    "        SELECT * FROM \n",
    "        person INNER JOIN interview ON person.id = interview.person_id\n",
    "        WHERE id = 67318\n",
    "        ;\n",
    "        \"\"\",\n",
    "        connection)"
   ]
  },
  {
   "cell_type": "code",
   "execution_count": null,
   "id": "a276762a-854c-4593-b9e8-eeb2ac3ee07b",
   "metadata": {},
   "outputs": [],
   "source": [
    "df['transcript'].loc[0]"
   ]
  },
  {
   "cell_type": "code",
   "execution_count": null,
   "id": "21b43faf-224f-462a-a147-e0bc57a1621a",
   "metadata": {},
   "outputs": [],
   "source": [
    "pd.read_sql(\n",
    "        \"\"\"\n",
    "        SELECT AVG(annual_income), MAX(annual_income) FROM \n",
    "        person\n",
    "        LEFT JOIN income ON person.ssn = income.ssn\n",
    "        ;\n",
    "        \"\"\",\n",
    "        connection)"
   ]
  },
  {
   "cell_type": "code",
   "execution_count": null,
   "id": "babc772b-4b4b-4ba7-9f3c-6f8b1f33bdd9",
   "metadata": {},
   "outputs": [],
   "source": [
    "import matplotlib.pyplot as plt\n",
    "import seaborn as sns"
   ]
  },
  {
   "cell_type": "code",
   "execution_count": null,
   "id": "5241092c-f552-4b98-b5fb-a5a467625476",
   "metadata": {},
   "outputs": [],
   "source": [
    "df = pd.read_sql(\n",
    "        \"\"\"\n",
    "        SELECT * FROM \n",
    "        income\n",
    "        ;\n",
    "        \"\"\",\n",
    "        connection)"
   ]
  },
  {
   "cell_type": "code",
   "execution_count": null,
   "id": "fc705c82-4b64-4c95-b177-4c3e5b00c6ff",
   "metadata": {},
   "outputs": [],
   "source": [
    "df.describe()"
   ]
  },
  {
   "cell_type": "code",
   "execution_count": null,
   "id": "c8eb0784-f1e9-497c-8349-d5c19cfc8ed9",
   "metadata": {},
   "outputs": [],
   "source": [
    "translations = {\n",
    "    'annual_income' : 'Годовой доход',\n",
    "}\n",
    "\n",
    "def visualize(column, xlim=None):\n",
    "    xlabel = translations.get(column.name, column.name)\n",
    "    fig, axes = plt.subplots(1, 2, figsize=(16,6))\n",
    "    sns.histplot(column, ax=axes[0], bins='fd', kde=False)\n",
    "    axes[0].set(title='Гистограмма', xlabel=xlabel, ylabel='Наблюдений, шт.', xlim=xlim);\n",
    "    sns.violinplot(column, ax=axes[1], orient='h')\n",
    "    axes[1].set(title='Плотность и размах', xlabel=xlabel, xlim=xlim);\n",
    "    \n",
    "visualize(df['annual_income'])"
   ]
  },
  {
   "cell_type": "code",
   "execution_count": null,
   "id": "dd75f3d7-b2ef-4c10-8402-3fdb26a190d8",
   "metadata": {},
   "outputs": [],
   "source": [
    "pd.read_sql(\n",
    "        \"\"\"\n",
    "        SELECT DISTINCT car_model FROM \n",
    "        drivers_license\n",
    "        ;\n",
    "        \"\"\",\n",
    "        connection)"
   ]
  },
  {
   "cell_type": "markdown",
   "id": "231583d7-175a-4b81-bed6-634c17e0a6eb",
   "metadata": {},
   "source": [
    "### Группировка"
   ]
  },
  {
   "cell_type": "code",
   "execution_count": null,
   "id": "e4603df5-d598-460c-a29c-bf08f1c48a56",
   "metadata": {
    "tags": []
   },
   "outputs": [],
   "source": [
    "pd.read_sql(\n",
    "        \"\"\"\n",
    "        SELECT type, count(*) as count FROM crime_scene_report\n",
    "        GROUP BY type\n",
    "        ;\n",
    "        \"\"\",\n",
    "        connection)"
   ]
  },
  {
   "cell_type": "markdown",
   "id": "e3e70398-71fa-459e-ac10-2f2104a280a9",
   "metadata": {
    "tags": []
   },
   "source": [
    "#### Самостоятельная работа\n",
    "\n",
    "Сделайте аналог value_counts() pandas по моделям автомашин с помощью группировки:"
   ]
  },
  {
   "cell_type": "code",
   "execution_count": null,
   "id": "a30d3db5-d665-4c75-b7d5-39e2418bc0a5",
   "metadata": {},
   "outputs": [],
   "source": [
    "pd.read_sql(\n",
    "        \"\"\"\n",
    "        SELECT * FROM \n",
    "        drivers_license\n",
    "        ;\n",
    "        \"\"\",\n",
    "        connection)['car_model'].value_counts()"
   ]
  },
  {
   "cell_type": "code",
   "execution_count": null,
   "id": "84602f08-c2ee-4f2b-80d4-6cf354d444cf",
   "metadata": {},
   "outputs": [],
   "source": [
    "# Ваш код:\n"
   ]
  },
  {
   "cell_type": "markdown",
   "id": "12096737-75d0-44ad-a325-8c8ce428c53f",
   "metadata": {},
   "source": [
    "### Категоризация с помощью CASE"
   ]
  },
  {
   "cell_type": "code",
   "execution_count": null,
   "id": "457624a5-13a1-4a1a-b030-ac83378f96e9",
   "metadata": {},
   "outputs": [],
   "source": [
    "pd.read_sql(\n",
    "        \"\"\"\n",
    "        SELECT\n",
    "        CASE\n",
    "            WHEN annual_income < 30500 THEN 'Poor'\n",
    "            WHEN annual_income > 30500 AND annual_income < 50800 THEN 'Average' \n",
    "            WHEN annual_income > 50800 AND annual_income < 70800 THEN 'Decent'\n",
    "            WHEN annual_income > 70800 THEN 'Rich'\n",
    "            ELSE 'Unknown'\n",
    "        END\n",
    "        as income_level, \n",
    "        count(person.id)\n",
    "        FROM \n",
    "        person LEFT JOIN drivers_license on drivers_license.id = person.license_id\n",
    "        LEFT JOIN income ON person.ssn = income.ssn\n",
    "        GROUP BY income_level\n",
    "        ;\n",
    "        \"\"\",\n",
    "        connection)"
   ]
  },
  {
   "cell_type": "markdown",
   "id": "2271e608-d7a2-4ee1-8a38-c0a5e3f671d1",
   "metadata": {},
   "source": [
    "### Фильтрация после группировки"
   ]
  },
  {
   "cell_type": "code",
   "execution_count": null,
   "id": "268fbe74-0659-494a-ab50-53f2178b47e0",
   "metadata": {},
   "outputs": [],
   "source": [
    "pd.read_sql(\n",
    "        \"\"\"\n",
    "        SELECT * FROM facebook_event_checkin\n",
    "        ;\n",
    "        \"\"\",\n",
    "        connection)"
   ]
  },
  {
   "cell_type": "code",
   "execution_count": null,
   "id": "22623cc2-4e4d-4be4-8c71-059d80cea3ab",
   "metadata": {},
   "outputs": [],
   "source": [
    "pd.read_sql(\n",
    "        \"\"\"\n",
    "        SELECT person.id, name, COUNT(*) as count FROM \n",
    "        person LEFT JOIN facebook_event_checkin ON person.id = facebook_event_checkin.person_id\n",
    "        LEFT JOIN income ON person.ssn = income.ssn\n",
    "        LEFT JOIN drivers_license ON person.license_id = drivers_license.id\n",
    "        WHERE event_name LIKE \"SQL Symphony Concert\"\n",
    "        AND date LIKE \"201712%\"\n",
    "        GROUP BY person.id, name\n",
    "        HAVING count = 3\n",
    "        ;\n",
    "        \"\"\",\n",
    "        connection)"
   ]
  },
  {
   "cell_type": "code",
   "execution_count": null,
   "id": "a78f61ab-bbcb-425f-881f-46e850c49d7c",
   "metadata": {},
   "outputs": [],
   "source": [
    "pd.read_sql(\n",
    "        \"\"\"\n",
    "        SELECT * FROM \n",
    "        person\n",
    "        LEFT JOIN income ON person.ssn = income.ssn\n",
    "        LEFT JOIN drivers_license ON person.license_id = drivers_license.id\n",
    "        WHERE person.id = 99716\n",
    "        ;\n",
    "        \"\"\",\n",
    "        connection)"
   ]
  },
  {
   "cell_type": "code",
   "execution_count": null,
   "id": "cfc2458f-86a7-4cad-a27d-383a2e0b968d",
   "metadata": {},
   "outputs": [],
   "source": [
    "with connection:\n",
    "    message_list = connection.execute(\n",
    "        \"\"\"\n",
    "        INSERT INTO solution VALUES (1, 'Miranda Priestly');\n",
    "        \"\"\"\n",
    "    )   "
   ]
  },
  {
   "cell_type": "code",
   "execution_count": null,
   "id": "570b56c7-8b35-45df-aae0-0870e50a0e0b",
   "metadata": {},
   "outputs": [],
   "source": [
    "pd.read_sql(\n",
    "        \"\"\"\n",
    "        SELECT value FROM solution;\n",
    "        \"\"\",\n",
    "        connection)['value'][0]"
   ]
  },
  {
   "cell_type": "markdown",
   "id": "a2550082-a28e-4c65-844f-44230d09328f",
   "metadata": {},
   "source": [
    "# Домашнее задание"
   ]
  },
  {
   "cell_type": "markdown",
   "id": "2b574531-ed4b-4c0b-8bb2-b1b8fb4bc9a5",
   "metadata": {},
   "source": [
    "## Easy"
   ]
  },
  {
   "cell_type": "markdown",
   "id": "6cbf94f6-c8ce-49dd-a4b8-c8eb8ec885b8",
   "metadata": {},
   "source": [
    "Рассмотрите таблицу `crime_scene_report` и выведите уникальные категории преступлений (столбец `type`)."
   ]
  },
  {
   "cell_type": "code",
   "execution_count": null,
   "id": "c206e13f-4ff7-4304-bf41-9bcac7a62488",
   "metadata": {},
   "outputs": [],
   "source": [
    "# Ваш код ниже:\n"
   ]
  },
  {
   "cell_type": "markdown",
   "id": "a51979a7-0023-49a9-8743-3990924c48a3",
   "metadata": {},
   "source": [
    "## Normal"
   ]
  },
  {
   "cell_type": "markdown",
   "id": "5ce26a0c-846b-497a-810e-25a31ea14730",
   "metadata": {},
   "source": [
    "Оцените, зависит ли средний доход человека от цвета глаз (для этого вам понадобится объединить три таблицы.)"
   ]
  },
  {
   "cell_type": "code",
   "execution_count": null,
   "id": "d3098ddd-85ba-4642-94cf-f249f866d693",
   "metadata": {},
   "outputs": [],
   "source": [
    "# Ваш код ниже:\n"
   ]
  },
  {
   "cell_type": "markdown",
   "id": "21699808-2011-4887-8bcb-ae38086dacc7",
   "metadata": {},
   "source": [
    "## Hard"
   ]
  },
  {
   "cell_type": "markdown",
   "id": "b544e270-1587-46da-b1d3-8ce235216051",
   "metadata": {},
   "source": [
    "Прикиньте средний доход человека в зависимости от роста. С помощью SQL-запроса выведите значения роста, при которых люди в среднем получают больше, чем те, кто на 1-3 дюйма ниже их."
   ]
  },
  {
   "cell_type": "code",
   "execution_count": null,
   "id": "b3287801-6abb-4686-8a91-fd9c123f1779",
   "metadata": {},
   "outputs": [],
   "source": [
    "# Ваш код ниже:\n"
   ]
  }
 ],
 "metadata": {
  "kernelspec": {
   "display_name": "Python 3 (ipykernel)",
   "language": "python",
   "name": "python3"
  },
  "language_info": {
   "codemirror_mode": {
    "name": "ipython",
    "version": 3
   },
   "file_extension": ".py",
   "mimetype": "text/x-python",
   "name": "python",
   "nbconvert_exporter": "python",
   "pygments_lexer": "ipython3",
   "version": "3.11.6"
  },
  "toc-autonumbering": false,
  "toc-showcode": false,
  "toc-showmarkdowntxt": false,
  "widgets": {
   "application/vnd.jupyter.widget-state+json": {
    "state": {},
    "version_major": 2,
    "version_minor": 0
   }
  }
 },
 "nbformat": 4,
 "nbformat_minor": 5
}
