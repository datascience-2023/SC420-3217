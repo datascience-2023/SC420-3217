{
 "cells": [
  {
   "cell_type": "markdown",
   "id": "318bc5ca-7094-4f86-a8ed-1801a60869b3",
   "metadata": {},
   "source": [
    "# Линейные модели. Задачи регрессии и классификации."
   ]
  },
  {
   "cell_type": "code",
   "execution_count": null,
   "id": "5b358d45-f1c0-432b-82c3-06a64ef930a8",
   "metadata": {},
   "outputs": [],
   "source": [
    "import pandas as pd\n",
    "import numpy as np\n",
    "import matplotlib.pyplot as plt\n",
    "import seaborn as sns\n",
    "\n",
    "from sklearn.model_selection import train_test_split\n",
    "from sklearn.linear_model import LinearRegression, LogisticRegression, SGDRegressor, SGDClassifier, Ridge, Lasso"
   ]
  },
  {
   "cell_type": "markdown",
   "id": "7852a131-78b2-4d42-9b95-dae235e0bed3",
   "metadata": {},
   "source": [
    "## Линейная регрессия"
   ]
  },
  {
   "cell_type": "markdown",
   "id": "596a7671-0176-44c5-9256-2c3caf3e7f5e",
   "metadata": {},
   "source": [
    "### Подготовка данных"
   ]
  },
  {
   "cell_type": "code",
   "execution_count": null,
   "id": "bcc952d8-095b-46f7-abba-4d1ca3ebfc15",
   "metadata": {},
   "outputs": [],
   "source": [
    "df = pd.read_excel('Concrete_Data.xls', sheet_name='Sheet1')"
   ]
  },
  {
   "cell_type": "code",
   "execution_count": null,
   "id": "7b275d49-6ae2-401b-ba96-494d7a7053ab",
   "metadata": {},
   "outputs": [],
   "source": [
    "df.head()"
   ]
  },
  {
   "cell_type": "code",
   "execution_count": null,
   "id": "196d6155-d64a-4571-be2f-65fd7531f1f0",
   "metadata": {},
   "outputs": [],
   "source": [
    "df.describe().T"
   ]
  },
  {
   "cell_type": "code",
   "execution_count": null,
   "id": "16acff4d-341d-4815-bf20-a675e809032c",
   "metadata": {},
   "outputs": [],
   "source": [
    "df = df.rename(lambda x: x.split('(')[0].strip().replace(' ', '_').lower(), axis=1)"
   ]
  },
  {
   "cell_type": "code",
   "execution_count": null,
   "id": "27a8ed71-8e87-45c3-88a0-d9910f902994",
   "metadata": {},
   "outputs": [],
   "source": [
    "df.duplicated().sum()"
   ]
  },
  {
   "cell_type": "code",
   "execution_count": null,
   "id": "82689671-79a3-4bc6-98e0-6351adfe9468",
   "metadata": {},
   "outputs": [],
   "source": [
    "df = df.drop_duplicates()"
   ]
  },
  {
   "cell_type": "code",
   "execution_count": null,
   "id": "9e2e96f7-dacb-4e19-b1d5-341f2c6dc091",
   "metadata": {
    "tags": []
   },
   "outputs": [],
   "source": [
    "fig, ax = plt.subplots(figsize=(8, 6))\n",
    "sns.heatmap(df.corr(), annot=True, cmap='icefire');"
   ]
  },
  {
   "cell_type": "code",
   "execution_count": null,
   "id": "8df9d445-2d74-4776-be01-738bbf2aa4b3",
   "metadata": {},
   "outputs": [],
   "source": [
    "sns.pairplot(df, y_vars='concrete_compressive_strength');"
   ]
  },
  {
   "cell_type": "code",
   "execution_count": null,
   "id": "0cc8d4c7-ac16-4e99-9d0b-c3505ad87a44",
   "metadata": {},
   "outputs": [],
   "source": [
    "df.head()"
   ]
  },
  {
   "cell_type": "markdown",
   "id": "93908bd4-fdde-4209-8295-7272a44e554b",
   "metadata": {},
   "source": [
    "### Подготовка выборок"
   ]
  },
  {
   "cell_type": "code",
   "execution_count": null,
   "id": "c2b7ac0c-948c-4448-b4bc-9090c0a62d85",
   "metadata": {},
   "outputs": [],
   "source": [
    "X_train, X_test, y_train, y_test = train_test_split(df.drop(['concrete_compressive_strength'], axis=1),\n",
    "                                                    df['concrete_compressive_strength'],\n",
    "                                                    test_size=0.2,\n",
    "                                                    random_state=177013,\n",
    "                                                    shuffle=True,\n",
    "                                                    )"
   ]
  },
  {
   "cell_type": "code",
   "execution_count": null,
   "id": "6f5371e8-8412-4ebd-82c3-9aaddd03834a",
   "metadata": {},
   "outputs": [],
   "source": [
    "X_train_b = X_train.copy()\n",
    "X_train_b['bias'] = 1\n",
    "\n",
    "X_test_b = X_test.copy()\n",
    "X_test_b['bias'] = 1"
   ]
  },
  {
   "cell_type": "code",
   "execution_count": null,
   "id": "6041b745-01fe-48ff-b344-c2d506e14867",
   "metadata": {},
   "outputs": [],
   "source": [
    "weights = np.linalg.inv(X_train_b.T @ X_train_b) @ X_train_b.T @ y_train"
   ]
  },
  {
   "cell_type": "code",
   "execution_count": null,
   "id": "9a671807-f54c-477e-b8f4-3bf128f6a8ab",
   "metadata": {},
   "outputs": [],
   "source": [
    "weights.rename(lambda x: df.columns[x] if x != len(weights) - 1 else 'bias')"
   ]
  },
  {
   "cell_type": "code",
   "execution_count": null,
   "id": "64031aa9-f0d1-4008-8c16-6c5c468340c9",
   "metadata": {},
   "outputs": [],
   "source": [
    "y_pred = X_test_b @ weights.values"
   ]
  },
  {
   "cell_type": "code",
   "execution_count": null,
   "id": "8afbbbf9-52eb-4201-a487-41299d60030a",
   "metadata": {},
   "outputs": [],
   "source": [
    "y_pred"
   ]
  },
  {
   "cell_type": "markdown",
   "id": "cd6fcec9-9071-43d6-a6f5-2e26464ae329",
   "metadata": {},
   "source": [
    "## Метрики регрессии"
   ]
  },
  {
   "cell_type": "code",
   "execution_count": null,
   "id": "cf8460af-245a-4629-8026-719f791f62f2",
   "metadata": {},
   "outputs": [],
   "source": [
    "from sklearn.metrics import mean_squared_error, mean_absolute_error, r2_score"
   ]
  },
  {
   "cell_type": "markdown",
   "id": "50e32dcf-141e-4464-85a0-ff58a7550f60",
   "metadata": {},
   "source": [
    "### Среднеквадратичная ошибка (MSE)"
   ]
  },
  {
   "cell_type": "code",
   "execution_count": null,
   "id": "b1c260d6-8220-411f-ba40-9bbc4a35f47b",
   "metadata": {},
   "outputs": [],
   "source": [
    "((y_test - y_pred)**2).mean()"
   ]
  },
  {
   "cell_type": "code",
   "execution_count": null,
   "id": "6321b4c2-6562-4951-8505-56dff18a7c4d",
   "metadata": {},
   "outputs": [],
   "source": [
    "((y_test - y_train.mean())**2).mean()"
   ]
  },
  {
   "cell_type": "code",
   "execution_count": null,
   "id": "e1fc33a9-5f77-40ec-92f8-bc7bf8906c87",
   "metadata": {},
   "outputs": [],
   "source": [
    "mean_squared_error(y_test, y_pred)"
   ]
  },
  {
   "cell_type": "markdown",
   "id": "725d43bf-8028-4d57-a78c-186fa5b1b52b",
   "metadata": {},
   "source": [
    "### Средняя абсолютная ошибка (MAE)"
   ]
  },
  {
   "cell_type": "code",
   "execution_count": null,
   "id": "f438c638-af15-4d03-8186-57c42ef21525",
   "metadata": {},
   "outputs": [],
   "source": [
    "(abs(y_test - y_pred)).mean()"
   ]
  },
  {
   "cell_type": "code",
   "execution_count": null,
   "id": "08484754-bfbe-4c3c-af5d-fb07a7546551",
   "metadata": {},
   "outputs": [],
   "source": [
    "mean_absolute_error(y_test, y_pred)"
   ]
  },
  {
   "cell_type": "markdown",
   "id": "fc63a1d8-e330-4ade-8fce-14ee34756db6",
   "metadata": {},
   "source": [
    "### Коэффициент детерминации ($R^2$)"
   ]
  },
  {
   "cell_type": "code",
   "execution_count": null,
   "id": "b8e8ea66-66c7-43cd-a736-1af05c799004",
   "metadata": {},
   "outputs": [],
   "source": [
    "1 - mean_squared_error(y_test, y_pred) / y_test.var(ddof=0)"
   ]
  },
  {
   "cell_type": "code",
   "execution_count": null,
   "id": "6f4b5d0b-3714-4a2f-941b-62bdd09b6a23",
   "metadata": {},
   "outputs": [],
   "source": [
    "r2_score(y_test, y_pred)"
   ]
  },
  {
   "cell_type": "code",
   "execution_count": null,
   "id": "10465c64-f91b-4730-b3a0-1adb81832ab5",
   "metadata": {},
   "outputs": [],
   "source": [
    "def show_regression_metrics(y_true, y_pred):\n",
    "    print(f'MSE: {mean_squared_error(y_true, y_pred)}')\n",
    "    print(f'MAE: {mean_absolute_error(y_true, y_pred)}')\n",
    "    print(f'R2: {r2_score(y_true, y_pred)}')"
   ]
  },
  {
   "cell_type": "markdown",
   "id": "b53bf50f-af64-4f1b-964f-1fc49ff766d0",
   "metadata": {},
   "source": [
    "## Линейная регрессия в sklearn"
   ]
  },
  {
   "cell_type": "code",
   "execution_count": null,
   "id": "5755f5f7-b467-441f-a310-90d09c60f166",
   "metadata": {},
   "outputs": [],
   "source": [
    "lr = LinearRegression()"
   ]
  },
  {
   "cell_type": "code",
   "execution_count": null,
   "id": "661ec62e-463a-4cb1-8d0c-31f9c29562c8",
   "metadata": {},
   "outputs": [],
   "source": [
    "lr.fit(X_train, y_train)"
   ]
  },
  {
   "cell_type": "code",
   "execution_count": null,
   "id": "451e6779-e9c4-4234-8b17-84ee7057a613",
   "metadata": {},
   "outputs": [],
   "source": [
    "y_pred = lr.predict(X_test)"
   ]
  },
  {
   "cell_type": "code",
   "execution_count": null,
   "id": "c27e1455-787a-46b2-8afe-2145140149a5",
   "metadata": {},
   "outputs": [],
   "source": [
    "show_regression_metrics(y_test, y_pred)"
   ]
  },
  {
   "cell_type": "markdown",
   "id": "04f82124-f217-4cb2-a94c-7cf8c5bb7a00",
   "metadata": {},
   "source": [
    "## Градиентный спуск"
   ]
  },
  {
   "cell_type": "code",
   "execution_count": null,
   "id": "67e4470e-552b-4378-9ff7-734af3afd4ac",
   "metadata": {},
   "outputs": [],
   "source": [
    "from sklearn.preprocessing import StandardScaler, QuantileTransformer, PowerTransformer"
   ]
  },
  {
   "cell_type": "code",
   "execution_count": null,
   "id": "231955e3-dc96-49e1-98b1-529775e62a0e",
   "metadata": {},
   "outputs": [],
   "source": [
    "scaler = StandardScaler()"
   ]
  },
  {
   "cell_type": "code",
   "execution_count": null,
   "id": "c41e5c7c-cb2b-46a2-a536-15ca5710e479",
   "metadata": {},
   "outputs": [],
   "source": [
    "scaler.fit(X_train)"
   ]
  },
  {
   "cell_type": "code",
   "execution_count": null,
   "id": "d3699d23-1612-4ea4-b25e-1d2cca747868",
   "metadata": {},
   "outputs": [],
   "source": [
    "X_train_b = scaler.transform(X_train)\n",
    "X_train_b = np.hstack([X_train_b, np.ones((len(X_train), 1))])"
   ]
  },
  {
   "cell_type": "code",
   "execution_count": null,
   "id": "ba4c21df-a623-419a-8af5-d93189fd34f6",
   "metadata": {},
   "outputs": [],
   "source": [
    "X_test_b = scaler.transform(X_test)\n",
    "X_test_b = np.hstack([X_test_b, np.ones((len(X_test), 1))])"
   ]
  },
  {
   "cell_type": "code",
   "execution_count": null,
   "id": "20f844c1-d565-4090-beb5-e640fc8b6941",
   "metadata": {},
   "outputs": [],
   "source": [
    "weights = np.linalg.inv(X_train_b.T @ X_train_b) @ X_train_b.T @ y_train"
   ]
  },
  {
   "cell_type": "code",
   "execution_count": null,
   "id": "0be48236-dc58-4398-87c8-3262ca9ea43e",
   "metadata": {},
   "outputs": [],
   "source": [
    "pd.Series(weights, index=[df.columns[x] for x in range(len(weights) - 1)] + ['bias'])"
   ]
  },
  {
   "cell_type": "markdown",
   "id": "64699342-ff1b-477e-86bf-87264aa34c96",
   "metadata": {},
   "source": [
    "$$\n",
    "\\frac{\\partial MSE}{\\partial w} = \\frac{\\partial MSE}{\\partial y_{pred}} \\frac{\\partial y_{pred}}{\\partial w}\n",
    "$$"
   ]
  },
  {
   "cell_type": "markdown",
   "id": "488ce440-2c36-425d-a580-c41379c154ee",
   "metadata": {},
   "source": [
    "$$\n",
    "\\frac{\\partial MSE}{\\partial y_{pred}} = \\frac{\\partial(y-y_{pred})^2}{\\partial y_{pred}} = \\frac{\\partial(y^2-2y\\cdot y_{pred}+y_{pred}^2)}{\\partial y_{pred}} = 2(y_{pred} - y)\n",
    "$$\n",
    "\n",
    "$$\n",
    "\\frac{\\partial y_{pred}}{\\partial w} = \\frac{(\\partial X \\cdot w)}{\\partial w} = X\n",
    "$$"
   ]
  },
  {
   "cell_type": "code",
   "execution_count": null,
   "id": "97885fff-c0cf-45e4-bec3-13603d9eab27",
   "metadata": {},
   "outputs": [],
   "source": [
    "num_iterations = 100\n",
    "learning_rate = 1e-4\n",
    "msetrain = []\n",
    "msetest = []\n",
    "checkpoints = []\n",
    "\n",
    "improved_weights = np.zeros(len(X_train.columns) + 1)\n",
    "\n",
    "for _ in range(num_iterations):\n",
    "    preds = X_train_b @ improved_weights\n",
    "    \n",
    "    # d(MSE) / d(preds)\n",
    "    error = preds - y_train \n",
    "    msetrain.append(mean_squared_error(y_train, preds))\n",
    "    msetest.append(mean_squared_error(y_test, X_test_b @ improved_weights))\n",
    "    \n",
    "    # d(MSE) / d(weights)\n",
    "    gradient = X_train_b.T @ error\n",
    "    \n",
    "    improved_weights -= learning_rate * gradient\n",
    "    checkpoints.append(improved_weights)"
   ]
  },
  {
   "cell_type": "code",
   "execution_count": null,
   "id": "9a5cc454-4065-41c7-9edf-f37b35ddcf36",
   "metadata": {},
   "outputs": [],
   "source": [
    "weights"
   ]
  },
  {
   "cell_type": "code",
   "execution_count": null,
   "id": "83ccf300-3cc0-480a-8e45-8e6ecdec50c7",
   "metadata": {},
   "outputs": [],
   "source": [
    "improved_weights"
   ]
  },
  {
   "cell_type": "code",
   "execution_count": null,
   "id": "7b714c25-0f86-458c-9cec-fc71d3c9c974",
   "metadata": {},
   "outputs": [],
   "source": [
    "plt.plot(msetrain);\n",
    "plt.plot(msetest);\n",
    "plt.title('Функция потерь')\n",
    "plt.xlabel('Итерация')\n",
    "plt.ylabel('MSE');\n",
    "plt.legend(['Обучающая выборка', 'Валидационная выборка']);"
   ]
  },
  {
   "cell_type": "code",
   "execution_count": null,
   "id": "c89109d7-4404-4f7e-9fa6-ae0fe4f0bbc5",
   "metadata": {},
   "outputs": [],
   "source": [
    "y_pred = X_test_b @ improved_weights"
   ]
  },
  {
   "cell_type": "code",
   "execution_count": null,
   "id": "0d583fa2-82d4-4c38-ac2c-e23e079f0e69",
   "metadata": {},
   "outputs": [],
   "source": [
    "show_regression_metrics(y_test, y_pred)"
   ]
  },
  {
   "cell_type": "code",
   "execution_count": null,
   "id": "a53bf89b-ee12-4a5b-9d57-8d8db9513696",
   "metadata": {},
   "outputs": [],
   "source": [
    "np.argmin(msetest)"
   ]
  },
  {
   "cell_type": "code",
   "execution_count": null,
   "id": "ea2c787a-5f7c-4271-8403-972da5018dbf",
   "metadata": {},
   "outputs": [],
   "source": [
    "final_weights = checkpoints[np.argmin(msetest)]"
   ]
  },
  {
   "cell_type": "code",
   "execution_count": null,
   "id": "93b257b0-21a4-4caf-bfe6-b7a2358c10e2",
   "metadata": {},
   "outputs": [],
   "source": [
    "y_pred = X_test_b @ final_weights"
   ]
  },
  {
   "cell_type": "code",
   "execution_count": null,
   "id": "1f9622a9-aa55-4234-9cae-288f11aaf088",
   "metadata": {},
   "outputs": [],
   "source": [
    "show_regression_metrics(y_test, y_pred)"
   ]
  },
  {
   "cell_type": "markdown",
   "id": "0c953f20-e5a9-4731-b80a-679c28f861a8",
   "metadata": {},
   "source": [
    "### Градиентный спуск в sklearn"
   ]
  },
  {
   "cell_type": "code",
   "execution_count": null,
   "id": "b7447f3c-d400-428c-a219-976e4b5ef0c3",
   "metadata": {},
   "outputs": [],
   "source": [
    "sgd = SGDRegressor(random_state=177013, penalty=None)"
   ]
  },
  {
   "cell_type": "code",
   "execution_count": null,
   "id": "df16f7d9-dba3-4a17-99ec-512c88cbacd8",
   "metadata": {},
   "outputs": [],
   "source": [
    "sgd.fit(X_train_b, y_train)"
   ]
  },
  {
   "cell_type": "code",
   "execution_count": null,
   "id": "c0420a05-73b3-4c2c-97a4-8fa5e259b246",
   "metadata": {},
   "outputs": [],
   "source": [
    "y_pred = sgd.predict(X_test_b)"
   ]
  },
  {
   "cell_type": "code",
   "execution_count": null,
   "id": "b1deca8e-e5fb-49fd-bebe-d64d5a0c9912",
   "metadata": {},
   "outputs": [],
   "source": [
    "show_regression_metrics(y_test, y_pred)"
   ]
  },
  {
   "cell_type": "markdown",
   "id": "81fa5ff5-7e3d-4b75-b7fe-6c5d575e3b87",
   "metadata": {},
   "source": [
    "## Допущения линейной регрессии"
   ]
  },
  {
   "cell_type": "markdown",
   "id": "5545b444-905e-485d-bf7c-6c61bc72a5a1",
   "metadata": {},
   "source": [
    "- Линейность: подразумевается наличие линейной зависимости (но вы можете преобразовать признаки, чтобы ее обеспечить!).\n",
    "- Слабая экзогенность: выборка не должна зывисеть от внешних факторов, погрешность измерений скажется на погрешности предсказаний.\n",
    "- Отсутствие мультиколлинеарности: признаки не должны сильно коррелировать.\n",
    "- Нормальность ошибки: ошибка предсказания должна распределяться нормально (и иметь матожидание около нуля):"
   ]
  },
  {
   "cell_type": "code",
   "execution_count": null,
   "id": "2c12861f-657c-481c-8abd-b9c8c3fcd235",
   "metadata": {},
   "outputs": [],
   "source": [
    "plt.hist(y_train - lr.predict(X_train), bins='fd');\n",
    "plt.title('Распределение ошибок')\n",
    "plt.xlabel('Ошибка предсказания')\n",
    "plt.ylabel('Количество, шт');"
   ]
  },
  {
   "cell_type": "markdown",
   "id": "abe456d6-9550-427c-9bd3-0dca2003f2ba",
   "metadata": {},
   "source": [
    "- Гомоскедастичность: дисперсия ошибки должна быть постоянной:"
   ]
  },
  {
   "cell_type": "code",
   "execution_count": null,
   "id": "5ac7895d-d529-48e7-8161-0fd198755e22",
   "metadata": {},
   "outputs": [],
   "source": [
    "plt.scatter(y_train, (y_train - lr.predict(X_train)) ** 2);\n",
    "plt.axhline(np.mean((y_train - lr.predict(X_train)) ** 2), color='red', linestyle='--')\n",
    "plt.title('Распределение ошибок')\n",
    "plt.xlabel('Истинное значение')\n",
    "plt.ylabel('Ошибка$^2$');"
   ]
  },
  {
   "cell_type": "markdown",
   "id": "bde7f6af-1fbc-481a-8aa2-12b580440d04",
   "metadata": {},
   "source": [
    "- Независимость ошибок: проверяется с помощью DW-теста (значения статистики в норме от 1.5 до 2.5):"
   ]
  },
  {
   "cell_type": "code",
   "execution_count": null,
   "id": "e1fff530-5f69-402e-be5e-bf93130c3570",
   "metadata": {},
   "outputs": [],
   "source": [
    "from statsmodels.stats.stattools import durbin_watson\n",
    "durbin_watson(y_train - lr.predict(X_train))"
   ]
  },
  {
   "cell_type": "markdown",
   "id": "ce4136ae-ab39-47a8-9ae4-a81ea3e3f3cd",
   "metadata": {},
   "source": [
    "Большинство проблем можно решить одним махом, преобразовав входные данные с целью уменьшить их асимметрию. Обычное шкалирование почти не влияет на аналитическое решение, но необходимо для градиентного спуска. Однако есть методы, которые не только нормализуют данные, но и корректируют их форму:\n",
    "\n",
    "- `PowerTransformer` - параметрический преобразователь, стабилизирующий дисперсию и уменьшающий скошенность методом максимального правдоподобия;\n",
    "- `QuantileTransformer` - непараметрический преобразователь, превращающий распределение в равномерное или нормальное через PPF.\n",
    "\n",
    "Платой за такое удобство является некоторое искажение линейных зависимостей."
   ]
  },
  {
   "cell_type": "code",
   "execution_count": null,
   "id": "3b13ecea-3cb6-435d-a29f-b3de64ce30ac",
   "metadata": {},
   "outputs": [],
   "source": [
    "from sklearn.pipeline import Pipeline"
   ]
  },
  {
   "cell_type": "code",
   "execution_count": null,
   "id": "2e42b3c5-c203-4e03-8508-7db6499759f8",
   "metadata": {},
   "outputs": [],
   "source": [
    "for scaler in [\n",
    "                StandardScaler(),\n",
    "                QuantileTransformer(output_distribution='uniform', random_state=177013),\n",
    "                QuantileTransformer(output_distribution='normal', random_state=177013),\n",
    "                PowerTransformer(),\n",
    "              ]:\n",
    "\n",
    "    pipe = Pipeline([\n",
    "                        ('scaler', scaler),\n",
    "                        ('model', LinearRegression()),\n",
    "                    ])\n",
    "    \n",
    "    \n",
    "    pipe.fit(X_train, y_train)\n",
    "    y_pred = pipe.predict(X_test)\n",
    "    print(f'Предобработка: {scaler}')\n",
    "    show_regression_metrics(y_test, y_pred)\n",
    "    print()"
   ]
  },
  {
   "cell_type": "markdown",
   "id": "12df9684-af41-4c7f-b614-57f27b7b6971",
   "metadata": {},
   "source": [
    "## Регуляризация"
   ]
  },
  {
   "cell_type": "code",
   "execution_count": null,
   "id": "a39088cd-a9e9-4d52-b6e5-66340f640453",
   "metadata": {},
   "outputs": [],
   "source": [
    "for model in [\n",
    "                Lasso(random_state=177013),\n",
    "                Ridge(random_state=177013),\n",
    "              ]:\n",
    "\n",
    "    pipe = Pipeline([\n",
    "                        ('scaler', PowerTransformer()),\n",
    "                        ('model', model),\n",
    "                    ])\n",
    "    \n",
    "    pipe.fit(X_train, y_train)\n",
    "    y_pred = pipe.predict(X_test)\n",
    "    print(f'Модель: {model}, веса: {model.coef_}')\n",
    "    show_regression_metrics(y_test, y_pred)\n",
    "    print()"
   ]
  },
  {
   "cell_type": "markdown",
   "id": "0c5ae706-a5f3-43f9-898e-3d85db397099",
   "metadata": {},
   "source": [
    "# Логистическая регрессия"
   ]
  },
  {
   "cell_type": "markdown",
   "id": "a0bf7873-09df-44b6-973e-2469be0035c5",
   "metadata": {},
   "source": [
    "## Подготовка данных"
   ]
  },
  {
   "cell_type": "code",
   "execution_count": null,
   "id": "978a60a5-6f62-49d5-92da-abb438fda6fa",
   "metadata": {},
   "outputs": [],
   "source": [
    "df = pd.read_csv('titanic.csv')"
   ]
  },
  {
   "cell_type": "code",
   "execution_count": null,
   "id": "b7cd9f38-83aa-4b83-83d2-57266b45298d",
   "metadata": {},
   "outputs": [],
   "source": [
    "df.head()"
   ]
  },
  {
   "cell_type": "code",
   "execution_count": null,
   "id": "27984612-9001-4426-a906-295b48341c49",
   "metadata": {},
   "outputs": [],
   "source": [
    "df.info()"
   ]
  },
  {
   "cell_type": "code",
   "execution_count": null,
   "id": "751dfa8a-35c5-434b-b6c4-9947a0fe99ec",
   "metadata": {},
   "outputs": [],
   "source": [
    "df.duplicated().sum()"
   ]
  },
  {
   "cell_type": "code",
   "execution_count": null,
   "id": "d6d68eb4-112b-4e52-9017-4da88ab1f58c",
   "metadata": {},
   "outputs": [],
   "source": [
    "df = df.drop(['PassengerId', 'Name', 'Ticket', 'Cabin', 'Embarked'], axis=1)"
   ]
  },
  {
   "cell_type": "code",
   "execution_count": null,
   "id": "278e0c98-ed70-4176-adb3-4e2de43c0c18",
   "metadata": {},
   "outputs": [],
   "source": [
    "df['Sex'] = (df['Sex'] == 'male').astype('int')"
   ]
  },
  {
   "cell_type": "code",
   "execution_count": null,
   "id": "24a0fe01-7d31-4fd5-bbbc-98cdd7b7d036",
   "metadata": {},
   "outputs": [],
   "source": [
    "sns.heatmap(df.corr(), annot=True, cmap='icefire');"
   ]
  },
  {
   "cell_type": "code",
   "execution_count": null,
   "id": "ac55b077-96c3-440d-a292-8e883831da8a",
   "metadata": {},
   "outputs": [],
   "source": [
    "sns.pairplot(df[['Age', 'Fare']]);"
   ]
  },
  {
   "cell_type": "code",
   "execution_count": null,
   "id": "d304d0c8-10a4-408b-9f63-7d9818439484",
   "metadata": {},
   "outputs": [],
   "source": [
    "df.groupby('Pclass')['Age'].agg(['count', 'mean', 'median'])"
   ]
  },
  {
   "cell_type": "code",
   "execution_count": null,
   "id": "183a1539-6ea8-4ccd-ad14-3dae3bdf3a4d",
   "metadata": {},
   "outputs": [],
   "source": [
    "df.groupby('SibSp')['Age'].agg(['count', 'mean', 'median', lambda x: x.isna().sum()])"
   ]
  },
  {
   "cell_type": "code",
   "execution_count": null,
   "id": "a355e435-0c40-4f4d-a71d-9bde6182fa03",
   "metadata": {},
   "outputs": [],
   "source": [
    "df['Age'] = df['Age'].fillna(df.groupby(['Pclass', 'SibSp'])['Age'].transform('median'))\n",
    "df = df.dropna()"
   ]
  },
  {
   "cell_type": "code",
   "execution_count": null,
   "id": "9e29e995-5d2a-49f7-a46a-47791b8cc3ca",
   "metadata": {},
   "outputs": [],
   "source": [
    "df.head()"
   ]
  },
  {
   "cell_type": "markdown",
   "id": "f4e09aba-b18d-4362-a0f8-7b29db53b633",
   "metadata": {},
   "source": [
    "## Разбиение на выборки"
   ]
  },
  {
   "cell_type": "code",
   "execution_count": null,
   "id": "e7b46f1a-51a2-4355-83f0-65b08816d378",
   "metadata": {},
   "outputs": [],
   "source": [
    "X_train, X_test, y_train, y_test = train_test_split(df.drop('Survived', axis=1),\n",
    "                                                    df['Survived'],\n",
    "                                                    test_size=0.2,\n",
    "                                                    random_state=177013,\n",
    "                                                    shuffle=True,\n",
    "                                                    stratify=df['Survived'])"
   ]
  },
  {
   "cell_type": "code",
   "execution_count": null,
   "id": "ef7904bc-5f06-47fd-9a37-2e115d1469f4",
   "metadata": {},
   "outputs": [],
   "source": [
    "X_train_b = X_train.copy()\n",
    "X_train_b['bias'] = 1\n",
    "\n",
    "X_test_b = X_test.copy()\n",
    "X_test_b['bias'] = 1"
   ]
  },
  {
   "cell_type": "code",
   "execution_count": null,
   "id": "7be6fa50-6087-4a3a-a507-08d599f684af",
   "metadata": {},
   "outputs": [],
   "source": [
    "weights = np.linalg.inv(X_train_b.T @ X_train_b) @ X_train_b.T @ y_train"
   ]
  },
  {
   "cell_type": "code",
   "execution_count": null,
   "id": "f2499376-336a-448c-97f0-30a737d7510f",
   "metadata": {},
   "outputs": [],
   "source": [
    "weights"
   ]
  },
  {
   "cell_type": "code",
   "execution_count": null,
   "id": "d8f68638-498e-414e-95ae-d1e9e3c5c34c",
   "metadata": {},
   "outputs": [],
   "source": [
    "y_logits = X_test_b @ weights.values"
   ]
  },
  {
   "cell_type": "code",
   "execution_count": null,
   "id": "0e3f8a0c-d038-4396-8c13-a01ffc4852a0",
   "metadata": {},
   "outputs": [],
   "source": [
    "y_logits.describe()"
   ]
  },
  {
   "cell_type": "code",
   "execution_count": null,
   "id": "497b9d7b-9456-43a2-b0a3-7d112b79b2b0",
   "metadata": {},
   "outputs": [],
   "source": [
    "def sigmoid(x):\n",
    "    return 1/(1 + np.exp(-x))"
   ]
  },
  {
   "cell_type": "code",
   "execution_count": null,
   "id": "70f93bf8-3b87-40d9-9264-f77af70ebe15",
   "metadata": {},
   "outputs": [],
   "source": [
    "y_probs = y_logits.apply(sigmoid)"
   ]
  },
  {
   "cell_type": "code",
   "execution_count": null,
   "id": "d62d7934-cdfc-4436-8fd8-83797c715781",
   "metadata": {},
   "outputs": [],
   "source": [
    "((y_probs > 0.5) == y_test).mean()"
   ]
  },
  {
   "cell_type": "code",
   "execution_count": null,
   "id": "47d23f19-6836-4328-8dbc-de7bf133b5f0",
   "metadata": {},
   "outputs": [],
   "source": [
    "1 - df['Survived'].mean()"
   ]
  },
  {
   "cell_type": "code",
   "execution_count": null,
   "id": "1623fe4f-a3a2-4db9-9bc5-cf6e4677b29b",
   "metadata": {},
   "outputs": [],
   "source": [
    "((y_probs > 0.62) == y_test).mean()"
   ]
  },
  {
   "cell_type": "code",
   "execution_count": null,
   "id": "e127c175-4405-4df1-a59a-ea24167cef4f",
   "metadata": {},
   "outputs": [],
   "source": [
    "from sklearn.metrics import accuracy_score"
   ]
  },
  {
   "cell_type": "code",
   "execution_count": null,
   "id": "5fa93c71-674b-423e-a119-d8ab044e23c4",
   "metadata": {},
   "outputs": [],
   "source": [
    "accuracy_score(y_test, (y_probs > 0.62))"
   ]
  },
  {
   "cell_type": "markdown",
   "id": "240740ef-60a4-404e-a52c-f8de92b2bc5e",
   "metadata": {},
   "source": [
    "## Метрики классификации"
   ]
  },
  {
   "cell_type": "code",
   "execution_count": null,
   "id": "4c993d25-cd76-4d48-b510-8bc84884de48",
   "metadata": {},
   "outputs": [],
   "source": [
    "from sklearn.metrics import (f1_score, roc_auc_score, average_precision_score, confusion_matrix, roc_curve,\n",
    "                             precision_recall_curve, classification_report, recall_score, precision_score,\n",
    "                             log_loss, brier_score_loss)"
   ]
  },
  {
   "cell_type": "markdown",
   "id": "65965b2e-a294-40d7-acba-679000b933e3",
   "metadata": {},
   "source": [
    "### Метрики для оценки моделей"
   ]
  },
  {
   "cell_type": "markdown",
   "id": "a36521ec-13f6-40eb-a9a1-4575cec4f935",
   "metadata": {},
   "source": [
    "Для оценки статистической верности моделей нужна метрика, которая будет:\n",
    "\n",
    "- классонезависимой;\n",
    "- порогонезависимой.\n",
    "\n",
    "В качестве альтернативного варианта можно уравнять число представителей класса в обучающей выборке (oversampling, undersampling, параметр `class_weights` в sklearn), чтобы иметь возможность использовать интуитивные метрики с порогом 0.5. Такой подход имеет массу недостатков:\n",
    "\n",
    " - четкий баланс классов еще не гарантирует, что 0.5 будет оптимальным порогом;\n",
    " - на каждый эксперимент с пропорцией требуется переобучить модель;\n",
    " - модель более склонна \"уезжать\" в продакшене.\n",
    " \n",
    "Поэтому **если от вас прямо не требуют обратного, оценивайте модели по \"честным\" метрикам, а \"интуитивные\" оставьте для презентации заказчику.**"
   ]
  },
  {
   "cell_type": "markdown",
   "id": "72ea1285-2f22-446d-9b4a-c2da6fd55352",
   "metadata": {},
   "source": [
    "#### Log loss (кросс-энтропия)"
   ]
  },
  {
   "cell_type": "code",
   "execution_count": null,
   "id": "c50e6a1d-0e73-435c-ab32-12169c4e3235",
   "metadata": {},
   "outputs": [],
   "source": [
    "-(y_test * np.log(y_probs) + (1 - y_test) * np.log(1-y_probs)).mean()"
   ]
  },
  {
   "cell_type": "code",
   "execution_count": null,
   "id": "e2bc39ba-ac52-4d4c-b37a-3b3e0268a74e",
   "metadata": {},
   "outputs": [],
   "source": [
    "log_loss(y_test, y_probs)"
   ]
  },
  {
   "cell_type": "markdown",
   "id": "51449430-8431-4b44-8ab8-96fdf9087314",
   "metadata": {},
   "source": [
    "#### Показатель Брайера для бинарной классификации"
   ]
  },
  {
   "cell_type": "code",
   "execution_count": null,
   "id": "16a5bbe1-d5e8-4897-865c-9c712698eeeb",
   "metadata": {},
   "outputs": [],
   "source": [
    "mean_squared_error(y_test, y_probs)"
   ]
  },
  {
   "cell_type": "code",
   "execution_count": null,
   "id": "cda84b01-dd9d-4ba8-9ca7-fe8e749edbd0",
   "metadata": {},
   "outputs": [],
   "source": [
    "brier_score_loss(y_test, y_probs)"
   ]
  },
  {
   "cell_type": "markdown",
   "id": "0a452421-2d84-4a3b-b30b-bd08e3761bb0",
   "metadata": {},
   "source": [
    "### Метрики для презентации. Матрица ошибок."
   ]
  },
  {
   "cell_type": "code",
   "execution_count": null,
   "id": "cff2807c-1122-4a64-90bc-2ff364ac502c",
   "metadata": {},
   "outputs": [],
   "source": [
    "def calculate_metrics(target_test, probabilities):\n",
    "    cmatrix = confusion_matrix(target_test, probabilities > 0.5)\n",
    "\n",
    "    ap = average_precision_score(target_test, probabilities)\n",
    "    fpr, tpr, _ = roc_curve(target_test, probabilities)\n",
    "    roc_auc = roc_auc_score(target_test, probabilities)\n",
    "\n",
    "    precision, recall, thresholds = precision_recall_curve(target_test, probabilities)\n",
    "    f_scores = 2 * recall * precision / (recall + precision)\n",
    "    best_thresh = thresholds[np.argmax(f_scores)]\n",
    "    best_f = np.max(f_scores)\n",
    "    best_acc = accuracy_score(target_test, (probabilities > best_thresh))\n",
    "    best_cmatrix = confusion_matrix(target_test, (probabilities > best_thresh))\n",
    "\n",
    "    return best_f, roc_auc, best_acc, ap, best_thresh, fpr, tpr, recall, precision, cmatrix, best_cmatrix"
   ]
  },
  {
   "cell_type": "code",
   "execution_count": null,
   "id": "2631685b-57b6-4e00-bb88-9bff548be17c",
   "metadata": {},
   "outputs": [],
   "source": [
    "def visualize(target_test, probabilities):\n",
    "    fig, axes = plt.subplots(1, 2, figsize=(12,5))\n",
    "    axes[0].plot([0, 1], linestyle='--')\n",
    "    axes[1].plot([0.5, 0.5], linestyle='--')\n",
    "\n",
    "    best_f, roc_auc, acc, ap, best_thresh, fpr, tpr, recall, precision, cmatrix, best_cmatrix = calculate_metrics(target_test, probabilities)\n",
    "    print(f'ROC_AUC: {roc_auc:.2f}, AP (PR_AUC): {ap:.2f}, наилучший F1: {best_f:.2f} с порогом {best_thresh:.2f} (accuracy {acc:.2f})')\n",
    "    axes[0].plot (fpr, tpr);\n",
    "    axes[1].plot (recall, precision);\n",
    "\n",
    "    axes[0].set (xlabel='FPR', ylabel='TPR', title='ROC-кривая', xlim=(0,1), ylim=(0,1))\n",
    "    axes[1].set (xlabel='Recall', ylabel='Precision', title='PR-кривая', xlim=(0,1), ylim=(0,1))\n",
    "    plt.show()\n",
    "    fig, axes = plt.subplots(1, 2, figsize=(12,4))\n",
    "    sns.heatmap(cmatrix, ax=axes[0], annot=True, cmap='Blues', fmt='d').set(title='Матрица ошибок', xlabel='Предсказание', ylabel='Реальность')\n",
    "    sns.heatmap(best_cmatrix, ax=axes[1], annot=True, cmap='Blues', fmt='d').set(title='Матрица ошибок (оптимальный порог)', xlabel='Предсказание', ylabel='Реальность')\n",
    "\n",
    "    \n",
    "    return best_thresh"
   ]
  },
  {
   "cell_type": "markdown",
   "id": "7e376721-414a-45a3-a9b8-67804b3d29e5",
   "metadata": {},
   "source": [
    "#### Порогозависимые метрики."
   ]
  },
  {
   "cell_type": "markdown",
   "id": "15b0a8ba-24e3-4543-a881-516e8d9db3b3",
   "metadata": {},
   "source": [
    "На каждом возможном пороге (а их число равно числу уникальных скоров в `predict_proba()` + 1 (как правило, это порого, равный нулю, на котором все классифицируется как положительный класс)) существует своя матрица ошибок и как следствие, много производных от нее метрик:\n",
    "\n",
    "- **accuracy**: она нам уже знакома, это просто процент верно угаданных случаев;\n",
    "- **recall**, он же **TPR** (True Positive Rate): TP/(TP + FN) - процент от реальных случаев положительного класса, которые модель обнаружила;\n",
    "- **precision**: TP / (TP + FP) - процент от предсказанных случаев положительного класса, которые были верными;\n",
    "- **F1**: среднегармоническое recall и precision."
   ]
  },
  {
   "cell_type": "markdown",
   "id": "1f085fc3-9b84-44e7-a52f-e174e31f5781",
   "metadata": {},
   "source": [
    "#### Порогонезависимые метрики. ROC-кривая. PR-кривая."
   ]
  },
  {
   "cell_type": "markdown",
   "id": "e0ef7700-0b3f-4127-b2c2-cc55bd201ec8",
   "metadata": {},
   "source": [
    "Метрики, суммарные по всем порогам положительного класса, будут порогонезависимы (хотя и классоспецифичны). Наиболее часто используются площади под параметрическими кривыми:\n",
    "\n",
    "- **ROC_AUC**: строится кривая FRP (FP/TN + FP) и TPR по всем порогам. Считается площадь под кривой.\n",
    "- **Average precision (PR_AUC)**: строится кривая recall и precision по всем порогам. Считается площадь под кривой.\n",
    "\n",
    "Также мы можем с их помощью выбрать порог, где соотношение этих метрик оптимально (например, дает наибольшую F1)."
   ]
  },
  {
   "cell_type": "code",
   "execution_count": null,
   "id": "2fb310e8-6828-4912-9975-1708046eaab5",
   "metadata": {},
   "outputs": [],
   "source": [
    "visualize(y_test, y_probs);"
   ]
  },
  {
   "cell_type": "markdown",
   "id": "3dec8f96-308c-41ca-a479-190e38b82fc3",
   "metadata": {},
   "source": [
    "**Подбор оптимального порога относится к этапу принятия решения. Его следует проводить в финале исследования (ведь на практике может быть, к примеру, и несколько порогов с разными действиями).**"
   ]
  },
  {
   "cell_type": "markdown",
   "id": "9022d862-9846-4763-953f-f618b179c5d0",
   "metadata": {},
   "source": [
    "## Логистическая регрессия в sklearn"
   ]
  },
  {
   "cell_type": "code",
   "execution_count": null,
   "id": "caea9841-c2d3-4dc9-b5c6-c822ed6da006",
   "metadata": {},
   "outputs": [],
   "source": [
    "lr = LogisticRegression(random_state=177013, penalty=None)"
   ]
  },
  {
   "cell_type": "code",
   "execution_count": null,
   "id": "8678101e-8014-453c-8922-cf848a9a6922",
   "metadata": {},
   "outputs": [],
   "source": [
    "lr.fit(X_train, y_train)"
   ]
  },
  {
   "cell_type": "code",
   "execution_count": null,
   "id": "c1fee75e-bb0e-49f6-bd6d-121a68f2066b",
   "metadata": {},
   "outputs": [],
   "source": [
    "y_probs = lr.predict_proba(X_test)"
   ]
  },
  {
   "cell_type": "code",
   "execution_count": null,
   "id": "ca31d812-fb98-41e1-8d97-a672ad71c74b",
   "metadata": {},
   "outputs": [],
   "source": [
    "y_probs[:5]"
   ]
  },
  {
   "cell_type": "code",
   "execution_count": null,
   "id": "831ea27d-f96b-4cfd-bc3f-838e7d125c03",
   "metadata": {},
   "outputs": [],
   "source": [
    "visualize(y_test, y_probs[:,1]);"
   ]
  },
  {
   "cell_type": "code",
   "execution_count": null,
   "id": "08594798-bedb-4147-a116-14912b24c120",
   "metadata": {},
   "outputs": [],
   "source": [
    "lr.coef_"
   ]
  },
  {
   "cell_type": "code",
   "execution_count": null,
   "id": "da4b9c4e-b42b-4752-8175-c489266032a9",
   "metadata": {},
   "outputs": [],
   "source": [
    "lr.intercept_"
   ]
  },
  {
   "cell_type": "markdown",
   "id": "3e36b26f-465a-4c97-b855-f420ec806983",
   "metadata": {},
   "source": [
    "## Градиентный спуск"
   ]
  },
  {
   "cell_type": "code",
   "execution_count": null,
   "id": "1802e81a-15e4-4812-9721-6a4d29f41b60",
   "metadata": {},
   "outputs": [],
   "source": [
    "scaler.fit(X_train)\n",
    "X_train_b = scaler.transform(X_train)\n",
    "X_train_b = np.hstack([X_train_b, np.ones((len(X_train), 1))])\n",
    "X_test_b = scaler.transform(X_test)\n",
    "X_test_b = np.hstack([X_test_b, np.ones((len(X_test), 1))])"
   ]
  },
  {
   "cell_type": "code",
   "execution_count": null,
   "id": "d320e78d-0572-4a46-8271-993c01774bcb",
   "metadata": {},
   "outputs": [],
   "source": [
    "num_iterations = 100\n",
    "learning_rate = 1e-4\n",
    "nlltrain = []\n",
    "nlltest = []\n",
    "checkpoints = []\n",
    "\n",
    "improved_weights = np.zeros(len(X_train.columns) + 1)\n",
    "\n",
    "for _ in range(num_iterations):\n",
    "    logits = X_train_b @ improved_weights\n",
    "    \n",
    "    probabilities = sigmoid(logits)\n",
    "    \n",
    "    error = probabilities - y_train\n",
    "    nlltrain.append(log_loss(y_train, probabilities).mean())\n",
    "    nlltest.append(log_loss(y_test, sigmoid(X_test_b @ improved_weights)).mean())\n",
    "    \n",
    "    gradient = X_train_b.T @ error\n",
    "    \n",
    "    improved_weights -= learning_rate * gradient\n",
    "    checkpoints.append(improved_weights)"
   ]
  },
  {
   "cell_type": "code",
   "execution_count": null,
   "id": "96027135-b482-4e77-b3e3-721fadbed8dd",
   "metadata": {},
   "outputs": [],
   "source": [
    "improved_weights"
   ]
  },
  {
   "cell_type": "code",
   "execution_count": null,
   "id": "cf8753a2-26e4-46bb-a70b-aa9b63862455",
   "metadata": {},
   "outputs": [],
   "source": [
    "plt.plot(nlltrain);\n",
    "plt.plot(nlltest);\n",
    "plt.title('Функция потерь')\n",
    "plt.xlabel('Итерация')\n",
    "plt.ylabel('NLL');\n",
    "plt.legend(['Обучающая выборка', 'Валидационная выборка']);"
   ]
  },
  {
   "cell_type": "code",
   "execution_count": null,
   "id": "034f3076-8ad6-4588-8fd0-5b711981b70a",
   "metadata": {},
   "outputs": [],
   "source": [
    "y_logits = X_test_b @ improved_weights\n",
    "y_probs = sigmoid(y_logits)"
   ]
  },
  {
   "cell_type": "code",
   "execution_count": null,
   "id": "fa32ba3c-40db-45a6-b70f-9efe679575d9",
   "metadata": {},
   "outputs": [],
   "source": [
    "accuracy_score(y_test, (y_probs > 0.5))"
   ]
  },
  {
   "cell_type": "code",
   "execution_count": null,
   "id": "2ad65ff1-7e42-4ea9-9b17-a8e43b910615",
   "metadata": {},
   "outputs": [],
   "source": [
    "np.argmin(msetest)"
   ]
  },
  {
   "cell_type": "code",
   "execution_count": null,
   "id": "e2528b40-361e-4609-b1eb-623f85d94476",
   "metadata": {},
   "outputs": [],
   "source": [
    "final_weights = checkpoints[np.argmin(msetest)]"
   ]
  },
  {
   "cell_type": "code",
   "execution_count": null,
   "id": "c22456a7-26a2-45ac-9be6-4b40c079e1bb",
   "metadata": {},
   "outputs": [],
   "source": [
    "y_logits = X_test_b @ final_weights\n",
    "y_probs = sigmoid(y_logits)"
   ]
  },
  {
   "cell_type": "code",
   "execution_count": null,
   "id": "e9a57162-1452-40db-ae48-a23b189e4693",
   "metadata": {},
   "outputs": [],
   "source": [
    "visualize(y_test, y_probs);"
   ]
  },
  {
   "cell_type": "markdown",
   "id": "7a5828fd-7d58-4a13-8aa5-3b220b41cd84",
   "metadata": {},
   "source": [
    "### Градиентный спуск в sklearn"
   ]
  },
  {
   "cell_type": "code",
   "execution_count": null,
   "id": "6d251690-4c5c-49af-9fce-e12193b46883",
   "metadata": {},
   "outputs": [],
   "source": [
    "sgd = SGDClassifier(random_state=177013, penalty=None, loss='log_loss', learning_rate='constant', eta0=1e-3)"
   ]
  },
  {
   "cell_type": "code",
   "execution_count": null,
   "id": "c5c13be2-61aa-424e-b44d-d2816bb3730d",
   "metadata": {},
   "outputs": [],
   "source": [
    "sgd.fit(X_train_b, y_train)"
   ]
  },
  {
   "cell_type": "code",
   "execution_count": null,
   "id": "aab4931a-d032-4e20-a239-773258c0998f",
   "metadata": {},
   "outputs": [],
   "source": [
    "y_probs = sgd.predict_proba(X_test_b)\n",
    "y_pred = sgd.predict(X_test_b)"
   ]
  },
  {
   "cell_type": "code",
   "execution_count": null,
   "id": "5a056d3c-22fe-4f71-ad70-e4d66ef65814",
   "metadata": {},
   "outputs": [],
   "source": [
    "visualize(y_test, y_probs[:,1]);"
   ]
  },
  {
   "cell_type": "markdown",
   "id": "132e8c01-76d1-4da1-8754-e090b9abdaa8",
   "metadata": {},
   "source": [
    "## Регуляризация"
   ]
  },
  {
   "cell_type": "code",
   "execution_count": null,
   "id": "1eab6859-2a4c-4efd-a2da-50628a9d7428",
   "metadata": {},
   "outputs": [],
   "source": [
    "lr = LogisticRegression(random_state=177013, penalty='l2')"
   ]
  },
  {
   "cell_type": "code",
   "execution_count": null,
   "id": "3b0f2f6c-7f10-4c52-95e5-1a27331566d3",
   "metadata": {},
   "outputs": [],
   "source": [
    "lr.fit(X_train, y_train)"
   ]
  },
  {
   "cell_type": "code",
   "execution_count": null,
   "id": "14c54741-c58b-4963-a0ae-a0413bb4cb49",
   "metadata": {},
   "outputs": [],
   "source": [
    "y_probs = lr.predict_proba(X_test)"
   ]
  },
  {
   "cell_type": "code",
   "execution_count": null,
   "id": "56d7ad4d-e956-44d4-9610-6fd743bab118",
   "metadata": {},
   "outputs": [],
   "source": [
    "y_probs[:5]"
   ]
  },
  {
   "cell_type": "code",
   "execution_count": null,
   "id": "8be37d7f-c156-4554-99b9-6e67cffb2d4a",
   "metadata": {},
   "outputs": [],
   "source": [
    "visualize(y_test, y_probs[:,1]);"
   ]
  },
  {
   "cell_type": "markdown",
   "id": "76c3f503-cab2-49d7-a67d-7c155c31e098",
   "metadata": {},
   "source": [
    "## Допущения логистической регрессии"
   ]
  },
  {
   "cell_type": "markdown",
   "id": "04c33e08-726d-49f7-83fd-f5c04b21ac47",
   "metadata": {},
   "source": [
    "По сравнению с обычной линейной регрессией, логистическая НЕ требует:\n",
    "\n",
    "- гомоскедастичности;\n",
    "- нормальности ошибок;\n",
    "- поскольку результат проходит через логистическую функцию, линейная зависимость нужна для логитов, а не самого целевого признака, который бинарен."
   ]
  },
  {
   "cell_type": "markdown",
   "id": "b923ef7b-db88-475a-9255-ecc821bd5d1d",
   "metadata": {},
   "source": [
    "# Домашнее задание"
   ]
  },
  {
   "cell_type": "markdown",
   "id": "b1b19220-2abf-4b05-b9b1-4fddd753c8e6",
   "metadata": {},
   "source": [
    "## Easy"
   ]
  },
  {
   "cell_type": "markdown",
   "id": "34583ea0-20a9-4af8-83b6-3b3a197c8443",
   "metadata": {},
   "source": [
    "С помощью sklearn можно генерировать простые датасеты для тестирования моделей:"
   ]
  },
  {
   "cell_type": "code",
   "execution_count": null,
   "id": "b5859cb7-ba46-4e8e-a0b5-39d3a4d6a030",
   "metadata": {},
   "outputs": [],
   "source": [
    "from sklearn.datasets import make_classification\n",
    "\n",
    "X, y = make_classification(n_samples=10000, n_features=20, n_informative=10, n_classes=2)\n",
    "X_train, y_train = X[:8000], y[:8000]\n",
    "X_test, y_test = X[8000:], y[8000:]"
   ]
  },
  {
   "cell_type": "markdown",
   "id": "45462637-04cb-4a19-9f7b-8d6509ebe333",
   "metadata": {},
   "source": [
    "Воспользуйтесь примером из урока и постройте модель логистической регрессии. Проверьте метрику F1 с порогом по умолчанию."
   ]
  },
  {
   "cell_type": "code",
   "execution_count": null,
   "id": "bbe2575e-67ef-488b-8fdb-a495359ff193",
   "metadata": {},
   "outputs": [],
   "source": [
    "# Ваш код ниже:\n"
   ]
  },
  {
   "cell_type": "markdown",
   "id": "a77f6fd5-c784-4159-a21c-8f34865ba8d5",
   "metadata": {},
   "source": [
    "## Normal"
   ]
  },
  {
   "cell_type": "markdown",
   "id": "fac89cab-cf65-43f7-a253-d4047c2491d9",
   "metadata": {},
   "source": [
    "Вернитесь к датасету о клиентах банка. Подумайте, как преобразовать категории в числа (если не справитесь, можете их удалить, мы рассмотрим этот вопрос подробнее на следующем уроке).\n",
    "\n",
    "Выделите обучающую и валидационную выборки.\n",
    "\n",
    "Постройте модель логистической регрессии для предсказания признака `Exited`."
   ]
  },
  {
   "cell_type": "code",
   "execution_count": null,
   "id": "7b755da1-de2a-48ff-a72a-21583b3a03f4",
   "metadata": {},
   "outputs": [],
   "source": [
    "# Ваш код ниже:\n"
   ]
  },
  {
   "cell_type": "markdown",
   "id": "e454d513-18e4-4e82-afa1-f60b2b4ad58b",
   "metadata": {},
   "source": [
    "Проверьте метрику F1 с порогом по умолчанию. Попробуйте найти хороший порог классификации с помощью PR-кривой."
   ]
  },
  {
   "cell_type": "code",
   "execution_count": null,
   "id": "fda3849d-2493-4c5e-9fc0-24503e64fd39",
   "metadata": {},
   "outputs": [],
   "source": [
    "# Ваш код ниже:\n"
   ]
  },
  {
   "cell_type": "markdown",
   "id": "a9c12a49-be79-4697-a9f5-833c8fdd3c33",
   "metadata": {},
   "source": [
    "Напишите краткий вывод. Хорошо ли работает модель? Если нет, то как вы думаете, почему?"
   ]
  },
  {
   "cell_type": "markdown",
   "id": "16d85f91-8d25-437e-a06b-955c03011cf5",
   "metadata": {},
   "source": [
    "Вывод: "
   ]
  },
  {
   "cell_type": "markdown",
   "id": "444d1002-ea3b-4274-9ceb-64580902d4b0",
   "metadata": {},
   "source": [
    "## Hard"
   ]
  },
  {
   "cell_type": "code",
   "execution_count": null,
   "id": "745f2880-1868-46e4-86d4-3498730e7dec",
   "metadata": {},
   "outputs": [],
   "source": [
    "from sklearn.datasets import make_regression\n",
    "\n",
    "X, y = make_regression(n_samples=10000, n_features=20, n_informative=10)\n",
    "X_train, y_train = X[:8000], y[:8000]\n",
    "X_test, y_test = X[8000:], y[8000:]"
   ]
  },
  {
   "cell_type": "markdown",
   "id": "386f7969-2ebb-4509-beca-76cc95039008",
   "metadata": {},
   "source": [
    "1. Постройте модель линейной регрессии. Оцените метрику на тестовой выборке."
   ]
  },
  {
   "cell_type": "code",
   "execution_count": null,
   "id": "82b8b13f-be35-4a88-ab1f-3f14025dec9d",
   "metadata": {},
   "outputs": [],
   "source": [
    "# Ваш код ниже:\n"
   ]
  },
  {
   "cell_type": "markdown",
   "id": "bc55542a-bd20-4d05-9bda-bccfa9274a42",
   "metadata": {},
   "source": [
    "2. Сгенерируйте случайную матрицу 20х20 (можно воспользоваться `sklearn.datasets.make_spd_matrix()`). Проверьте ее на невырожденность (`np.linalg.det()` не должен равняться 0).\n",
    "\n",
    "    Умножьте X_train и X_test на эту матрицу. Постройте модель линейной регрессии по этим преобразованным данным.\n",
    "\n",
    "    Проверьте метрику. Что вы наблюдаете?"
   ]
  },
  {
   "cell_type": "code",
   "execution_count": null,
   "id": "dbabee57",
   "metadata": {},
   "outputs": [],
   "source": [
    "# Ваш код ниже:\n"
   ]
  },
  {
   "cell_type": "markdown",
   "id": "6651477d-4e52-47ff-95cd-ead56a987814",
   "metadata": {},
   "source": [
    "С помощью линейной алгебры и формул линейной регрессии объясните, почему так происходит."
   ]
  },
  {
   "cell_type": "markdown",
   "id": "af9373fe-1086-4c3e-8f96-62e0319d984a",
   "metadata": {},
   "source": []
  }
 ],
 "metadata": {
  "kernelspec": {
   "display_name": "Python 3 (ipykernel)",
   "language": "python",
   "name": "python3"
  },
  "language_info": {
   "codemirror_mode": {
    "name": "ipython",
    "version": 3
   },
   "file_extension": ".py",
   "mimetype": "text/x-python",
   "name": "python",
   "nbconvert_exporter": "python",
   "pygments_lexer": "ipython3",
   "version": "3.11.6"
  },
  "widgets": {
   "application/vnd.jupyter.widget-state+json": {
    "state": {},
    "version_major": 2,
    "version_minor": 0
   }
  }
 },
 "nbformat": 4,
 "nbformat_minor": 5
}
