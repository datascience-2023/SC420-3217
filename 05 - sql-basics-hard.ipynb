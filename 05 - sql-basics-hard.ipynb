{
 "cells": [
  {
   "cell_type": "markdown",
   "id": "a6a0def3-c473-40d9-a5fc-0e0503ee02e4",
   "metadata": {},
   "source": [
    "# Извлечение данных"
   ]
  },
  {
   "cell_type": "markdown",
   "id": "b0243336-e5ca-4b9b-9897-96a4c6d6bf42",
   "metadata": {},
   "source": [
    "На этом занятии мы расследуем загадочное убийство с помощью SQL-запросов!"
   ]
  },
  {
   "cell_type": "code",
   "execution_count": null,
   "id": "cdfa2e97-ecc6-49cf-89a0-21298a89ba2e",
   "metadata": {},
   "outputs": [],
   "source": [
    "!git clone https://github.com/NUKnightLab/sql-mysteries.git"
   ]
  },
  {
   "cell_type": "markdown",
   "id": "edc4792d-8128-4b35-9dd5-da9f10aecc7b",
   "metadata": {},
   "source": [
    "[Задание](sql-mysteries/prompt_beginner.pdf)"
   ]
  },
  {
   "cell_type": "markdown",
   "id": "eab2e7ef-f885-49be-b424-990e53d3f834",
   "metadata": {},
   "source": [
    "Схема базы данных:"
   ]
  },
  {
   "cell_type": "markdown",
   "id": "2795b7ff-439a-481f-9ba3-84e7d1e9f3e3",
   "metadata": {},
   "source": [
    "<img src = \"sql-mysteries/schema.png\"/>"
   ]
  },
  {
   "cell_type": "markdown",
   "id": "10ad927b-e93e-44ce-a53b-d00ca0805382",
   "metadata": {},
   "source": [
    "## Подключение и работа с базой данных на примере SQLite"
   ]
  },
  {
   "cell_type": "code",
   "execution_count": null,
   "id": "7dec5395-f2b0-4a96-85bb-ee76f08058e0",
   "metadata": {},
   "outputs": [],
   "source": [
    "import sqlite3\n",
    "import pandas as pd"
   ]
  },
  {
   "cell_type": "code",
   "execution_count": null,
   "id": "237368b3-60dc-4451-918e-96805c8fb88b",
   "metadata": {},
   "outputs": [],
   "source": [
    "connection = sqlite3.connect('sql-mysteries/sql-murder-mystery.db')"
   ]
  },
  {
   "cell_type": "code",
   "execution_count": null,
   "id": "7edf4936-c80f-47b8-bf78-fd9a310c764e",
   "metadata": {},
   "outputs": [],
   "source": [
    "with connection:\n",
    "    message_list = connection.execute(\n",
    "        \"\"\"\n",
    "        SELECT * FROM crime_scene_report\n",
    "        ;\n",
    "        \"\"\"\n",
    "    )"
   ]
  },
  {
   "cell_type": "code",
   "execution_count": null,
   "id": "796927f4-f168-4b86-a1b0-24478b8e5bdc",
   "metadata": {},
   "outputs": [],
   "source": [
    "for n, item in enumerate(message_list):\n",
    "    print(item)\n",
    "    if n > 5:\n",
    "        break"
   ]
  },
  {
   "cell_type": "markdown",
   "id": "7ec4c5b3-a922-4739-a55c-e1976e23d65c",
   "metadata": {},
   "source": [
    "Для подключения к другим серверам можно воспользоваться модулем sqlalchemy:"
   ]
  },
  {
   "cell_type": "code",
   "execution_count": null,
   "id": "7a42424c-d474-4dd6-9d5f-e055f6651eb3",
   "metadata": {},
   "outputs": [],
   "source": [
    "# from sqlalchemy import create_engine\n",
    "# connection = create_engine(\"postgresql:///?User=username&;Password=password&Database=database_name&Server=127.0.0.1&Port=5432\")"
   ]
  },
  {
   "cell_type": "markdown",
   "id": "8f63a123-1fab-417d-a37e-d7124103f9cf",
   "metadata": {},
   "source": [
    "### Работа с подключением через Pandas"
   ]
  },
  {
   "cell_type": "code",
   "execution_count": null,
   "id": "b7a4e66f-4d6e-44b1-afef-6a3abb0df9d4",
   "metadata": {},
   "outputs": [],
   "source": [
    "pd.read_sql(\n",
    "        \"\"\"\n",
    "        SELECT * FROM crime_scene_report\n",
    "        ;\n",
    "        \"\"\",\n",
    "        connection)"
   ]
  },
  {
   "cell_type": "markdown",
   "id": "a2550082-a28e-4c65-844f-44230d09328f",
   "metadata": {},
   "source": [
    "# Домашнее задание"
   ]
  },
  {
   "cell_type": "markdown",
   "id": "2b574531-ed4b-4c0b-8bb2-b1b8fb4bc9a5",
   "metadata": {},
   "source": [
    "## Easy"
   ]
  },
  {
   "cell_type": "markdown",
   "id": "6cbf94f6-c8ce-49dd-a4b8-c8eb8ec885b8",
   "metadata": {},
   "source": [
    "Рассмотрите таблицу `crime_scene_report` и выведите уникальные категории преступлений (столбец `type`)."
   ]
  },
  {
   "cell_type": "code",
   "execution_count": null,
   "id": "c206e13f-4ff7-4304-bf41-9bcac7a62488",
   "metadata": {},
   "outputs": [],
   "source": [
    "# Ваш код ниже:\n"
   ]
  },
  {
   "cell_type": "markdown",
   "id": "a51979a7-0023-49a9-8743-3990924c48a3",
   "metadata": {},
   "source": [
    "## Normal"
   ]
  },
  {
   "cell_type": "markdown",
   "id": "5ce26a0c-846b-497a-810e-25a31ea14730",
   "metadata": {},
   "source": [
    "Оцените, зависит ли средний доход человека от цвета глаз (для этого вам понадобится объединить три таблицы.)"
   ]
  },
  {
   "cell_type": "code",
   "execution_count": null,
   "id": "d3098ddd-85ba-4642-94cf-f249f866d693",
   "metadata": {},
   "outputs": [],
   "source": [
    "# Ваш код ниже:\n"
   ]
  },
  {
   "cell_type": "markdown",
   "id": "21699808-2011-4887-8bcb-ae38086dacc7",
   "metadata": {},
   "source": [
    "## Hard"
   ]
  },
  {
   "cell_type": "markdown",
   "id": "b544e270-1587-46da-b1d3-8ce235216051",
   "metadata": {},
   "source": [
    "Прикиньте средний доход человека в зависимости от роста. С помощью SQL-запроса выведите значения роста, при которых люди в среднем получают больше, чем те, кто на 1-3 дюйма ниже их."
   ]
  },
  {
   "cell_type": "code",
   "execution_count": null,
   "id": "b3287801-6abb-4686-8a91-fd9c123f1779",
   "metadata": {},
   "outputs": [],
   "source": [
    "# Ваш код ниже:\n"
   ]
  }
 ],
 "metadata": {
  "kernelspec": {
   "display_name": "Python 3 (ipykernel)",
   "language": "python",
   "name": "python3"
  },
  "language_info": {
   "codemirror_mode": {
    "name": "ipython",
    "version": 3
   },
   "file_extension": ".py",
   "mimetype": "text/x-python",
   "name": "python",
   "nbconvert_exporter": "python",
   "pygments_lexer": "ipython3",
   "version": "3.12.0"
  },
  "toc-autonumbering": false,
  "toc-showcode": false,
  "toc-showmarkdowntxt": false,
  "widgets": {
   "application/vnd.jupyter.widget-state+json": {
    "state": {},
    "version_major": 2,
    "version_minor": 0
   }
  }
 },
 "nbformat": 4,
 "nbformat_minor": 5
}
