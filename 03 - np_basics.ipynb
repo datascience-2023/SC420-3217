{
 "cells": [
  {
   "cell_type": "markdown",
   "id": "3caff214",
   "metadata": {},
   "source": [
    "# Основы Numpy и Scipy"
   ]
  },
  {
   "cell_type": "code",
   "execution_count": null,
   "id": "5237255d",
   "metadata": {},
   "outputs": [],
   "source": [
    "import numpy as np"
   ]
  },
  {
   "cell_type": "markdown",
   "id": "12f9b37d",
   "metadata": {},
   "source": [
    "Наши задачи на этом уроке:\n",
    "\n",
    "- работа с многомерными массивами;\n",
    "- основы аугментации данных;\n",
    "- выполнение сложных математических операций с помощью стандартных функций."
   ]
  },
  {
   "cell_type": "markdown",
   "id": "04945169",
   "metadata": {},
   "source": [
    "## Многомерные массивы"
   ]
  },
  {
   "cell_type": "markdown",
   "id": "9e2f853f",
   "metadata": {},
   "source": [
    "### Создание"
   ]
  },
  {
   "cell_type": "code",
   "execution_count": null,
   "id": "b0baf41b",
   "metadata": {},
   "outputs": [],
   "source": [
    "a = np.array([1, 2, 3, 4])"
   ]
  },
  {
   "cell_type": "code",
   "execution_count": null,
   "id": "72952796",
   "metadata": {},
   "outputs": [],
   "source": [
    "print(a)"
   ]
  },
  {
   "cell_type": "code",
   "execution_count": null,
   "id": "546785b1",
   "metadata": {},
   "outputs": [],
   "source": [
    "a.shape"
   ]
  },
  {
   "cell_type": "code",
   "execution_count": null,
   "id": "9b17ea66",
   "metadata": {},
   "outputs": [],
   "source": [
    "a = np.array([[1, 2, 3], [4, 5, 6]])"
   ]
  },
  {
   "cell_type": "code",
   "execution_count": null,
   "id": "d202a93b",
   "metadata": {},
   "outputs": [],
   "source": [
    "print(a)"
   ]
  },
  {
   "cell_type": "code",
   "execution_count": null,
   "id": "b3bda8ee",
   "metadata": {},
   "outputs": [],
   "source": [
    "a.shape"
   ]
  },
  {
   "cell_type": "code",
   "execution_count": null,
   "id": "e679ea22",
   "metadata": {},
   "outputs": [],
   "source": [
    "np.zeros((3, 3))"
   ]
  },
  {
   "cell_type": "code",
   "execution_count": null,
   "id": "14d259da",
   "metadata": {},
   "outputs": [],
   "source": [
    "np.ones((3, 3))"
   ]
  },
  {
   "cell_type": "code",
   "execution_count": null,
   "id": "e9add444",
   "metadata": {},
   "outputs": [],
   "source": [
    "np.empty((2, 2))"
   ]
  },
  {
   "cell_type": "code",
   "execution_count": null,
   "id": "d2dbd54e",
   "metadata": {},
   "outputs": [],
   "source": [
    "np.eye(3)"
   ]
  },
  {
   "cell_type": "code",
   "execution_count": null,
   "id": "ec1c6666",
   "metadata": {},
   "outputs": [],
   "source": [
    "np.diag((1, 2, 3, 4))"
   ]
  },
  {
   "cell_type": "code",
   "execution_count": null,
   "id": "da67ecfe",
   "metadata": {},
   "outputs": [],
   "source": [
    "np.arange(5)"
   ]
  },
  {
   "cell_type": "code",
   "execution_count": null,
   "id": "40a97eb4",
   "metadata": {},
   "outputs": [],
   "source": [
    "np.arange(1, 10, 2)"
   ]
  },
  {
   "cell_type": "code",
   "execution_count": null,
   "id": "65130cb0",
   "metadata": {},
   "outputs": [],
   "source": [
    "np.linspace(0, 100, num=11)"
   ]
  },
  {
   "cell_type": "code",
   "execution_count": null,
   "id": "04f9f9e1",
   "metadata": {},
   "outputs": [],
   "source": [
    "np.linspace(0, 100, num=11, dtype='int')"
   ]
  },
  {
   "cell_type": "code",
   "execution_count": null,
   "id": "e1c73b4f",
   "metadata": {},
   "outputs": [],
   "source": [
    "def init_func(x, y):\n",
    "    return x * 10 + y"
   ]
  },
  {
   "cell_type": "code",
   "execution_count": null,
   "id": "fb97f33c",
   "metadata": {},
   "outputs": [],
   "source": [
    "np.fromfunction(init_func, (3, 4))"
   ]
  },
  {
   "cell_type": "markdown",
   "id": "86990eaa",
   "metadata": {},
   "source": [
    "### Изменение размера"
   ]
  },
  {
   "cell_type": "code",
   "execution_count": null,
   "id": "e250dc13",
   "metadata": {},
   "outputs": [],
   "source": [
    "a = np.array([[1, 2, 3], [4, 5, 6]])"
   ]
  },
  {
   "cell_type": "code",
   "execution_count": null,
   "id": "bc16f4e6",
   "metadata": {},
   "outputs": [],
   "source": [
    "# Без копирования\n",
    "a.ravel()"
   ]
  },
  {
   "cell_type": "code",
   "execution_count": null,
   "id": "44ab69d4",
   "metadata": {},
   "outputs": [],
   "source": [
    "# С копированием\n",
    "a.flatten()"
   ]
  },
  {
   "cell_type": "code",
   "execution_count": null,
   "id": "77d0c588",
   "metadata": {},
   "outputs": [],
   "source": [
    "# Через итератор:\n",
    "for i in a.flat:\n",
    "    print(i)"
   ]
  },
  {
   "cell_type": "code",
   "execution_count": null,
   "id": "697664c1",
   "metadata": {},
   "outputs": [],
   "source": [
    "print(a)"
   ]
  },
  {
   "cell_type": "code",
   "execution_count": null,
   "id": "c9ddf55a",
   "metadata": {},
   "outputs": [],
   "source": [
    "a.reshape(3, 2)"
   ]
  },
  {
   "cell_type": "code",
   "execution_count": null,
   "id": "8f40f1c4",
   "metadata": {},
   "outputs": [],
   "source": [
    "# In-place:\n",
    "a.resize(3, 2)"
   ]
  },
  {
   "cell_type": "code",
   "execution_count": null,
   "id": "d8e0b5a2",
   "metadata": {},
   "outputs": [],
   "source": [
    "print(a)"
   ]
  },
  {
   "cell_type": "code",
   "execution_count": null,
   "id": "79c890e5",
   "metadata": {},
   "outputs": [],
   "source": [
    "a = [[1, 2, 3], [4, 5, 6]]\n",
    "b = [[5, 6, 7], [8, 9, 0]]"
   ]
  },
  {
   "cell_type": "code",
   "execution_count": null,
   "id": "d086742c",
   "metadata": {},
   "outputs": [],
   "source": [
    "c = np.hstack((a, b))"
   ]
  },
  {
   "cell_type": "code",
   "execution_count": null,
   "id": "4c4e735a",
   "metadata": {},
   "outputs": [],
   "source": [
    "print(c)"
   ]
  },
  {
   "cell_type": "code",
   "execution_count": null,
   "id": "fd663fbc",
   "metadata": {},
   "outputs": [],
   "source": [
    "np.hsplit(c, 2)"
   ]
  },
  {
   "cell_type": "code",
   "execution_count": null,
   "id": "51a374e4",
   "metadata": {},
   "outputs": [],
   "source": [
    "np.vstack((a, b))"
   ]
  },
  {
   "cell_type": "markdown",
   "id": "39fbe2b0",
   "metadata": {},
   "source": [
    "### Арифметика"
   ]
  },
  {
   "cell_type": "code",
   "execution_count": null,
   "id": "9ee41dca",
   "metadata": {},
   "outputs": [],
   "source": [
    "a = np.array([1, 2, 3, 4])\n",
    "b = np.array([5, 6, 7, 8])"
   ]
  },
  {
   "cell_type": "code",
   "execution_count": null,
   "id": "32f35006",
   "metadata": {},
   "outputs": [],
   "source": [
    "a + 1"
   ]
  },
  {
   "cell_type": "code",
   "execution_count": null,
   "id": "5058080b",
   "metadata": {},
   "outputs": [],
   "source": [
    "a + b"
   ]
  },
  {
   "cell_type": "code",
   "execution_count": null,
   "id": "4aa7cdbf",
   "metadata": {},
   "outputs": [],
   "source": [
    "a * b"
   ]
  },
  {
   "cell_type": "code",
   "execution_count": null,
   "id": "29d7fcc6",
   "metadata": {},
   "outputs": [],
   "source": [
    "a @ b"
   ]
  },
  {
   "cell_type": "markdown",
   "id": "e8bf2ea0",
   "metadata": {},
   "source": [
    "### Индексация"
   ]
  },
  {
   "cell_type": "code",
   "execution_count": null,
   "id": "9bde78c2",
   "metadata": {},
   "outputs": [],
   "source": [
    "a = np.array([[1, 2, 3], [4, 5, 6], [0, 0, 2]])"
   ]
  },
  {
   "cell_type": "code",
   "execution_count": null,
   "id": "f116f321",
   "metadata": {},
   "outputs": [],
   "source": [
    "print(a)"
   ]
  },
  {
   "cell_type": "code",
   "execution_count": null,
   "id": "19ed8735",
   "metadata": {},
   "outputs": [],
   "source": [
    "first_row = a[0]"
   ]
  },
  {
   "cell_type": "code",
   "execution_count": null,
   "id": "00adbaa3",
   "metadata": {},
   "outputs": [],
   "source": [
    "print(first_row)"
   ]
  },
  {
   "cell_type": "code",
   "execution_count": null,
   "id": "27e6d934",
   "metadata": {},
   "outputs": [],
   "source": [
    "first_column = a[:,0]"
   ]
  },
  {
   "cell_type": "code",
   "execution_count": null,
   "id": "0e2587f6",
   "metadata": {},
   "outputs": [],
   "source": [
    "print(first_column)"
   ]
  },
  {
   "cell_type": "code",
   "execution_count": null,
   "id": "88728e96",
   "metadata": {},
   "outputs": [],
   "source": [
    "print(a[:, 1:])"
   ]
  },
  {
   "cell_type": "code",
   "execution_count": null,
   "id": "8e8ef986",
   "metadata": {},
   "outputs": [],
   "source": [
    "a < 5"
   ]
  },
  {
   "cell_type": "code",
   "execution_count": null,
   "id": "45f2d854",
   "metadata": {},
   "outputs": [],
   "source": [
    "print(a[a<5])"
   ]
  },
  {
   "cell_type": "code",
   "execution_count": null,
   "id": "1c17aa97",
   "metadata": {},
   "outputs": [],
   "source": [
    "a[:, 1] < 5"
   ]
  },
  {
   "cell_type": "code",
   "execution_count": null,
   "id": "de7e71d3",
   "metadata": {},
   "outputs": [],
   "source": [
    "a[a[:, 1] < 5]"
   ]
  },
  {
   "cell_type": "markdown",
   "id": "72245f7e",
   "metadata": {},
   "source": [
    "### Транспонирование"
   ]
  },
  {
   "cell_type": "code",
   "execution_count": null,
   "id": "9a2c630b",
   "metadata": {},
   "outputs": [],
   "source": [
    "print(a.T)"
   ]
  },
  {
   "cell_type": "markdown",
   "id": "d166e2e1",
   "metadata": {},
   "source": [
    "### Сортировка"
   ]
  },
  {
   "cell_type": "code",
   "execution_count": null,
   "id": "652883d0",
   "metadata": {},
   "outputs": [],
   "source": [
    "np.sort(a.T)"
   ]
  },
  {
   "cell_type": "markdown",
   "id": "15fe6aed",
   "metadata": {},
   "source": [
    "### Аугментация"
   ]
  },
  {
   "cell_type": "code",
   "execution_count": null,
   "id": "250ac3c2",
   "metadata": {
    "tags": []
   },
   "outputs": [],
   "source": [
    "np.flip(a, axis=1)"
   ]
  },
  {
   "cell_type": "code",
   "execution_count": null,
   "id": "2230075d",
   "metadata": {},
   "outputs": [],
   "source": [
    "np.roll(a, 1, axis=1)"
   ]
  },
  {
   "cell_type": "code",
   "execution_count": null,
   "id": "688581d7",
   "metadata": {},
   "outputs": [],
   "source": [
    "np.save('my_file', a)"
   ]
  },
  {
   "cell_type": "code",
   "execution_count": null,
   "id": "a7d73120",
   "metadata": {},
   "outputs": [],
   "source": [
    "b = np.load('my_file.npy')"
   ]
  },
  {
   "cell_type": "code",
   "execution_count": null,
   "id": "cd8fac1c",
   "metadata": {},
   "outputs": [],
   "source": [
    "print(b)"
   ]
  },
  {
   "cell_type": "code",
   "execution_count": null,
   "id": "b41aa1cb",
   "metadata": {},
   "outputs": [],
   "source": [
    "np.savetxt('b.csv', b, header='first, second, third', delimiter=',')"
   ]
  },
  {
   "cell_type": "markdown",
   "id": "2d12b164",
   "metadata": {},
   "source": [
    "### Импорт в Pandas"
   ]
  },
  {
   "cell_type": "code",
   "execution_count": null,
   "id": "d718bb70",
   "metadata": {},
   "outputs": [],
   "source": [
    "import pandas as pd"
   ]
  },
  {
   "cell_type": "code",
   "execution_count": null,
   "id": "d316d135",
   "metadata": {},
   "outputs": [],
   "source": [
    "df = pd.DataFrame(a, columns=['first', 'second', 'third'])"
   ]
  },
  {
   "cell_type": "code",
   "execution_count": null,
   "id": "6de7aa4e",
   "metadata": {},
   "outputs": [],
   "source": [
    "df"
   ]
  },
  {
   "cell_type": "code",
   "execution_count": null,
   "id": "2d47ffa9",
   "metadata": {},
   "outputs": [],
   "source": [
    "df = pd.read_csv('b.csv')"
   ]
  },
  {
   "cell_type": "code",
   "execution_count": null,
   "id": "1ee1d191",
   "metadata": {},
   "outputs": [],
   "source": [
    "df"
   ]
  },
  {
   "cell_type": "code",
   "execution_count": null,
   "id": "9a72719a",
   "metadata": {},
   "outputs": [],
   "source": [
    "df.describe()"
   ]
  },
  {
   "cell_type": "code",
   "execution_count": null,
   "id": "ba4c14e7",
   "metadata": {},
   "outputs": [],
   "source": [
    "df.describe().T"
   ]
  },
  {
   "cell_type": "markdown",
   "id": "b34a797d",
   "metadata": {},
   "source": [
    "### Статистика"
   ]
  },
  {
   "cell_type": "code",
   "execution_count": null,
   "id": "5e7f1790",
   "metadata": {},
   "outputs": [],
   "source": [
    "values, counts = np.unique(a, return_counts=True)"
   ]
  },
  {
   "cell_type": "code",
   "execution_count": null,
   "id": "64faeee2",
   "metadata": {},
   "outputs": [],
   "source": [
    "print(values)\n",
    "print(counts)"
   ]
  },
  {
   "cell_type": "code",
   "execution_count": null,
   "id": "b40ecdf5",
   "metadata": {},
   "outputs": [],
   "source": [
    "a.mean()"
   ]
  },
  {
   "cell_type": "code",
   "execution_count": null,
   "id": "f7f0fab9",
   "metadata": {},
   "outputs": [],
   "source": [
    "np.mean(a, axis=0)"
   ]
  },
  {
   "cell_type": "code",
   "execution_count": null,
   "id": "2fa7da51",
   "metadata": {},
   "outputs": [],
   "source": [
    "np.median(a, axis=0)"
   ]
  },
  {
   "cell_type": "code",
   "execution_count": null,
   "id": "f5f7e3ec",
   "metadata": {},
   "outputs": [],
   "source": [
    "a.mean(axis=1)"
   ]
  },
  {
   "cell_type": "code",
   "execution_count": null,
   "id": "50759561",
   "metadata": {},
   "outputs": [],
   "source": [
    "np.max(a, axis=0)"
   ]
  },
  {
   "cell_type": "code",
   "execution_count": null,
   "id": "b2bcb9bf",
   "metadata": {},
   "outputs": [],
   "source": [
    "a = np.array([0.01, 0.02, 0.1, 0.87, 0.0])"
   ]
  },
  {
   "cell_type": "code",
   "execution_count": null,
   "id": "c4721d40",
   "metadata": {},
   "outputs": [],
   "source": [
    "np.argmax(a)"
   ]
  },
  {
   "cell_type": "markdown",
   "id": "3e9bfb72",
   "metadata": {},
   "source": [
    "## SciPy"
   ]
  },
  {
   "cell_type": "markdown",
   "id": "cd9c3900",
   "metadata": {},
   "source": [
    "### Задача на площадь под кривой"
   ]
  },
  {
   "cell_type": "markdown",
   "id": "22890753",
   "metadata": {},
   "source": [
    "#### Решение через определенный интеграл"
   ]
  },
  {
   "cell_type": "code",
   "execution_count": null,
   "id": "8f62b612",
   "metadata": {},
   "outputs": [],
   "source": [
    "from scipy.integrate import quad"
   ]
  },
  {
   "cell_type": "code",
   "execution_count": null,
   "id": "678b75d2",
   "metadata": {},
   "outputs": [],
   "source": [
    "def f(x):\n",
    "    return -x**2 + 3 * x + 5"
   ]
  },
  {
   "cell_type": "code",
   "execution_count": null,
   "id": "58794bdf",
   "metadata": {},
   "outputs": [],
   "source": [
    "sq, err = quad(f, 1, 4)"
   ]
  },
  {
   "cell_type": "code",
   "execution_count": null,
   "id": "e7378c80",
   "metadata": {},
   "outputs": [],
   "source": [
    "print(f'{sq} ± {err:.15f}')"
   ]
  },
  {
   "cell_type": "markdown",
   "id": "4f01f6b8",
   "metadata": {},
   "source": [
    "#### Приближенное решение"
   ]
  },
  {
   "cell_type": "code",
   "execution_count": null,
   "id": "aacf8b46",
   "metadata": {},
   "outputs": [],
   "source": [
    "from scipy.integrate import trapezoid"
   ]
  },
  {
   "cell_type": "code",
   "execution_count": null,
   "id": "1b61bbf5",
   "metadata": {},
   "outputs": [],
   "source": [
    "x = np.linspace(0, 10, 200)"
   ]
  },
  {
   "cell_type": "code",
   "execution_count": null,
   "id": "2a32b9db",
   "metadata": {},
   "outputs": [],
   "source": [
    "y = np.array([f(x) for x in x])"
   ]
  },
  {
   "cell_type": "code",
   "execution_count": null,
   "id": "04060f3e",
   "metadata": {},
   "outputs": [],
   "source": [
    "trapezoid(y[(x >=1) & (x < 4)], x[(x >=1) & (x < 4)])"
   ]
  },
  {
   "cell_type": "markdown",
   "id": "817175ec",
   "metadata": {},
   "source": [
    "#### Восстановление кривой по точкам"
   ]
  },
  {
   "cell_type": "code",
   "execution_count": null,
   "id": "6c8db5c3",
   "metadata": {},
   "outputs": [],
   "source": [
    "from scipy.optimize import curve_fit"
   ]
  },
  {
   "cell_type": "code",
   "execution_count": null,
   "id": "2f438929",
   "metadata": {},
   "outputs": [],
   "source": [
    "def func(x, a, b, c):\n",
    "    return a * x ** 2 + b * x + c"
   ]
  },
  {
   "cell_type": "code",
   "execution_count": null,
   "id": "d54a6e71",
   "metadata": {},
   "outputs": [],
   "source": [
    "# noise = 0.1 * np.random.uniform(size=x.size)"
   ]
  },
  {
   "cell_type": "code",
   "execution_count": null,
   "id": "92417cd7",
   "metadata": {},
   "outputs": [],
   "source": [
    "coefs, _ = curve_fit(func, x[(x >=1) & (x < 4)], (y)[(x >=1) & (x < 4)])"
   ]
  },
  {
   "cell_type": "code",
   "execution_count": null,
   "id": "40c9bfb4",
   "metadata": {},
   "outputs": [],
   "source": [
    "coefs"
   ]
  },
  {
   "cell_type": "markdown",
   "id": "b4407f5f",
   "metadata": {},
   "source": [
    "#### Нахождение экстремума"
   ]
  },
  {
   "cell_type": "code",
   "execution_count": null,
   "id": "e11a3e2e",
   "metadata": {},
   "outputs": [],
   "source": [
    "from scipy.optimize import minimize"
   ]
  },
  {
   "cell_type": "code",
   "execution_count": null,
   "id": "c97c98b6",
   "metadata": {},
   "outputs": [],
   "source": [
    "minimize(lambda x: -f(x), 0)"
   ]
  },
  {
   "cell_type": "code",
   "execution_count": null,
   "id": "4f8dce48",
   "metadata": {},
   "outputs": [],
   "source": [
    "result = minimize(lambda x: -f(x), 0)"
   ]
  },
  {
   "cell_type": "code",
   "execution_count": null,
   "id": "ea55a424",
   "metadata": {},
   "outputs": [],
   "source": [
    "print(f'Max y = {-result[\"fun\"]} at x = {result[\"x\"]}')"
   ]
  },
  {
   "cell_type": "markdown",
   "id": "1eef7b3c",
   "metadata": {},
   "source": [
    "### Линейная алгебра"
   ]
  },
  {
   "cell_type": "code",
   "execution_count": null,
   "id": "4abe1526",
   "metadata": {},
   "outputs": [],
   "source": [
    "a = np.array([[1, 2],\n",
    "             [3, 4]])\n",
    "b = np.array([[2, 2],\n",
    "              [0, 0]])"
   ]
  },
  {
   "cell_type": "code",
   "execution_count": null,
   "id": "e5fab064",
   "metadata": {},
   "outputs": [],
   "source": [
    "a * b"
   ]
  },
  {
   "cell_type": "code",
   "execution_count": null,
   "id": "b4fd0ef4",
   "metadata": {},
   "outputs": [],
   "source": [
    "a @ b"
   ]
  },
  {
   "cell_type": "code",
   "execution_count": null,
   "id": "47beebae",
   "metadata": {},
   "outputs": [],
   "source": [
    "m = [[a[i] @ b.T[j] for j in range(b.T.shape[0])] for i in range(a.shape[0])]"
   ]
  },
  {
   "cell_type": "code",
   "execution_count": null,
   "id": "e4c4dccd",
   "metadata": {},
   "outputs": [],
   "source": [
    "print(m)"
   ]
  },
  {
   "cell_type": "code",
   "execution_count": null,
   "id": "eb9deafa",
   "metadata": {},
   "outputs": [],
   "source": [
    "m == a @ b"
   ]
  },
  {
   "cell_type": "code",
   "execution_count": null,
   "id": "d84fefc7",
   "metadata": {},
   "outputs": [],
   "source": [
    "np.array_equal(m, a @ b)"
   ]
  },
  {
   "cell_type": "code",
   "execution_count": null,
   "id": "095b5c1f-78c1-4663-8d19-b441cefa0492",
   "metadata": {},
   "outputs": [],
   "source": [
    "np.eye(2)"
   ]
  },
  {
   "cell_type": "code",
   "execution_count": null,
   "id": "7a74ce4d-7245-40e7-afe1-7cbd437b2dd6",
   "metadata": {},
   "outputs": [],
   "source": [
    "a @ np.eye(2)"
   ]
  },
  {
   "cell_type": "code",
   "execution_count": null,
   "id": "dbde9868",
   "metadata": {},
   "outputs": [],
   "source": [
    "np.array_equal(a, a @ np.eye(a.shape[0]))"
   ]
  },
  {
   "cell_type": "markdown",
   "id": "e00a083e",
   "metadata": {},
   "source": [
    "$$kX = y$$"
   ]
  },
  {
   "cell_type": "markdown",
   "id": "fd3e178e-17df-4f74-90df-b60f3fcc10dd",
   "metadata": {},
   "source": [
    "3x + 2y = 2\n",
    "\n",
    "x - y = 4\n",
    "\n",
    "5y + z = -1"
   ]
  },
  {
   "cell_type": "code",
   "execution_count": null,
   "id": "82c6545b",
   "metadata": {},
   "outputs": [],
   "source": [
    "from scipy.linalg import inv, solve"
   ]
  },
  {
   "cell_type": "code",
   "execution_count": null,
   "id": "ae91204c-aa35-4068-a391-edfde281bb58",
   "metadata": {},
   "outputs": [],
   "source": [
    "k = np.array([\n",
    "              [3, 2,  0],\n",
    "              [1, -1, 0],\n",
    "              [0, 5,  1]\n",
    "            ])"
   ]
  },
  {
   "cell_type": "code",
   "execution_count": null,
   "id": "666e9530",
   "metadata": {},
   "outputs": [],
   "source": [
    "y = np.array([2, 4, -1])"
   ]
  },
  {
   "cell_type": "code",
   "execution_count": null,
   "id": "836d4196",
   "metadata": {},
   "outputs": [],
   "source": [
    "inv(k) @ y"
   ]
  },
  {
   "cell_type": "code",
   "execution_count": null,
   "id": "de0dcc67",
   "metadata": {},
   "outputs": [],
   "source": [
    "solve(k, y)"
   ]
  },
  {
   "cell_type": "code",
   "execution_count": null,
   "id": "cab279de",
   "metadata": {},
   "outputs": [],
   "source": [
    "k @ np.array([ 2., -2.,  9.])"
   ]
  },
  {
   "cell_type": "markdown",
   "id": "6f5d4f8b-6824-4502-9bc2-b842bda2024f",
   "metadata": {},
   "source": [
    "# Домашнее задание"
   ]
  },
  {
   "cell_type": "markdown",
   "id": "fc05734c-e1b9-4570-8a4b-f7154190b699",
   "metadata": {},
   "source": [
    "## Easy"
   ]
  },
  {
   "cell_type": "markdown",
   "id": "5e66d222-243a-4f50-97de-d571bce2cd60",
   "metadata": {},
   "source": [
    "Решите систему линейных уравнений:\n",
    "3x - 2y = -6\n",
    "5x + y = 3"
   ]
  },
  {
   "cell_type": "code",
   "execution_count": null,
   "id": "2825ad6b-3ad1-4078-859b-42dfb9465549",
   "metadata": {},
   "outputs": [],
   "source": [
    "# Ваш код ниже:\n"
   ]
  },
  {
   "cell_type": "markdown",
   "id": "8c4f7b78-d2b5-41ea-8532-31d965149bae",
   "metadata": {},
   "source": [
    "## Normal / Hard"
   ]
  },
  {
   "cell_type": "markdown",
   "id": "a6c89694-da6b-4ccb-9053-63d54cdeb5f4",
   "metadata": {},
   "source": [
    "В репозитории лежит файл `00000e74ad.npy`. Он описывает процесс слияния двух черных дыр, зафиксированный с помощью лазерных интерферометров. Загрузите его в массив numpy. У вас должен получиться массив 3 * 4096 (три разных устройства делали запись одного события 2048 раз в секунду в течение 2 секунд).\n",
    "\n",
    "Отмасштабируйте сигнал (поделите все значения на максимальное по массиву)."
   ]
  },
  {
   "cell_type": "code",
   "execution_count": null,
   "id": "8d108c61-e5d9-40c6-9e8d-83395e63f0fa",
   "metadata": {},
   "outputs": [],
   "source": [
    "# Ваш код ниже:\n"
   ]
  },
  {
   "cell_type": "markdown",
   "id": "1bd7b8c9-5b13-480f-86f6-b454df02eb87",
   "metadata": {},
   "source": [
    "## Только Hard"
   ]
  },
  {
   "cell_type": "markdown",
   "id": "0576f588-b045-4e94-abe0-517bf4aa3984",
   "metadata": {},
   "source": [
    "Самостоятельно ознакомьтесь с методами обработки сигнала в `scipy.signal`. Попробуйте отфильтровать сигнал в диапазоне 30-400 Гц."
   ]
  },
  {
   "cell_type": "code",
   "execution_count": null,
   "id": "556326db-a748-40a2-b891-9b3d9819ba59",
   "metadata": {},
   "outputs": [],
   "source": [
    "from scipy import signal"
   ]
  },
  {
   "cell_type": "markdown",
   "id": "b2e04e79-a711-4bef-a35e-7cef1c10d220",
   "metadata": {},
   "source": [
    "<details>\n",
    "<summary>Подсказка (нажмите, чтобы посмотреть):</summary>\n",
    "Один из способов (используется фильтр Баттерворта, пропущенные аргументы заполняйте исходя из условия задачи):<br/>\n",
    "    <code>sos = signal.butter(__, [__, ___], btype=\"________\", output=\"sos\", fs=____)\n",
    "data_filt = signal.sosfilt(sos, ваш_массив, axis=1)</code>\n",
    "</details>"
   ]
  },
  {
   "cell_type": "code",
   "execution_count": null,
   "id": "761fb96d-95e3-4c49-831c-9c6aeeef683b",
   "metadata": {},
   "outputs": [],
   "source": [
    "# Ваш код ниже\n"
   ]
  },
  {
   "cell_type": "markdown",
   "id": "259c5ce1-7c3e-416b-9fcb-eba174867e4e",
   "metadata": {},
   "source": [
    "Сделайте три аугментированные версии отфильтрованного сигнала:\n",
    "- поменяйте первую и вторую строки местами;\n",
    "- переверните все строки задом наперед;\n",
    "- сдвиньте сигнал с помощью `roll` на 5 мс вперед или назад.\n",
    "\n",
    "Сохраните результаты в отдельные npy-файлы."
   ]
  }
 ],
 "metadata": {
  "kernelspec": {
   "display_name": "Python 3 (ipykernel)",
   "language": "python",
   "name": "python3"
  },
  "language_info": {
   "codemirror_mode": {
    "name": "ipython",
    "version": 3
   },
   "file_extension": ".py",
   "mimetype": "text/x-python",
   "name": "python",
   "nbconvert_exporter": "python",
   "pygments_lexer": "ipython3",
   "version": "3.11.6"
  },
  "widgets": {
   "application/vnd.jupyter.widget-state+json": {
    "state": {},
    "version_major": 2,
    "version_minor": 0
   }
  }
 },
 "nbformat": 4,
 "nbformat_minor": 5
}
