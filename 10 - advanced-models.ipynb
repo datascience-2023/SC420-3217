{
 "cells": [
  {
   "cell_type": "markdown",
   "id": "7d453948-7d73-44e7-a706-269f4bf4a906",
   "metadata": {},
   "source": [
    "# Scikit-Learn: популярные модели и техника работы с ними"
   ]
  },
  {
   "cell_type": "code",
   "execution_count": null,
   "id": "ba078c9d-90e0-41a5-9a40-11b1c832be86",
   "metadata": {
    "tags": []
   },
   "outputs": [],
   "source": [
    "import pandas as pd\n",
    "import numpy as np\n",
    "import scipy.stats as st\n",
    "\n",
    "import matplotlib.pyplot as plt\n",
    "import seaborn as sns\n",
    "\n",
    "from sklearn.model_selection import train_test_split\n",
    "from sklearn.linear_model import LinearRegression, LogisticRegression, SGDRegressor, SGDClassifier, Ridge, Lasso\n",
    "from sklearn.preprocessing import StandardScaler, QuantileTransformer, PowerTransformer, MinMaxScaler, RobustScaler, FunctionTransformer\n",
    "from sklearn.metrics import mean_squared_error, mean_absolute_error, r2_score, accuracy_score\n",
    "\n",
    "from sklearn.compose import ColumnTransformer\n",
    "from sklearn.pipeline import Pipeline"
   ]
  },
  {
   "cell_type": "code",
   "execution_count": null,
   "id": "48dbe210-4055-4351-97b2-94aa7d2a592d",
   "metadata": {},
   "outputs": [],
   "source": [
    "RANDOM_STATE = 177013"
   ]
  },
  {
   "cell_type": "code",
   "execution_count": null,
   "id": "e2541ebb-0de9-4a05-a2c8-969c3438450c",
   "metadata": {},
   "outputs": [],
   "source": [
    "df = pd.read_excel('Concrete_Data.xls', sheet_name='Sheet1')"
   ]
  },
  {
   "cell_type": "code",
   "execution_count": null,
   "id": "ce42b76e-afde-4c84-83f7-b529cc207b35",
   "metadata": {},
   "outputs": [],
   "source": [
    "df.describe().T"
   ]
  },
  {
   "cell_type": "code",
   "execution_count": null,
   "id": "885e6d00-4797-4580-9d7c-c4c9727a152e",
   "metadata": {},
   "outputs": [],
   "source": [
    "df = df.drop_duplicates()"
   ]
  },
  {
   "cell_type": "code",
   "execution_count": null,
   "id": "15600eb5-4e4a-473c-ad4a-a37101557522",
   "metadata": {},
   "outputs": [],
   "source": [
    "df = df.rename(lambda x: x.split('(')[0].strip().replace(' ', '_').lower(), axis=1)"
   ]
  },
  {
   "cell_type": "code",
   "execution_count": null,
   "id": "a375f585-72df-4dca-9c0e-57146e596124",
   "metadata": {},
   "outputs": [],
   "source": [
    "X_train, X_test, y_train, y_test = train_test_split(df.drop(['concrete_compressive_strength'], axis=1),\n",
    "                                                    df['concrete_compressive_strength'],\n",
    "                                                    test_size=0.2,\n",
    "                                                    random_state=177013,\n",
    "                                                    shuffle=True,\n",
    "                                                    )"
   ]
  },
  {
   "cell_type": "code",
   "execution_count": null,
   "id": "a363cb12-4a2c-4af3-8289-848a3218ff3e",
   "metadata": {},
   "outputs": [],
   "source": [
    "def fit_and_test(model, X_train, y_train, X_test, y_test):\n",
    "    model.fit(X_train, y_train)\n",
    "\n",
    "    predictions = model.predict(X_train)\n",
    "    mse = mean_squared_error (y_train, predictions)\n",
    "    mae = mean_absolute_error(y_train, predictions)\n",
    "    r2 = r2_score(y_train, predictions)\n",
    "    \n",
    "    print(f'Обучающая выборка - MSE: {mse:.2f}, MAE: {mae:.2f}, R2 {r2:.0%}.')\n",
    "    \n",
    "    predictions = model.predict(X_test)\n",
    "    mse = mean_squared_error (y_test, predictions)\n",
    "    mae = mean_absolute_error(y_test, predictions)\n",
    "    r2 = r2_score(y_test, predictions)\n",
    "    \n",
    "    print(f'Тестовая выборка - MSE: {mse:.2f}, MAE: {mae:.2f}, R2 {r2:.0%}.')"
   ]
  },
  {
   "cell_type": "markdown",
   "id": "9c549065-2fc9-4633-9290-3847340f3a12",
   "metadata": {},
   "source": [
    "## Фиктивные модели"
   ]
  },
  {
   "cell_type": "code",
   "execution_count": null,
   "id": "6a4d6db9-f257-41d7-8c1b-274cfb8658a7",
   "metadata": {},
   "outputs": [],
   "source": [
    "from sklearn.dummy import DummyClassifier, DummyRegressor"
   ]
  },
  {
   "cell_type": "code",
   "execution_count": null,
   "id": "7874a5bd-4014-4ec8-bbe7-dbb84992dbeb",
   "metadata": {},
   "outputs": [],
   "source": [
    "for strategy in ['mean', 'median']:\n",
    "    dummy = DummyRegressor(strategy=strategy)\n",
    "    print(f'Стратегия: {strategy}')\n",
    "    fit_and_test(dummy, X_train, y_train, X_test, y_test)"
   ]
  },
  {
   "cell_type": "markdown",
   "id": "8929dda3-a5a1-4f36-b13f-c15a24398b17",
   "metadata": {},
   "source": [
    "## Дерево решений"
   ]
  },
  {
   "cell_type": "code",
   "execution_count": null,
   "id": "97c35466-6055-4e48-9203-82c88a1094b1",
   "metadata": {},
   "outputs": [],
   "source": [
    "from sklearn.tree import DecisionTreeRegressor, plot_tree"
   ]
  },
  {
   "cell_type": "code",
   "execution_count": null,
   "id": "90daccef-c979-4930-9732-05b90d42ae00",
   "metadata": {},
   "outputs": [],
   "source": [
    "model1 = DecisionTreeRegressor(random_state=RANDOM_STATE)\n",
    "fit_and_test(model1, X_train, y_train, X_test, y_test)"
   ]
  },
  {
   "cell_type": "code",
   "execution_count": null,
   "id": "13ac5dd5-fa1c-45e9-962c-2d44b85b1944",
   "metadata": {},
   "outputs": [],
   "source": [
    "plt.figure(figsize=(12,6))\n",
    "plot_tree(model1,feature_names=list(X_train.columns), filled=True);"
   ]
  },
  {
   "cell_type": "code",
   "execution_count": null,
   "id": "93e9d4a3-0c37-49b9-98c0-18f5434b4b98",
   "metadata": {},
   "outputs": [],
   "source": [
    "model2 = DecisionTreeRegressor(max_depth=2, random_state=RANDOM_STATE)\n",
    "fit_and_test(model2, X_train, y_train, X_test, y_test)"
   ]
  },
  {
   "cell_type": "code",
   "execution_count": null,
   "id": "1f434b77-948e-4d4f-a78f-50e40eb0fd9f",
   "metadata": {},
   "outputs": [],
   "source": [
    "plt.figure(figsize=(12,6))\n",
    "plot_tree(model2,feature_names=list(X_train.columns), filled=True);"
   ]
  },
  {
   "cell_type": "markdown",
   "id": "f974c37c-6626-4d19-8387-77fb8b0ec676",
   "metadata": {},
   "source": [
    "## Проблема переобучения (overfit)"
   ]
  },
  {
   "cell_type": "markdown",
   "id": "13e7f09c-266d-44d9-9792-64429eacfb61",
   "metadata": {},
   "source": [
    "Оверфит возникает, когда модель учит обучающую выборку слишком тщательно, чтобы обобщить закономерности на дргуие данные. По сути, это значит, что сложность модели сравнима с объемом обучающей выборки. Из формулы MSE, к примеру, можно вывести:\n",
    "\n",
    "$$\n",
    "MSE_{train} = {\\sigma^2}\\left(1-\\frac{d}{N}\\right)\n",
    "$$\n",
    "\n",
    "$$\n",
    "MSE_{test} = {\\sigma^2}\\left(1+\\frac{d}{N}\\right)\n",
    "$$\n",
    "\n",
    "Здесь $\\sigma^2$ - дисперсия погрешности измерений, $d$ - мера сложности модели, $N$ - размер обучающей выборки ($N \\geqslant d$).\n",
    "\n",
    "Отсюда следует:\n",
    "\n",
    "- данные с большой погрешностью трудно зафитить и трудно обобщить;\n",
    "- большую выборку фитить труднее;\n",
    "- но при этом большая выборка сделает модель точнее на тесте;\n",
    "- сложную модель легче зафитить;\n",
    "- но при этом сложной модели труднее обобщать.\n",
    "\n",
    "Сложность модели определяется не только внутренней механикой, но и предобработкой данных."
   ]
  },
  {
   "cell_type": "markdown",
   "id": "a3fea950-1beb-473d-abf4-dfc1c5bb18cb",
   "metadata": {},
   "source": [
    "## Кросс-валидация"
   ]
  },
  {
   "cell_type": "markdown",
   "id": "d72c21b7-b7e8-40d5-8f7d-06bf47d2e9eb",
   "metadata": {},
   "source": [
    "Мы могли бы проверять метрику на тестовой выборке для разных гиперпараметров модели. Однако этим способом мы неминуемо придем к тому, что подстраиваемся под тест.\n",
    "\n",
    "В качестве альтернативы можно было бы выделять еще одну промежуточную выборку, валидационную. Но тогда мы урезаем количество данных для обучения (либо в конце нам придется склеить выборки обратно и еще раз обучить модель).\n",
    "\n",
    "Одним из решений является **кросс-валидация**: обучающая выборка разбивается на несколько равных частей, например, четыре. Из них модель обучается на трех, а на оставшейся оценивается. Затем процесс повторяется для всех четырех вариантов и метрика усредняется. Это позволяет неплохо оценить качество модели без влияния случайностей, возможных в отдельной выборке."
   ]
  },
  {
   "cell_type": "code",
   "execution_count": null,
   "id": "2933aec8-c6f0-44da-a583-7d2aa797c154",
   "metadata": {},
   "outputs": [],
   "source": [
    "model =  DecisionTreeRegressor(random_state=RANDOM_STATE)"
   ]
  },
  {
   "cell_type": "code",
   "execution_count": null,
   "id": "a000f673-8a8c-4a54-94b7-7cc0a22fa9e1",
   "metadata": {},
   "outputs": [],
   "source": [
    "from sklearn.model_selection import cross_val_score, cross_validate"
   ]
  },
  {
   "cell_type": "code",
   "execution_count": null,
   "id": "a35115ac-8117-4d59-8b14-593d490744cd",
   "metadata": {},
   "outputs": [],
   "source": [
    "cross_val_score(model, X_train, y_train, cv=4, scoring='neg_mean_squared_error')"
   ]
  },
  {
   "cell_type": "code",
   "execution_count": null,
   "id": "ab63c6ec-8677-4a59-9391-12938933ad89",
   "metadata": {},
   "outputs": [],
   "source": [
    "-cross_val_score(model, X_train, y_train, cv=4, scoring='neg_mean_squared_error').mean()"
   ]
  },
  {
   "cell_type": "code",
   "execution_count": null,
   "id": "7b08c318-7a93-462a-a362-2a17b6c8c29e",
   "metadata": {},
   "outputs": [],
   "source": [
    "scores = []\n",
    "train_scores = []\n",
    "\n",
    "for i in range(1, 21):\n",
    "    model = DecisionTreeRegressor(max_depth=i, random_state=RANDOM_STATE)\n",
    "    scores.append(cross_validate(model, X_train, y_train, cv=4, scoring='neg_mean_squared_error', return_train_score=True))\n",
    "    \n",
    "\n",
    "mse_train = [-x['train_score'].mean() for x in scores]    \n",
    "mse_cv = [-x['test_score'].mean() for x in scores]\n",
    "plt.plot(np.linspace(1, 20, 20), mse_train)\n",
    "plt.plot(np.linspace(1, 20, 20), mse_cv)\n",
    "plt.xticks(np.linspace(1, 20, 20))\n",
    "plt.xlabel('Высота дерева')\n",
    "plt.ylabel('MSE')\n",
    "plt.legend(['На обучающей выборке', 'На кросс-валидации']);"
   ]
  },
  {
   "cell_type": "code",
   "execution_count": null,
   "id": "3a7bd5ca-97ea-4476-9cbb-007a8fe48884",
   "metadata": {},
   "outputs": [],
   "source": [
    "from sklearn.model_selection import GridSearchCV, RandomizedSearchCV"
   ]
  },
  {
   "cell_type": "code",
   "execution_count": null,
   "id": "10d85367-e0e5-4c21-91ed-2fa53cd2d7d3",
   "metadata": {},
   "outputs": [],
   "source": [
    "model =  DecisionTreeRegressor(random_state=RANDOM_STATE)"
   ]
  },
  {
   "cell_type": "code",
   "execution_count": null,
   "id": "268c7561-763f-4961-bde2-796748624385",
   "metadata": {},
   "outputs": [],
   "source": [
    "tree_params = {\n",
    "                    'max_depth':range(1, 21),\n",
    "                    'min_samples_split':range(2, 10),\n",
    "                    'min_samples_leaf':range(1,10)\n",
    "              }"
   ]
  },
  {
   "cell_type": "code",
   "execution_count": null,
   "id": "b2c94997-28a4-40e5-8135-d7b59de113ab",
   "metadata": {},
   "outputs": [],
   "source": [
    "gcv = GridSearchCV(model, tree_params, cv=4, scoring='neg_mean_squared_error', n_jobs=-1)\n",
    "gcv.fit(X_train, y_train)\n",
    "print(f'Лучшие гиперпараметры: {dict(gcv.best_params_)}')\n",
    "print(f'MSE: {(-gcv.best_score_):.2f}')\n",
    "best_model = gcv.best_estimator_"
   ]
  },
  {
   "cell_type": "code",
   "execution_count": null,
   "id": "3ed50665-0d44-4a7e-9933-cd975be9c54a",
   "metadata": {},
   "outputs": [],
   "source": [
    "predictions = best_model.predict(X_test)\n",
    "mse = mean_squared_error (y_test, predictions)\n",
    "mae = mean_absolute_error(y_test, predictions)\n",
    "r2 = r2_score(y_test, predictions)\n",
    "\n",
    "print(f'Тестовая выборка - MSE: {mse:.2f}, MAE: {mae:.2f}, R2 {r2:.0%}.')"
   ]
  },
  {
   "cell_type": "markdown",
   "id": "211d203b-de1c-4090-820c-e1c1c82cb5fc",
   "metadata": {},
   "source": [
    "## Bias/variance tradeoff"
   ]
  },
  {
   "cell_type": "markdown",
   "id": "a4c124d2-31e3-4346-867d-ecb7e1f0eaf7",
   "metadata": {},
   "source": [
    "Ошибку модели можно разложить на смещение (насколько среднее предсказание далеко от истины):\n",
    "\n",
    "$$\n",
    "y - \\mathbb{E}[y_{pred}]\n",
    "$$\n",
    "\n",
    "и дисперсию (разброс диапазона предсказаний):\n",
    "\n",
    "$$\n",
    "\\mathbb{E}[(y_{pred} - \\mathbb{E}[y_{pred}])^2]\n",
    "$$"
   ]
  },
  {
   "cell_type": "markdown",
   "id": "ee11246c-63a3-4c48-bc47-be5f36c0bbd1",
   "metadata": {},
   "source": [
    "Высокая дисперсия модели - показатель переобучения.\n",
    "\n",
    "Давайте посмотрим, что влияет на эти показатели:\n",
    "\n",
    "- с ростом обучающей выборки дисперсия снижается, смещение не меняется;\n",
    "- с ростом сложности модели смещение снижается, дисперсия растет;\n",
    "- добавление полезных признаков уменьшает смещение;\n",
    "- удаление бесполезных признаков уменьшает дисперсию."
   ]
  },
  {
   "cell_type": "markdown",
   "id": "c6fdbf13-22c2-403e-9a7d-459171d11664",
   "metadata": {},
   "source": [
    "## Feature selection"
   ]
  },
  {
   "cell_type": "markdown",
   "id": "8e19324c-1e31-48a2-8ed6-dd18f7a01b10",
   "metadata": {},
   "source": [
    "Проводя исследовательский анализ, неплохо проверять связь с целевым признаком. Однако есть и методы, позволяющие оценить связь количественно или даже автоматизировать отбор."
   ]
  },
  {
   "cell_type": "markdown",
   "id": "647ed64f-d13d-4ab4-afa1-d655dc96a2d9",
   "metadata": {},
   "source": [
    "### Embedded methods"
   ]
  },
  {
   "cell_type": "markdown",
   "id": "9cdef646-c40b-44e5-a31e-0a12e266a93f",
   "metadata": {},
   "source": [
    "Основной представитель встроенных методов - регуляризация, понижающая вес маловажных признаков. Мы знакомы с ней по линейным моделям."
   ]
  },
  {
   "cell_type": "markdown",
   "id": "53544f1f-044d-4ad5-96b6-4e19718d159e",
   "metadata": {},
   "source": [
    "### Wrapper methods"
   ]
  },
  {
   "cell_type": "markdown",
   "id": "f22e67fb-db22-42a3-8e3c-12337a148e32",
   "metadata": {},
   "source": [
    "Эти методы обучают модели, добавляя и убавляя признаки, и сравнивают результаты (в том числе используя кросс-валидацию). В `sklearn.feature_selection` они представлены `SequentialFeatureSelector()` и `RFECV`.\n",
    "\n",
    "Плюсы: весьма надежно.\n",
    "\n",
    "Минусы: очень затратно."
   ]
  },
  {
   "cell_type": "markdown",
   "id": "a5102e84-7ebe-4d2b-95db-601c735a18da",
   "metadata": {},
   "source": [
    "### Filter methods"
   ]
  },
  {
   "cell_type": "markdown",
   "id": "41fea5d6-1b63-4b23-b915-d1b5e7dd6bd4",
   "metadata": {},
   "source": [
    "Оценивают признаки по некому критерию, позволяя нам выбирать по значимости. Есть много критериев значимости на разные случаи:\n",
    "\n",
    "Между числовыми признаками: коэффициенты корреляции, F-тест (`sklearn.feature_selection.f_regression()`).\n",
    "\n",
    "Между категориями: $\\chi^2$-тест (`sklearn.feature_selection.chi2()`).\n",
    "\n",
    "Между разнородными признаками: `scipy.stats.kendalltau()`, дисперсионный анализ, статистические тесты по группам.\n",
    "\n",
    "Универсальным методом является взаимная информация: она работает и с числами, и с категориями, годится и для регрессии, и для классификации, выявляет любые зависимости, а не только линейные."
   ]
  },
  {
   "cell_type": "code",
   "execution_count": null,
   "id": "6635a58f-0b04-4990-ac05-12aee5513252",
   "metadata": {},
   "outputs": [],
   "source": [
    "from sklearn.feature_selection import mutual_info_regression"
   ]
  },
  {
   "cell_type": "code",
   "execution_count": null,
   "id": "925f10ff-64c1-4808-935f-b57891d9c7a9",
   "metadata": {},
   "outputs": [],
   "source": [
    "mi_scores = mutual_info_regression(X_train, y_train, random_state=RANDOM_STATE)\n",
    "mic_data = pd.DataFrame()\n",
    "mic_data['feature'] = X_train.columns\n",
    "mic_data['MIC'] = mi_scores\n",
    "  \n",
    "mic_data.sort_values(by='MIC', ascending=False)"
   ]
  },
  {
   "cell_type": "markdown",
   "id": "8125e61c-da3c-4060-a8d4-cacfbc95dc2b",
   "metadata": {},
   "source": [
    "### VIF"
   ]
  },
  {
   "cell_type": "markdown",
   "id": "d9c065c3-4f06-4a31-9dc3-3b9450eb647d",
   "metadata": {},
   "source": [
    "На примере линейных моделей мы видели, что сильно коррелирующие признаки раздувают дисперсию модели. Реальное влияние можно оценить с помощью **variance inflation factor**."
   ]
  },
  {
   "cell_type": "code",
   "execution_count": null,
   "id": "5c87f43f-5e59-4857-8cdf-d71072047609",
   "metadata": {},
   "outputs": [],
   "source": [
    "from statsmodels.stats.outliers_influence import variance_inflation_factor"
   ]
  },
  {
   "cell_type": "code",
   "execution_count": null,
   "id": "72af397f-6314-4cd7-8d07-3e9aec79283c",
   "metadata": {},
   "outputs": [],
   "source": [
    "vif_data = pd.DataFrame()\n",
    "vif_data['feature'] = X_train.columns\n",
    "vif_data['VIF'] = [variance_inflation_factor(X_train.values, i) for i in range(len(X_train.columns))]\n",
    "  \n",
    "vif_data.sort_values(by='VIF', ascending=False)"
   ]
  },
  {
   "cell_type": "code",
   "execution_count": null,
   "id": "0a9fcf5f-7b58-472c-b965-125236b44333",
   "metadata": {},
   "outputs": [],
   "source": [
    "fig, ax = plt.subplots(figsize=(8, 6))\n",
    "sns.heatmap(X_train.corr(), annot=True, cmap='icefire');"
   ]
  },
  {
   "cell_type": "markdown",
   "id": "16773908-3e67-4fec-beb1-00259dab8045",
   "metadata": {},
   "source": [
    "Как видим, здесь случай тяжелый. Эмпирически, VIF не должен превышать 10-15, но в данном случае нет признаков, зависящих чисто попарно, чтобы один из них выкинуть."
   ]
  },
  {
   "cell_type": "markdown",
   "id": "6ce29914-b9a0-49e9-885d-e0cef84a322e",
   "metadata": {},
   "source": [
    "### Понижение размерности"
   ]
  },
  {
   "cell_type": "markdown",
   "id": "d2bf5a4a-c184-4ea1-aa4a-15ea5fa0efc6",
   "metadata": {},
   "source": [
    "#### Собственные значения и собственные вектора"
   ]
  },
  {
   "cell_type": "markdown",
   "id": "2a2ba6cb-2fc1-43c3-9cd3-00692c8d3704",
   "metadata": {},
   "source": [
    "Предположим, для квадратной матрицы $A$ можно подобрать такой ненулевой вектор $\\bar u$, что:\n",
    "\n",
    "$$\n",
    "A\\bar u = s \\bar u\n",
    "$$\n",
    "\n",
    "где $s$ - скаляр.\n",
    "\n",
    "Тогда $\\bar u$ называется **собственным вектором (eigenvector)** матрицы $A$, а $s$ - **собственным значением (eigenvalue)** вектора $\\bar u$.\n",
    "\n",
    "У матрицы $N x N$ может быть N собственных векторов и N собственных значений. Иными словами, можно обобщить разложение в матричном виде:\n",
    "\n",
    "$$\n",
    "AU = \\bar s U\n",
    "$$\n",
    "\n",
    "Для симметричной матрицы, такой как матрица ковариации, можно свести это к:\n",
    "\n",
    "$$\n",
    "A = U \\bar s U^T\n",
    "$$\n",
    "\n",
    "Что же можно из этого вывести? Рассмотрим на двумерном примере в пространстве \"вода - пластификатор\":"
   ]
  },
  {
   "cell_type": "code",
   "execution_count": null,
   "id": "086caf38-aa0b-459a-9f3e-eb2596ccfb56",
   "metadata": {},
   "outputs": [],
   "source": [
    "scaler = StandardScaler()\n",
    "X = scaler.fit_transform(df[['water', 'superplasticizer']])"
   ]
  },
  {
   "cell_type": "code",
   "execution_count": null,
   "id": "8ff451e5-8051-450c-afbc-c1333e44266d",
   "metadata": {},
   "outputs": [],
   "source": [
    "plt.scatter(X[:,0], X[:,1]);"
   ]
  },
  {
   "cell_type": "code",
   "execution_count": null,
   "id": "e7c7af38-6af3-482c-b51c-23e9f23c2aa6",
   "metadata": {},
   "outputs": [],
   "source": [
    "cov_matrix = np.cov(X, rowvar = False)"
   ]
  },
  {
   "cell_type": "code",
   "execution_count": null,
   "id": "9f544d93-08e9-4fac-b9d7-e23699801e9a",
   "metadata": {},
   "outputs": [],
   "source": [
    "fig, ax = plt.subplots(figsize=(8, 6))\n",
    "sns.heatmap(cov_matrix, annot=True, cmap='icefire');"
   ]
  },
  {
   "cell_type": "code",
   "execution_count": null,
   "id": "e3ea7a8d-664c-4853-8951-64f0dad0af16",
   "metadata": {},
   "outputs": [],
   "source": [
    "S, U = np.linalg.eigh(cov_matrix)\n",
    "print(\"Собственные значения: \\n\", S)\n",
    "print(\"Собственные вектора: \\n\", U)"
   ]
  },
  {
   "cell_type": "markdown",
   "id": "8dc74c33-6120-45e2-842e-e7c115f2f118",
   "metadata": {},
   "source": [
    "**Собственные вектора** такого разложения создадут новый базис, на которой можно спроецировать наши точки:"
   ]
  },
  {
   "cell_type": "code",
   "execution_count": null,
   "id": "6a16f7e2-e0aa-4001-a972-dca8eeab9955",
   "metadata": {},
   "outputs": [],
   "source": [
    "plt.scatter(X[:,0], X[:,1]);\n",
    "\n",
    "for eigenvalue, eigenvector in zip(S, U.T):\n",
    "    scaled_eigenvector = eigenvector * eigenvalue ** 0.5\n",
    "    plt.arrow(X[:,0].mean(), X[:,1].mean(), scaled_eigenvector[0], scaled_eigenvector[1],\n",
    "              color='r', width=0.01, head_width=0.2)"
   ]
  },
  {
   "cell_type": "code",
   "execution_count": null,
   "id": "13ef9f92-15a4-4fb3-8fcb-a5bb1346d0b2",
   "metadata": {},
   "outputs": [],
   "source": [
    "plt.scatter(X @ U[:,0], X @ U[:,1]);"
   ]
  },
  {
   "cell_type": "markdown",
   "id": "fca12080-68ec-47b7-85aa-af94ca0d8ab7",
   "metadata": {},
   "source": [
    "**Собственные значения** соответствуют объясненной дисперсии: чем выше значение, тем важнее соответствующий вектор:"
   ]
  },
  {
   "cell_type": "code",
   "execution_count": null,
   "id": "8495cdee-ca15-4273-b66d-e78e8677e9cb",
   "metadata": {},
   "outputs": [],
   "source": [
    "explained_variance = S / (len(X) - 1)\n",
    "explained_variance / explained_variance.sum()"
   ]
  },
  {
   "cell_type": "markdown",
   "id": "01895aec-78be-4dc6-8c46-4dda0a420a66",
   "metadata": {},
   "source": [
    "Как видим, один из компонентов объясняет более 80% дисперсии, эффективно заменяя два признака!"
   ]
  },
  {
   "cell_type": "markdown",
   "id": "d440b81b-f109-44d7-b56c-af0895fe18fb",
   "metadata": {},
   "source": [
    "Этот способ понижения размерности называется **методом главных компонент (Principal Component Analysis).** В sklearn также есть соответствующая функция в нескольких вариантах."
   ]
  },
  {
   "cell_type": "markdown",
   "id": "bdde3bc7-ff54-4d3e-b9be-b1daea3462fe",
   "metadata": {},
   "source": [
    "#### PCA в sklearn"
   ]
  },
  {
   "cell_type": "code",
   "execution_count": null,
   "id": "9af6ebc4-8f86-4489-8f17-6e495e5ea3c1",
   "metadata": {},
   "outputs": [],
   "source": [
    "from sklearn.decomposition import PCA"
   ]
  },
  {
   "cell_type": "code",
   "execution_count": null,
   "id": "171d369c-2b65-49ee-87d4-b38a3707359d",
   "metadata": {},
   "outputs": [],
   "source": [
    "pca = PCA(n_components=2)\n",
    "X_pca = pca.fit_transform(X)"
   ]
  },
  {
   "cell_type": "code",
   "execution_count": null,
   "id": "ceff7b6e-1725-4604-bfc8-3aaa4ec8091c",
   "metadata": {},
   "outputs": [],
   "source": [
    "plt.scatter(X_pca[:,0], X_pca[:,1]);"
   ]
  },
  {
   "cell_type": "code",
   "execution_count": null,
   "id": "3990b9d1-7bb0-48ef-ad83-9b870eaeb0f5",
   "metadata": {},
   "outputs": [],
   "source": [
    "pca.explained_variance_ratio_"
   ]
  },
  {
   "cell_type": "code",
   "execution_count": null,
   "id": "eac4f262-00b6-4f8b-a915-3ef022bc34ef",
   "metadata": {},
   "outputs": [],
   "source": [
    "X_train_new = X_train.copy()"
   ]
  },
  {
   "cell_type": "code",
   "execution_count": null,
   "id": "5c2a45b4-8de3-4b85-9ed3-baa744445c6b",
   "metadata": {},
   "outputs": [],
   "source": [
    "pca = PCA(n_components=3)\n",
    "X_pca = pca.fit_transform(X_train[['water', 'coarse_aggregate', 'fine_aggregate']])"
   ]
  },
  {
   "cell_type": "code",
   "execution_count": null,
   "id": "13aac8b6-8356-4aa9-a99a-fff7366b8348",
   "metadata": {},
   "outputs": [],
   "source": [
    "X_train_new[['pca1', 'pca2', 'pca3']] = X_pca\n",
    "X_train_new = X_train_new.drop(['water', 'coarse_aggregate', 'fine_aggregate'], axis=1)"
   ]
  },
  {
   "cell_type": "code",
   "execution_count": null,
   "id": "2166499b-65ca-4973-adeb-febf3d33de7e",
   "metadata": {},
   "outputs": [],
   "source": [
    "pca.explained_variance_ratio_"
   ]
  },
  {
   "cell_type": "code",
   "execution_count": null,
   "id": "f8399c79-b0c8-4bd1-be7a-15996f91c235",
   "metadata": {
    "tags": []
   },
   "outputs": [],
   "source": [
    "vif_data = pd.DataFrame()\n",
    "vif_data['feature'] = X_train_new.columns\n",
    "vif_data['VIF'] = [variance_inflation_factor(X_train_new.values, i) for i in range(len(X_train_new.columns))]\n",
    "  \n",
    "vif_data.sort_values(by='VIF', ascending=False)"
   ]
  },
  {
   "cell_type": "markdown",
   "id": "3fd86048-287a-4079-ad8d-889eb9fb299b",
   "metadata": {},
   "source": [
    "## Организуем конвейер"
   ]
  },
  {
   "cell_type": "code",
   "execution_count": null,
   "id": "6207d6d6-6f0e-4f9b-9816-825a1816c511",
   "metadata": {},
   "outputs": [],
   "source": [
    "columns_to_merge = ['water', 'coarse_aggregate', 'fine_aggregate']"
   ]
  },
  {
   "cell_type": "markdown",
   "id": "c867fc81-d7f4-4de6-b40b-d47faec34080",
   "metadata": {},
   "source": [
    "**Деревянные модели довольно равнодушны к разнице в масштабе признаков (хотя иногда трансформация может помочь).**"
   ]
  },
  {
   "cell_type": "code",
   "execution_count": null,
   "id": "f64ef3c2-fc4d-4a06-9db1-9ec996e3edeb",
   "metadata": {},
   "outputs": [],
   "source": [
    "# Список скейлеров:\n",
    "scaler_list = [\n",
    "               None,\n",
    "               #MinMaxScaler(),\n",
    "               StandardScaler(),\n",
    "               #RobustScaler(),\n",
    "               PowerTransformer(),\n",
    "               QuantileTransformer(random_state=RANDOM_STATE, n_quantiles=500),\n",
    "               QuantileTransformer(random_state=RANDOM_STATE, output_distribution='normal', n_quantiles=500),\n",
    "              ]\n",
    "\n",
    "# Предобработка по группам признаков:\n",
    "transformers = [\n",
    "                   (\"pca\", PCA(n_components=2), columns_to_merge),\n",
    "               ]\n",
    "\n",
    "preprocessor = ColumnTransformer(transformers=transformers, remainder='passthrough', n_jobs=-1)"
   ]
  },
  {
   "cell_type": "code",
   "execution_count": null,
   "id": "0b13883f-a1a2-40ad-8d5b-7219821439a4",
   "metadata": {},
   "outputs": [],
   "source": [
    "def optimize(model, params, X, y, scoring='neg_mean_squared_error'):\n",
    "    name = f'{type(model).__name__}'\n",
    "    print(f'Оптимизация {name}...')\n",
    "    pipe = Pipeline([\n",
    "                        ('preprocessor', preprocessor),\n",
    "                        ('scaler', None),                \n",
    "                        ('model', model)\n",
    "                    ])\n",
    "    gcv = GridSearchCV(pipe, params, cv=4, scoring=scoring, n_jobs=-1)\n",
    "    gcv.fit(X, y)\n",
    "    print(f'Лучшие гиперпараметры: {dict(gcv.best_params_)}')\n",
    "    print(f'MSE: {(-gcv.best_score_):.2f}')\n",
    "    return gcv.best_estimator_"
   ]
  },
  {
   "cell_type": "code",
   "execution_count": null,
   "id": "b6fa8da6-31bd-4398-8e7b-f4dacd7fdb9b",
   "metadata": {},
   "outputs": [],
   "source": [
    "tree_params = {\n",
    "                    #'scaler':scaler_list,\n",
    "                    'preprocessor__pca__n_components':[1, 2, 3],\n",
    "                    'model__max_depth':range(1, 21),\n",
    "                    'model__min_samples_split':range(2, 10),\n",
    "                    'model__min_samples_leaf':range(1, 10)\n",
    "              }"
   ]
  },
  {
   "cell_type": "code",
   "execution_count": null,
   "id": "5b75c500-6322-404e-972a-9a1a8527ddd4",
   "metadata": {},
   "outputs": [],
   "source": [
    "best_tree = optimize(DecisionTreeRegressor(random_state=RANDOM_STATE), tree_params, X_train, y_train)"
   ]
  },
  {
   "cell_type": "code",
   "execution_count": null,
   "id": "71d908c1-8335-46e4-974e-857b41fd1630",
   "metadata": {},
   "outputs": [],
   "source": [
    "predictions = best_tree.predict(X_test)\n",
    "mse = mean_squared_error (y_test, predictions)\n",
    "mae = mean_absolute_error(y_test, predictions)\n",
    "r2 = r2_score(y_test, predictions)\n",
    "\n",
    "print(f'Тестовая выборка - MSE: {mse:.2f}, MAE: {mae:.2f}, R2 {r2:.0%}.')"
   ]
  },
  {
   "cell_type": "markdown",
   "id": "1480903d-7b2a-41dc-a452-b3361bd0e1b2",
   "metadata": {},
   "source": [
    "## Ансамбли деревянных моделей"
   ]
  },
  {
   "cell_type": "code",
   "execution_count": null,
   "id": "d0d5886a-d412-4ae8-a7ab-4e39a7abef95",
   "metadata": {},
   "outputs": [],
   "source": [
    "from sklearn.ensemble import RandomForestRegressor, ExtraTreesRegressor"
   ]
  },
  {
   "cell_type": "markdown",
   "id": "4d679ca8-e4cb-43bb-aa3c-0b05a9bb88c2",
   "metadata": {},
   "source": [
    "### Bagging (bootstrap aggregating)"
   ]
  },
  {
   "cell_type": "markdown",
   "id": "f32e57ac-996e-4164-98c8-13707fea1736",
   "metadata": {},
   "source": [
    "Этот метод выбирает из обучающей выборки множество подвыборок (с возвращением), а также, в зависимости от реализации, может брать для каждой случайное подмножество признаков. На каждой строится дерево решений, и их результаты усредняются. Это неплохо снижает дисперсию модели:"
   ]
  },
  {
   "cell_type": "code",
   "execution_count": null,
   "id": "fc828d99-a88e-496e-ad7d-f1f29c1956c7",
   "metadata": {},
   "outputs": [],
   "source": [
    "forest_params = {\n",
    "                    'preprocessor__pca__n_components':[1, 2, 3],\n",
    "                    'model__max_depth' : range(5, 25),\n",
    "                    'model__n_estimators' : [200],\n",
    "                    'model__min_samples_split':range(2, 5),\n",
    "                }"
   ]
  },
  {
   "cell_type": "code",
   "execution_count": null,
   "id": "f4b151e0-bfe1-4b28-9cda-135aa0bad8df",
   "metadata": {},
   "outputs": [],
   "source": [
    "best_forest = optimize(RandomForestRegressor(random_state=RANDOM_STATE, n_jobs=-1), forest_params, X_train, y_train)"
   ]
  },
  {
   "cell_type": "code",
   "execution_count": null,
   "id": "6846f38f-6442-4ca4-8cd6-d7a8b3111a57",
   "metadata": {},
   "outputs": [],
   "source": [
    "predictions = best_forest.predict(X_test)\n",
    "mse = mean_squared_error (y_test, predictions)\n",
    "mae = mean_absolute_error(y_test, predictions)\n",
    "r2 = r2_score(y_test, predictions)\n",
    "\n",
    "print(f'Тестовая выборка - MSE: {mse:.2f}, MAE: {mae:.2f}, R2 {r2:.0%}.')"
   ]
  },
  {
   "cell_type": "markdown",
   "id": "f26a0191-cc1e-40c3-9712-6e2920db3cae",
   "metadata": {},
   "source": [
    "### Pasting"
   ]
  },
  {
   "cell_type": "markdown",
   "id": "e12256d9-d5a2-45fc-a190-d63b57813aa3",
   "metadata": {},
   "source": [
    "Похожий метод, но выборки делаются без возвращения, а ветвление делается случайно, а не по критерию."
   ]
  },
  {
   "cell_type": "code",
   "execution_count": null,
   "id": "68e9d4b3-fba9-4488-b62d-ef55f06d03f1",
   "metadata": {},
   "outputs": [],
   "source": [
    "best_et = optimize(ExtraTreesRegressor(random_state=RANDOM_STATE, n_jobs=-1), forest_params, X_train, y_train)"
   ]
  },
  {
   "cell_type": "code",
   "execution_count": null,
   "id": "a61ec0b7-60c9-4a67-a4f3-e446bb29f865",
   "metadata": {},
   "outputs": [],
   "source": [
    "predictions = best_et.predict(X_test)\n",
    "mse = mean_squared_error (y_test, predictions)\n",
    "mae = mean_absolute_error(y_test, predictions)\n",
    "r2 = r2_score(y_test, predictions)\n",
    "\n",
    "print(f'Тестовая выборка - MSE: {mse:.2f}, MAE: {mae:.2f}, R2 {r2:.0%}.')"
   ]
  },
  {
   "cell_type": "markdown",
   "id": "7f179f26-b293-4fa0-9a06-8a98ea2a70a2",
   "metadata": {},
   "source": [
    "### Boosting"
   ]
  },
  {
   "cell_type": "markdown",
   "id": "6ff52c8f-7968-4240-b2d9-2044290e7e4f",
   "metadata": {},
   "source": [
    "В этом варианте деревья выращиваются последовательно, и каждое предсказывает ошибку предыдущего."
   ]
  },
  {
   "cell_type": "code",
   "execution_count": null,
   "id": "50e2de64-8fbc-4b97-afc3-d598a17aa1c5",
   "metadata": {},
   "outputs": [],
   "source": [
    "from sklearn.ensemble import HistGradientBoostingRegressor"
   ]
  },
  {
   "cell_type": "code",
   "execution_count": null,
   "id": "f8901bea-9d9e-4ff8-a4ac-b8b168877da8",
   "metadata": {},
   "outputs": [],
   "source": [
    "boost_params = {\n",
    "                    'preprocessor__pca__n_components':[1, 2, 3],\n",
    "                    'model__max_depth' : range(1, 10),\n",
    "                    'model__max_iter' : [200, 500, 1000],\n",
    "                }"
   ]
  },
  {
   "cell_type": "code",
   "execution_count": null,
   "id": "4667a588-b787-422b-adbf-c23f63c997c4",
   "metadata": {},
   "outputs": [],
   "source": [
    "best_hgb = optimize(HistGradientBoostingRegressor(random_state=RANDOM_STATE), boost_params, X_train, y_train)"
   ]
  },
  {
   "cell_type": "code",
   "execution_count": null,
   "id": "9f62a2a9-acfb-4ce4-90b8-7c33424a8585",
   "metadata": {},
   "outputs": [],
   "source": [
    "predictions = best_hgb.predict(X_test)\n",
    "mse = mean_squared_error (y_test, predictions)\n",
    "mae = mean_absolute_error(y_test, predictions)\n",
    "r2 = r2_score(y_test, predictions)\n",
    "\n",
    "print(f'Тестовая выборка - MSE: {mse:.2f}, MAE: {mae:.2f}, R2 {r2:.0%}.')"
   ]
  },
  {
   "cell_type": "markdown",
   "id": "a59bbac7-b34f-4464-9cba-cfcd81a44286",
   "metadata": {},
   "source": [
    "Популярные библиотеки градиентного бустинга:\n",
    "\n",
    "- XGBoost\n",
    "- Catboost\n",
    "- LightGBM"
   ]
  },
  {
   "cell_type": "markdown",
   "id": "6dbc8c27-a925-4c19-a6e5-e84ad6f1b6ce",
   "metadata": {},
   "source": [
    "## Ансамбли более высокого уровня"
   ]
  },
  {
   "cell_type": "code",
   "execution_count": null,
   "id": "d5f38eed-1d1e-4c5b-ae43-412ce29b503e",
   "metadata": {},
   "outputs": [],
   "source": [
    "from sklearn.ensemble import VotingRegressor, StackingRegressor"
   ]
  },
  {
   "cell_type": "markdown",
   "id": "e761bedd-19bb-4a09-9496-58a4e5398ad1",
   "metadata": {},
   "source": [
    "### Голосование"
   ]
  },
  {
   "cell_type": "markdown",
   "id": "c2301c97-89e2-48c3-828c-32ade293d56a",
   "metadata": {},
   "source": [
    "Усредняет предсказания разных моделей, позволяя снизить дисперсию еще сильнее."
   ]
  },
  {
   "cell_type": "code",
   "execution_count": null,
   "id": "eb508e48-1804-4ec0-93bd-30db51d68f1d",
   "metadata": {},
   "outputs": [],
   "source": [
    "voters = [('et', best_et), ('gb', best_hgb)]\n",
    "vote = VotingRegressor(estimators=voters, n_jobs=-1)"
   ]
  },
  {
   "cell_type": "code",
   "execution_count": null,
   "id": "37bd2e42-24a9-46e0-a991-97a6bfdb0cc9",
   "metadata": {},
   "outputs": [],
   "source": [
    "vote.fit(X_train, y_train)"
   ]
  },
  {
   "cell_type": "code",
   "execution_count": null,
   "id": "2dfd6b29-4903-451c-8ab1-6149392036a0",
   "metadata": {},
   "outputs": [],
   "source": [
    "predictions = vote.predict(X_test)\n",
    "mse = mean_squared_error (y_test, predictions)\n",
    "mae = mean_absolute_error(y_test, predictions)\n",
    "r2 = r2_score(y_test, predictions)\n",
    "\n",
    "print(f'Тестовая выборка - MSE: {mse:.2f}, MAE: {mae:.2f}, R2 {r2:.0%}.')"
   ]
  },
  {
   "cell_type": "markdown",
   "id": "d75b464a-5c21-45af-836f-5694089b86b4",
   "metadata": {},
   "source": [
    "### Stacking/Blending"
   ]
  },
  {
   "cell_type": "markdown",
   "id": "61ed47db-c139-4b14-a310-eb2a90bfee24",
   "metadata": {},
   "source": [
    "Похожие методы, которые используют предсказания отдельных моделей как признаки для метамодели. Как правило, метамодель берется линейная."
   ]
  },
  {
   "cell_type": "code",
   "execution_count": null,
   "id": "af2fa099-b106-4c7f-80ba-3778c16badaa",
   "metadata": {},
   "outputs": [],
   "source": [
    "stack = StackingRegressor(estimators=voters, final_estimator=LinearRegression(), cv=4, n_jobs=-1)"
   ]
  },
  {
   "cell_type": "code",
   "execution_count": null,
   "id": "ebdd6a82-3d3e-4174-b198-c0eae26c0ce1",
   "metadata": {},
   "outputs": [],
   "source": [
    "stack.fit(X_train, y_train)"
   ]
  },
  {
   "cell_type": "code",
   "execution_count": null,
   "id": "7295a6de-83fa-472e-a5ec-ca1190fc00bb",
   "metadata": {},
   "outputs": [],
   "source": [
    "predictions = stack.predict(X_test)\n",
    "mse = mean_squared_error (y_test, predictions)\n",
    "mae = mean_absolute_error(y_test, predictions)\n",
    "r2 = r2_score(y_test, predictions)\n",
    "\n",
    "print(f'Тестовая выборка - MSE: {mse:.2f}, MAE: {mae:.2f}, R2 {r2:.0%}.')"
   ]
  },
  {
   "cell_type": "markdown",
   "id": "5d5d2881-6759-4c7f-8e19-0769513c0066",
   "metadata": {},
   "source": [
    "### Ансамбли классификации на коррекции ошибок"
   ]
  },
  {
   "cell_type": "code",
   "execution_count": null,
   "id": "28c0dd44-ad46-4435-a964-108b6c8b35be",
   "metadata": {},
   "outputs": [],
   "source": [
    "from sklearn.multiclass import OutputCodeClassifier\n",
    "from sklearn.tree import DecisionTreeClassifier"
   ]
  },
  {
   "cell_type": "code",
   "execution_count": null,
   "id": "cf670ef0-6e2d-406d-ac68-d2d3263676a8",
   "metadata": {},
   "outputs": [],
   "source": [
    "df_titanic = pd.read_csv('titanic.csv').drop(['PassengerId', 'Name', 'Ticket', 'Cabin', 'Embarked'], axis=1)\n",
    "df_titanic['Sex'] = (df_titanic['Sex'] == 'male').astype('int')"
   ]
  },
  {
   "cell_type": "code",
   "execution_count": null,
   "id": "1aa82070-cf81-4ae4-8f16-6e1c7f02d823",
   "metadata": {},
   "outputs": [],
   "source": [
    "X_train_t, X_test_t, y_train_t, y_test_t = train_test_split(df_titanic.drop(['Survived'], axis=1),\n",
    "                                                    df_titanic['Survived'],\n",
    "                                                    test_size=0.2,\n",
    "                                                    random_state=177013,\n",
    "                                                    shuffle=True,\n",
    "                                                    stratify=df_titanic['Survived'],\n",
    "                                                    )"
   ]
  },
  {
   "cell_type": "code",
   "execution_count": null,
   "id": "9578359c-b2aa-40f5-adea-3432fee1bd99",
   "metadata": {},
   "outputs": [],
   "source": [
    "ecoc = OutputCodeClassifier(estimator=DecisionTreeClassifier(random_state=RANDOM_STATE), random_state=RANDOM_STATE, n_jobs=-1)"
   ]
  },
  {
   "cell_type": "code",
   "execution_count": null,
   "id": "897ef763-713a-4a11-9535-be8bc072c226",
   "metadata": {},
   "outputs": [],
   "source": [
    "ecoc_params = {\n",
    "                    #'scaler':scaler_list,\n",
    "                    'preprocessor':[None],\n",
    "                    'model__estimator__max_depth':range(1, 21),\n",
    "                    'model__estimator__min_samples_split':range(2, 10),\n",
    "                    'model__estimator__min_samples_leaf':range(1, 10)\n",
    "              }"
   ]
  },
  {
   "cell_type": "code",
   "execution_count": null,
   "id": "282e582d-e6b2-4c3b-9a84-71833c5707b3",
   "metadata": {},
   "outputs": [],
   "source": [
    "best_ecoc = optimize(ecoc, ecoc_params, X_train_t, y_train_t, scoring=\"balanced_accuracy\")"
   ]
  },
  {
   "cell_type": "code",
   "execution_count": null,
   "id": "94bfa8ce-09e9-449b-835a-04a4fa11f3bd",
   "metadata": {},
   "outputs": [],
   "source": [
    "accuracy_score(y_test_t, best_ecoc.predict(X_test_t))"
   ]
  },
  {
   "cell_type": "markdown",
   "id": "d25f8899-37b3-48eb-871d-9824d4c7671e",
   "metadata": {},
   "source": [
    "## Другие популярные модели"
   ]
  },
  {
   "cell_type": "markdown",
   "id": "c6ffdc57-dd6d-4d6f-922e-946e5ca4f3c3",
   "metadata": {},
   "source": [
    "### Метод ближайших соседей"
   ]
  },
  {
   "cell_type": "code",
   "execution_count": null,
   "id": "2f5e3f1d-e960-4d1f-89c4-5d020938a3fe",
   "metadata": {},
   "outputs": [],
   "source": [
    "from sklearn.neighbors import KNeighborsRegressor"
   ]
  },
  {
   "cell_type": "markdown",
   "id": "4c7d2558-8f1a-4c01-87f4-3af3439970e1",
   "metadata": {},
   "source": [
    "**Метод ближайших соседей чувствителен к масштабу. Вам понадобится скейлер.**"
   ]
  },
  {
   "cell_type": "code",
   "execution_count": null,
   "id": "183d6403-444c-4f9c-bb46-bc1967d071ec",
   "metadata": {
    "tags": []
   },
   "outputs": [],
   "source": [
    "knn_params = {\n",
    "                    'scaler':scaler_list,\n",
    "                    'preprocessor__pca__n_components':[1, 2, 3],\n",
    "                    'model__n_neighbors' : range(1, 10),\n",
    "                    'model__weights' : ['uniform', 'distance'],\n",
    "                    'model__metric' :['minkowski', 'cityblock', 'cosine']\n",
    "    \n",
    "             }"
   ]
  },
  {
   "cell_type": "code",
   "execution_count": null,
   "id": "f5e59968-a28c-4b5a-ba5f-836ac932474d",
   "metadata": {},
   "outputs": [],
   "source": [
    "best_knn = optimize(KNeighborsRegressor(n_jobs=-1), knn_params, X_train, y_train)"
   ]
  },
  {
   "cell_type": "code",
   "execution_count": null,
   "id": "b4237b00-69cc-4332-8f80-232110f35be1",
   "metadata": {},
   "outputs": [],
   "source": [
    "predictions = best_knn.predict(X_test)\n",
    "mse = mean_squared_error (y_test, predictions)\n",
    "mae = mean_absolute_error(y_test, predictions)\n",
    "r2 = r2_score(y_test, predictions)\n",
    "\n",
    "print(f'Тестовая выборка - MSE: {mse:.2f}, MAE: {mae:.2f}, R2 {r2:.0%}.')"
   ]
  },
  {
   "cell_type": "markdown",
   "id": "a6f44ef4-1699-44a3-9b1b-263744dfc2f3",
   "metadata": {},
   "source": [
    "Этот метод нетрудно адаптировать для заполнения пропусков в данных:"
   ]
  },
  {
   "cell_type": "code",
   "execution_count": null,
   "id": "65671a24-7dd3-44f7-8656-73f64aecb50a",
   "metadata": {},
   "outputs": [],
   "source": [
    "from sklearn.impute import KNNImputer"
   ]
  },
  {
   "cell_type": "code",
   "execution_count": null,
   "id": "91f9a201-90f7-462d-a3de-6a6d1997eba4",
   "metadata": {},
   "outputs": [],
   "source": [
    "imputer = KNNImputer(n_neighbors=5, weights='uniform', add_indicator=True).set_output(transform='pandas')"
   ]
  },
  {
   "cell_type": "code",
   "execution_count": null,
   "id": "8dc9d1c7-0c6c-484c-8ee4-01d91ffc6663",
   "metadata": {},
   "outputs": [],
   "source": [
    "df_titanic = pd.read_csv('titanic.csv').drop(['PassengerId', 'Name', 'Ticket', 'Cabin', 'Embarked'], axis=1)\n",
    "df_titanic['Sex'] = (df_titanic['Sex'] == 'male').astype('int')"
   ]
  },
  {
   "cell_type": "code",
   "execution_count": null,
   "id": "305973b2-b0e7-4bf0-822a-6498485f4a77",
   "metadata": {},
   "outputs": [],
   "source": [
    "df_titanic = imputer.fit_transform(df_titanic)"
   ]
  },
  {
   "cell_type": "code",
   "execution_count": null,
   "id": "462c4a8b-fa5b-42d1-926a-1e9aba815ead",
   "metadata": {},
   "outputs": [],
   "source": [
    "df_titanic.tail()"
   ]
  },
  {
   "cell_type": "markdown",
   "id": "9667a659-8ce4-4273-b5d4-99cb63e2f122",
   "metadata": {},
   "source": [
    "### Метод опорных векторов (SVM)"
   ]
  },
  {
   "cell_type": "code",
   "execution_count": null,
   "id": "c54a7608-63ff-4455-8162-601fc7fb0d06",
   "metadata": {},
   "outputs": [],
   "source": [
    "from sklearn.svm import SVR"
   ]
  },
  {
   "cell_type": "markdown",
   "id": "ce8ae54d-6a10-4c2f-901b-4a700f28313b",
   "metadata": {},
   "source": [
    "**Метод опорных векторов также чувствителен к масштабу.**"
   ]
  },
  {
   "cell_type": "code",
   "execution_count": null,
   "id": "1224b6bd-bc8c-49b2-9131-f109ec84ac32",
   "metadata": {},
   "outputs": [],
   "source": [
    "svr_params = {\n",
    "                    'scaler':scaler_list,\n",
    "                    'preprocessor__pca__n_components':[1, 2, 3],\n",
    "                    'model__epsilon': [0.1, 0.2, 0.3, 0.4, 0.5],\n",
    "                    'model__C':[0.1, 1, 10, 100, 1000, 10000]\n",
    "             }"
   ]
  },
  {
   "cell_type": "code",
   "execution_count": null,
   "id": "10a992cf-c524-4d7c-ad9b-3d8d3880592c",
   "metadata": {},
   "outputs": [],
   "source": [
    "best_svr = optimize(SVR(), svr_params, X_train, y_train)"
   ]
  },
  {
   "cell_type": "code",
   "execution_count": null,
   "id": "355c600c-3f56-46ba-ad09-cc88c6307218",
   "metadata": {},
   "outputs": [],
   "source": [
    "predictions = best_svr.predict(X_test)\n",
    "mse = mean_squared_error (y_test, predictions)\n",
    "mae = mean_absolute_error(y_test, predictions)\n",
    "r2 = r2_score(y_test, predictions)\n",
    "\n",
    "print(f'Тестовая выборка - MSE: {mse:.2f}, MAE: {mae:.2f}, R2 {r2:.0%}.')"
   ]
  },
  {
   "cell_type": "markdown",
   "id": "4183a5b7-72a3-4300-bcd2-1ae6c8c12fa5",
   "metadata": {},
   "source": [
    "### GLM"
   ]
  },
  {
   "cell_type": "code",
   "execution_count": null,
   "id": "af55f0eb-d38b-4cca-a01c-f5e55d2d2367",
   "metadata": {},
   "outputs": [],
   "source": [
    "from sklearn.linear_model import GammaRegressor, TweedieRegressor, PoissonRegressor"
   ]
  },
  {
   "cell_type": "markdown",
   "id": "bf2b5848-463b-4720-9a5d-c257cc00be2d",
   "metadata": {},
   "source": [
    "Обобщение линейных моделей для разных распределений целевой переменной. Например:\n",
    "\n",
    "- Нормальное распределение (`power=0`). Сводится к обычной линейной регрессии.\n",
    "- Распределение Пуассона (`power=1` или `PoissonRegressor()`). Хорошо подходит, если надо предсказать, например, штучное количество.\n",
    "- Гамма-распределение(`power=2` или `GammaRegressor()`). Обобщение экспоненциального. Подходит, например, для затраченного времени или расходов на событие.\n",
    "- Обратное нормальному распределение(`power=2`). Для целевых переменных с большим \"хвостом\".\n",
    "- Гибрид гамма-Пуассона(`power=1.5`). Например, сумма расходов за год."
   ]
  },
  {
   "cell_type": "code",
   "execution_count": null,
   "id": "cf474d2a-9aca-4157-967a-d279620c228d",
   "metadata": {},
   "outputs": [],
   "source": [
    "tw_params = {\n",
    "                    'scaler':scaler_list,\n",
    "                    'preprocessor__pca__n_components':[1, 2, 3],\n",
    "                    'model__power':np.linspace(0, 4, 5),\n",
    "                    'model__alpha':np.logspace(-6, 2, 9),\n",
    "               }"
   ]
  },
  {
   "cell_type": "code",
   "execution_count": null,
   "id": "4caabecf-ab66-4cc9-8371-9f1903e45072",
   "metadata": {},
   "outputs": [],
   "source": [
    "best_tw = optimize(TweedieRegressor(), tw_params, X_train, y_train)"
   ]
  },
  {
   "cell_type": "code",
   "execution_count": null,
   "id": "d82240bf-57b0-4d9b-b2eb-a5611d626d75",
   "metadata": {},
   "outputs": [],
   "source": [
    "predictions = best_tw.predict(X_test)\n",
    "mse = mean_squared_error (y_test, predictions)\n",
    "mae = mean_absolute_error(y_test, predictions)\n",
    "r2 = r2_score(y_test, predictions)\n",
    "\n",
    "print(f'Тестовая выборка - MSE: {mse:.2f}, MAE: {mae:.2f}, R2 {r2:.0%}.')"
   ]
  },
  {
   "cell_type": "markdown",
   "id": "af910698-a52c-4bcf-8424-f0111ea0a8a9",
   "metadata": {},
   "source": [
    "### Кригинг"
   ]
  },
  {
   "cell_type": "code",
   "execution_count": null,
   "id": "0948fcdc-ec4d-49f9-8245-545e26d194fa",
   "metadata": {},
   "outputs": [],
   "source": [
    "from sklearn.gaussian_process import GaussianProcessRegressor"
   ]
  },
  {
   "cell_type": "code",
   "execution_count": null,
   "id": "5739d252-8106-4949-a0cb-cfae5a1854d1",
   "metadata": {},
   "outputs": [],
   "source": [
    "krig_params = {\n",
    "                    'scaler':scaler_list,\n",
    "                    'preprocessor__pca__n_components':[1, 2, 3],\n",
    "                    #'model__alpha': np.logspace(-10, 1, 12),\n",
    "                    'model__normalize_y' :[True, False],\n",
    "    \n",
    "             }"
   ]
  },
  {
   "cell_type": "code",
   "execution_count": null,
   "id": "7809e012-a84c-45ca-82c5-904e207c4c10",
   "metadata": {},
   "outputs": [],
   "source": [
    "best_krig = optimize(GaussianProcessRegressor(random_state=RANDOM_STATE, alpha=0.1), krig_params, X_train, y_train)"
   ]
  },
  {
   "cell_type": "code",
   "execution_count": null,
   "id": "1010dbcf-af09-4921-b800-214c03fdc56b",
   "metadata": {},
   "outputs": [],
   "source": [
    "predictions = best_krig.predict(X_test)\n",
    "mse = mean_squared_error (y_test, predictions)\n",
    "mae = mean_absolute_error(y_test, predictions)\n",
    "r2 = r2_score(y_test, predictions)\n",
    "\n",
    "print(f'Тестовая выборка - MSE: {mse:.2f}, MAE: {mae:.2f}, R2 {r2:.0%}.')"
   ]
  },
  {
   "cell_type": "code",
   "execution_count": null,
   "id": "7f5d7665-db3f-4899-ae73-22397d961c4c",
   "metadata": {},
   "outputs": [],
   "source": [
    "for n, (mean, std) in enumerate(zip(*best_krig.predict(X_test, return_std=True))):\n",
    "    print(f'{mean} ± {std * 1.96} vs {y_test.iloc[n]}')\n",
    "    if n >=10:\n",
    "        break"
   ]
  },
  {
   "cell_type": "code",
   "execution_count": null,
   "id": "c75806c5-95e3-4ca1-b341-033b81b3b2b5",
   "metadata": {},
   "outputs": [],
   "source": [
    "from sklearn.metrics import make_scorer"
   ]
  },
  {
   "cell_type": "code",
   "execution_count": null,
   "id": "46d11a24-15d4-4561-ae02-067bff3b72d2",
   "metadata": {},
   "outputs": [],
   "source": [
    "def interval_hit(estimator, X, y):\n",
    "    mean, std = estimator.predict(X, return_std=True)\n",
    "    lower_bound = mean - std * 1.96\n",
    "    upper_bound = mean + std * 1.96\n",
    "    return np.mean((lower_bound <= y) & (y <= upper_bound))"
   ]
  },
  {
   "cell_type": "code",
   "execution_count": null,
   "id": "4844ab27-2c88-4cf6-a03e-00b71b2aa389",
   "metadata": {},
   "outputs": [],
   "source": [
    "def optimize_for_hit(model, params, X, y):\n",
    "    name = f'{type(model).__name__}'\n",
    "    print(f'Оптимизация {name}...')\n",
    "    pipe = Pipeline([\n",
    "                        ('preprocessor', preprocessor),\n",
    "                        ('scaler', None),                \n",
    "                        ('model', model)\n",
    "                    ])\n",
    "    gcv = GridSearchCV(pipe, params, cv=4, scoring=interval_hit, n_jobs=-1)\n",
    "    gcv.fit(X, y)\n",
    "    print(f'Лучшие гиперпараметры: {dict(gcv.best_params_)}')\n",
    "    print(f'Попаданий в интервал: {(gcv.best_score_):.2%}')\n",
    "    return gcv.best_estimator_"
   ]
  },
  {
   "cell_type": "code",
   "execution_count": null,
   "id": "5bf5ab15-93b6-4c77-9a52-626e78dcc7ce",
   "metadata": {},
   "outputs": [],
   "source": [
    "krig_params = {\n",
    "                    'scaler':scaler_list,\n",
    "                    'preprocessor__pca__n_components':[1, 2, 3],\n",
    "                    'model__alpha': np.logspace(-10, 2, 13),\n",
    "                    'model__normalize_y' :[True, False],\n",
    "    \n",
    "             }"
   ]
  },
  {
   "cell_type": "code",
   "execution_count": null,
   "id": "dcf7a48e-11a3-4e66-ae57-2d778ef7d435",
   "metadata": {},
   "outputs": [],
   "source": [
    "best_krig = optimize_for_hit(GaussianProcessRegressor(random_state=RANDOM_STATE), krig_params, X_train, y_train)"
   ]
  },
  {
   "cell_type": "code",
   "execution_count": null,
   "id": "f28303e6-34f1-418a-a833-55dca51ac641",
   "metadata": {},
   "outputs": [],
   "source": [
    "predictions = best_krig.predict(X_test)\n",
    "mse = mean_squared_error (y_test, predictions)\n",
    "mae = mean_absolute_error(y_test, predictions)\n",
    "r2 = r2_score(y_test, predictions)\n",
    "\n",
    "print(f'Тестовая выборка - MSE: {mse:.2f}, MAE: {mae:.2f}, R2 {r2:.0%}.')"
   ]
  },
  {
   "cell_type": "code",
   "execution_count": null,
   "id": "693c5373-9d6b-48d7-aa19-72267c9d75e8",
   "metadata": {},
   "outputs": [],
   "source": [
    "interval_hit(best_krig, X_test, y_test)"
   ]
  },
  {
   "cell_type": "code",
   "execution_count": null,
   "id": "057b2591-e998-417b-aaec-936e32f6e759",
   "metadata": {},
   "outputs": [],
   "source": [
    "for n, (mean, std) in enumerate(zip(*best_krig.predict(X_test, return_std=True))):\n",
    "    print(f'{mean} ± {std * 1.96} vs {y_test.iloc[n]}')\n",
    "    if n >=10:\n",
    "        break"
   ]
  },
  {
   "cell_type": "markdown",
   "id": "02f4917d-3810-4667-888b-3e260b395c24",
   "metadata": {},
   "source": [
    "### Наивный Байес"
   ]
  },
  {
   "cell_type": "code",
   "execution_count": null,
   "id": "23b1c821-067d-4282-a169-aea4e213191b",
   "metadata": {},
   "outputs": [],
   "source": [
    "from sklearn.naive_bayes import GaussianNB, MultinomialNB, ComplementNB, BernoulliNB"
   ]
  },
  {
   "cell_type": "code",
   "execution_count": null,
   "id": "f008b175-a32f-4d55-83cb-34f27fe74284",
   "metadata": {},
   "outputs": [],
   "source": [
    "X_train_t, X_test_t, y_train_t, y_test_t = train_test_split(df_titanic.drop(['Survived'], axis=1),\n",
    "                                                    df_titanic['Survived'],\n",
    "                                                    test_size=0.2,\n",
    "                                                    random_state=177013,\n",
    "                                                    shuffle=True,\n",
    "                                                    stratify=df_titanic['Survived'],\n",
    "                                                    )"
   ]
  },
  {
   "cell_type": "code",
   "execution_count": null,
   "id": "3702074e-24ee-4b9b-ac26-d1c8e49f8f45",
   "metadata": {},
   "outputs": [],
   "source": [
    "nb = GaussianNB().fit(X_train_t, y_train_t)"
   ]
  },
  {
   "cell_type": "code",
   "execution_count": null,
   "id": "b96bb270-91bb-4158-99e5-8336eb2e7a90",
   "metadata": {},
   "outputs": [],
   "source": [
    "accuracy_score(y_test_t, nb.predict(X_test_t))"
   ]
  },
  {
   "cell_type": "markdown",
   "id": "f2c42ff8-f9b3-4f55-9cb4-9cc0aed0f781",
   "metadata": {},
   "source": [
    "## Feature importance"
   ]
  },
  {
   "cell_type": "markdown",
   "id": "61b4a840-d368-46bf-8872-83594830a828",
   "metadata": {},
   "source": [
    "К определению итоговой важности признаков есть несколько подходов:\n",
    "\n",
    "1. Признаки, которые модель чаще использовала для обобщения при учебе. У многих классов моделей есть свойство `feature_importances_`."
   ]
  },
  {
   "cell_type": "code",
   "execution_count": null,
   "id": "faf73c9c-5c10-42d5-b0f4-272a1d35c10b",
   "metadata": {},
   "outputs": [],
   "source": [
    "mdi_importances = pd.Series(best_forest['model'].feature_importances_, index=best_forest[:-1].get_feature_names_out())"
   ]
  },
  {
   "cell_type": "code",
   "execution_count": null,
   "id": "fba48b18-3c9b-4bf8-b03a-ad5c3c8a369d",
   "metadata": {},
   "outputs": [],
   "source": [
    "mdi_importances.plot(kind='bar');\n",
    "plt.xlabel('Признак')\n",
    "plt.ylabel('Влияние');"
   ]
  },
  {
   "cell_type": "markdown",
   "id": "c14ba915-0a38-4eb2-9bb8-3c6c0994d393",
   "metadata": {},
   "source": [
    "Недостаток подхода в том, что признаки с большой кардинальностью получают больший вес. Кроме того, понижение размерности не позволяет судить об изначальном влиянии.\n",
    "\n",
    "2. Признаки, которые сильнее всего влияют на метрику."
   ]
  },
  {
   "cell_type": "code",
   "execution_count": null,
   "id": "fc4675fe-fe3a-4046-931e-aa40292f936c",
   "metadata": {},
   "outputs": [],
   "source": [
    "from sklearn.inspection import permutation_importance"
   ]
  },
  {
   "cell_type": "code",
   "execution_count": null,
   "id": "414ab143-9b3f-4951-a8c4-d526fac43989",
   "metadata": {},
   "outputs": [],
   "source": [
    "perm_importances = pd.Series(permutation_importance(best_forest, X_test, y_test, random_state=RANDOM_STATE, scoring='r2', n_jobs=-1)['importances_mean'], index=X_test.columns)"
   ]
  },
  {
   "cell_type": "code",
   "execution_count": null,
   "id": "f53685c0-de36-427f-976a-d95f2a14028f",
   "metadata": {},
   "outputs": [],
   "source": [
    "perm_importances.plot(kind='bar');\n",
    "plt.xlabel('Признак')\n",
    "plt.ylabel('Влияние');"
   ]
  },
  {
   "cell_type": "markdown",
   "id": "ae354695-946d-4e96-8af5-033c3fd6bfef",
   "metadata": {},
   "source": [
    "2. Признаки, которые сильнее всего влияют на предсказание (не обязательно корректное)."
   ]
  },
  {
   "cell_type": "code",
   "execution_count": null,
   "id": "1afa2f63-9ad3-4d7a-99b9-65082971825d",
   "metadata": {},
   "outputs": [],
   "source": [
    "np.bool = bool"
   ]
  },
  {
   "cell_type": "code",
   "execution_count": null,
   "id": "d5e7096f-dca8-489c-bbef-273e1b0077d0",
   "metadata": {},
   "outputs": [],
   "source": [
    "import shap\n",
    "\n",
    "explainer = shap.Explainer(best_forest.named_steps['model'])\n",
    "X = best_forest.named_steps['preprocessor'].transform(X_test)\n",
    "shap_values = explainer(X)\n",
    "\n",
    "# Plot the summary plot of SHAP values\n",
    "shap.summary_plot(shap_values, X, feature_names=X_test.columns, plot_type='bar')"
   ]
  },
  {
   "cell_type": "markdown",
   "id": "4b2cbae7-6a83-4000-942d-fba2bdb4e564",
   "metadata": {},
   "source": [
    "## Сохранение и загрузка обученных моделей"
   ]
  },
  {
   "cell_type": "markdown",
   "id": "aaf678bd-50f1-47aa-a889-a1cce5d1c521",
   "metadata": {},
   "source": [
    "Через joblib (рекомендуется):"
   ]
  },
  {
   "cell_type": "code",
   "execution_count": null,
   "id": "11ba52cd-ba1d-450b-9544-e13af81654ff",
   "metadata": {},
   "outputs": [],
   "source": [
    "from joblib import dump, load\n",
    "dump(nb, 'nb.joblib') "
   ]
  },
  {
   "cell_type": "code",
   "execution_count": null,
   "id": "6416a5e9-602f-4351-a3c6-d234dfcec0c1",
   "metadata": {},
   "outputs": [],
   "source": [
    "clf = load('nb.joblib') "
   ]
  },
  {
   "cell_type": "code",
   "execution_count": null,
   "id": "76f48509-0f13-46c5-9fe9-6fa448845541",
   "metadata": {},
   "outputs": [],
   "source": [
    "clf.predict([[2.0, 1.0, 27.0, 0.0, 0.0, 13.00, 0.0]])"
   ]
  },
  {
   "cell_type": "markdown",
   "id": "940f3f15-f43a-46ad-8654-684ab8064411",
   "metadata": {},
   "source": [
    "Через pickle:"
   ]
  },
  {
   "cell_type": "code",
   "execution_count": null,
   "id": "3a26e479-267e-40e6-ad1e-b304aa180eb5",
   "metadata": {},
   "outputs": [],
   "source": [
    "import pickle\n",
    "s = pickle.dumps(clf)"
   ]
  },
  {
   "cell_type": "code",
   "execution_count": null,
   "id": "42cb0c4a-16fc-4f42-94a4-da2fab5009c7",
   "metadata": {},
   "outputs": [],
   "source": [
    "with open('nb.pickle', 'wb') as file:\n",
    "    pickle.dump(nb, file)"
   ]
  },
  {
   "cell_type": "code",
   "execution_count": null,
   "id": "fb4ac641-7eda-4ed4-ab3d-a247b97dbf99",
   "metadata": {},
   "outputs": [],
   "source": [
    "with open('nb.pickle', 'rb') as file:\n",
    "    clf2 = pickle.load(file)"
   ]
  },
  {
   "cell_type": "code",
   "execution_count": null,
   "id": "63483745-a77b-4465-bcd3-977cda87c7a3",
   "metadata": {},
   "outputs": [],
   "source": [
    "clf2.predict([[2.0, 1.0, 27.0, 0.0, 0.0, 13.00, 0.0]])"
   ]
  },
  {
   "cell_type": "markdown",
   "id": "cdb2c599-0bc1-438a-b9c0-b0cac493fee9",
   "metadata": {},
   "source": [
    "# Домашненее задание"
   ]
  },
  {
   "cell_type": "markdown",
   "id": "dd28b373-2356-44a4-9c74-d93631450229",
   "metadata": {},
   "source": [
    "## Easy"
   ]
  },
  {
   "cell_type": "code",
   "execution_count": null,
   "id": "b51ab3f1-ac7d-4ba1-bb5a-c79d4e0a081a",
   "metadata": {},
   "outputs": [],
   "source": [
    "from sklearn.feature_selection import mutual_info_classif"
   ]
  },
  {
   "cell_type": "code",
   "execution_count": null,
   "id": "f9de216f-b51d-4168-b9fb-97220cc2ad7c",
   "metadata": {},
   "outputs": [],
   "source": [
    "df_titanic = pd.read_csv('titanic.csv')"
   ]
  },
  {
   "cell_type": "markdown",
   "id": "461a6e42-7f75-4036-8b01-0bcb89d53c90",
   "metadata": {},
   "source": [
    "Оцените взаимную информацию, VIF и корреляции в датасете \"Титаник\". Для этого нужно сперва удалить ненужные столбцы, а оставшиеся категории превратить в числа.\n",
    "\n",
    "Обратите внимание, что это задача классификации на целевой признак `Survived`, а значит, вам нужен `mutual_info_classif()`, а не `mutual_info_regressor()`."
   ]
  },
  {
   "cell_type": "code",
   "execution_count": null,
   "id": "c8dc3b12-e2aa-4c7d-9075-99833620e2b7",
   "metadata": {},
   "outputs": [],
   "source": [
    "# Ваш код ниже:\n"
   ]
  },
  {
   "cell_type": "markdown",
   "id": "ac66fa9a-3b85-46dc-9e4d-1c1ef151e65b",
   "metadata": {},
   "source": [
    "## Normal/Hard"
   ]
  },
  {
   "cell_type": "markdown",
   "id": "196e13e8-c47f-4fca-b7d8-9fef90c6db4d",
   "metadata": {},
   "source": [
    "Вам предстоит построить конвейер sklearn, проводящий классификацию в датасете \"Титаник\". Если вы не сможете выполнить все условия, обойдите их более простыми способами (например, удаляйте пропуски, а не заполняйте; если вам не удается подобрать гиперпараметры, обучите конвейер с параметрами модели по умолчанию и т. д.). Наивысшую оценку получат работы, выполнившие все пункты.\n",
    "\n",
    "Для начала выделите тестовую и обучающую выборки.\n",
    "\n",
    "Конвейер должен проводить следующие действия:\n",
    "\n",
    "- выбросить ненужные столбцы;\n",
    "- заполнить пропуски с помощью `KNNImputer()`;\n",
    "- отмасштабировать данные, если это нужно для модели;\n",
    "- содержать на выходе модель классификации по вашему выбору.\n",
    "\n",
    "Подберите наилучшие параметры конвейера (в идеале не только модели, но и, например, импутера) с помощью `GridSearchCV` или `RandomizedSearchCV`.\n",
    "\n",
    "Проверьте результат на тестовой выборке. Сделайте вывод.\n",
    "\n",
    "Сохраните конвейер в файл и загрузите его вместе с тетрадью."
   ]
  },
  {
   "cell_type": "code",
   "execution_count": null,
   "id": "68b49e12-7939-48c9-aa8f-de9c84e20662",
   "metadata": {},
   "outputs": [],
   "source": [
    "# Ваш код ниже:\n"
   ]
  },
  {
   "cell_type": "markdown",
   "id": "715a9ffc-b6ec-426a-a8fc-5cb9a9f1f987",
   "metadata": {},
   "source": []
  }
 ],
 "metadata": {
  "kernelspec": {
   "display_name": "Python 3 (ipykernel)",
   "language": "python",
   "name": "python3"
  },
  "language_info": {
   "codemirror_mode": {
    "name": "ipython",
    "version": 3
   },
   "file_extension": ".py",
   "mimetype": "text/x-python",
   "name": "python",
   "nbconvert_exporter": "python",
   "pygments_lexer": "ipython3",
   "version": "3.11.5"
  },
  "widgets": {
   "application/vnd.jupyter.widget-state+json": {
    "state": {},
    "version_major": 2,
    "version_minor": 0
   }
  }
 },
 "nbformat": 4,
 "nbformat_minor": 5
}
