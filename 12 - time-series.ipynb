{
 "cells": [
  {
   "cell_type": "markdown",
   "id": "2dc8301d-0bfd-47aa-9801-0b7569ee5dae",
   "metadata": {},
   "source": [
    "# Прогнозирование временных рядов"
   ]
  },
  {
   "cell_type": "code",
   "execution_count": null,
   "id": "8c78cfab-836a-4774-b266-d9edd169447f",
   "metadata": {},
   "outputs": [],
   "source": [
    "import pandas as pd\n",
    "import numpy as np\n",
    "import matplotlib.pyplot as plt\n",
    "import scipy.stats as st\n",
    "\n",
    "from sklearn.dummy import DummyRegressor\n",
    "from sklearn.linear_model import LinearRegression, Ridge, TheilSenRegressor, HuberRegressor\n",
    "from sklearn.preprocessing import StandardScaler, QuantileTransformer, PowerTransformer, MinMaxScaler, RobustScaler\n",
    "from sklearn.model_selection import TimeSeriesSplit, GridSearchCV\n",
    "\n",
    "from sklearn.metrics import mean_absolute_error, mean_squared_error, r2_score, make_scorer\n",
    "\n",
    "from sklearn.model_selection import train_test_split\n",
    "\n",
    "from sklearn.decomposition import PCA\n",
    "from sklearn.compose import ColumnTransformer\n",
    "from sklearn.pipeline import Pipeline"
   ]
  },
  {
   "cell_type": "code",
   "execution_count": null,
   "id": "e753003b-dbcb-4da7-89a8-647940242171",
   "metadata": {},
   "outputs": [],
   "source": [
    "RANDOM_STATE=177013"
   ]
  },
  {
   "cell_type": "code",
   "execution_count": null,
   "id": "10fe6bf6-6bcd-4575-a286-d39525657f3f",
   "metadata": {},
   "outputs": [],
   "source": [
    "df = pd.read_csv('PJME_hourly.csv')"
   ]
  },
  {
   "cell_type": "code",
   "execution_count": null,
   "id": "1ecb5650-7137-49aa-94ab-e0901c4c73a3",
   "metadata": {},
   "outputs": [],
   "source": [
    "df.head()"
   ]
  },
  {
   "cell_type": "markdown",
   "id": "5aa2ff6a-7a94-44b9-856e-1bca435c5775",
   "metadata": {},
   "source": [
    "## Приведение к правильному формату"
   ]
  },
  {
   "cell_type": "code",
   "execution_count": null,
   "id": "c5b53215-78c8-4e82-bc52-a92f1812eba2",
   "metadata": {},
   "outputs": [],
   "source": [
    "df = pd.read_csv('PJME_hourly.csv', index_col=['Datetime'], parse_dates=['Datetime'])"
   ]
  },
  {
   "cell_type": "code",
   "execution_count": null,
   "id": "31988561-05d8-45dd-93e2-97cca321d6a9",
   "metadata": {},
   "outputs": [],
   "source": [
    "df.head()"
   ]
  },
  {
   "cell_type": "markdown",
   "id": "19e7998c-daff-4789-818a-9e7c9021b9b5",
   "metadata": {},
   "source": [
    "Также следует проверить, идут ли даты по порядку:"
   ]
  },
  {
   "cell_type": "code",
   "execution_count": null,
   "id": "7643bc97-381e-4bcb-babc-be346ad023af",
   "metadata": {},
   "outputs": [],
   "source": [
    "df.index.is_monotonic_increasing"
   ]
  },
  {
   "cell_type": "markdown",
   "id": "4ea2b1fc-a79b-45cd-af3d-864bf5bc36c7",
   "metadata": {},
   "source": [
    "И при необходимости отсортировать данные:"
   ]
  },
  {
   "cell_type": "code",
   "execution_count": null,
   "id": "7a48fc70-95af-42dd-b4df-f6dcc900e35d",
   "metadata": {},
   "outputs": [],
   "source": [
    "df = df.sort_index()"
   ]
  },
  {
   "cell_type": "code",
   "execution_count": null,
   "id": "51ba926b-dadd-4270-8e64-9272a0b46904",
   "metadata": {},
   "outputs": [],
   "source": [
    "plt.plot(df);"
   ]
  },
  {
   "cell_type": "markdown",
   "id": "d26c5f72-09d3-4407-8d79-43e8118717b0",
   "metadata": {},
   "source": [
    "## Ресемплинг"
   ]
  },
  {
   "cell_type": "code",
   "execution_count": null,
   "id": "12dde9e1-7d1c-45ad-95f2-cb74a6b825cf",
   "metadata": {},
   "outputs": [],
   "source": [
    "df.resample('1M').sum()"
   ]
  },
  {
   "cell_type": "code",
   "execution_count": null,
   "id": "16f8b6f0-f97c-4391-9c43-bdeb0253bc43",
   "metadata": {},
   "outputs": [],
   "source": [
    "plt.plot(df.resample('1m').mean());"
   ]
  },
  {
   "cell_type": "code",
   "execution_count": null,
   "id": "b06b9844-d4e8-49d2-b124-1e1ab5b10c6c",
   "metadata": {},
   "outputs": [],
   "source": [
    "df_day = df['2016-01':'2018-01'].resample('1d').sum()"
   ]
  },
  {
   "cell_type": "markdown",
   "id": "5123e294-21c4-47fc-9730-d5647683d212",
   "metadata": {},
   "source": [
    "## Скользящие средние"
   ]
  },
  {
   "cell_type": "code",
   "execution_count": null,
   "id": "7d9c5997-1c6e-4e7a-8632-7f53024b2ca5",
   "metadata": {},
   "outputs": [],
   "source": [
    "fig, ax = plt.subplots(figsize=(12, 4))\n",
    "plt.plot(df_day)\n",
    "plt.plot(df_day.rolling(30).mean());\n",
    "plt.plot(df_day.ewm(90).mean());\n",
    "\n",
    "plt.xlabel('Время')\n",
    "plt.ylabel('Расход за день, кВт-ч');"
   ]
  },
  {
   "cell_type": "markdown",
   "id": "fab9bfbc-d8ac-40c1-80dd-07bf43c684b3",
   "metadata": {},
   "source": [
    "## Тренд и сезонность"
   ]
  },
  {
   "cell_type": "markdown",
   "id": "1adeace1-4476-467e-abbe-7c8e0027cf7f",
   "metadata": {},
   "source": [
    "**Тренд** - плавное изменение среднего без цикличности.\n",
    "\n",
    "**Сезонность** - цикличные закономерности во временном ряду.\n",
    "\n",
    "**Стационарным** рядом называется тот, у которого среднее, стандартное отклонение и ковариация со временем не меняются."
   ]
  },
  {
   "cell_type": "code",
   "execution_count": null,
   "id": "1df4fc92-6664-4738-8061-7a39586c61bd",
   "metadata": {},
   "outputs": [],
   "source": []
  },
  {
   "cell_type": "code",
   "execution_count": null,
   "id": "c4fdac83-81cb-4093-a39d-669031a243b1",
   "metadata": {},
   "outputs": [],
   "source": [
    "from statsmodels.tsa.seasonal import seasonal_decompose"
   ]
  },
  {
   "cell_type": "code",
   "execution_count": null,
   "id": "53ac67f3-577f-43b0-b92b-4acce6e32514",
   "metadata": {},
   "outputs": [],
   "source": [
    "decomposed = seasonal_decompose(df_day) "
   ]
  },
  {
   "cell_type": "code",
   "execution_count": null,
   "id": "f137d6da-3d73-4aa7-a422-75677a2a9955",
   "metadata": {},
   "outputs": [],
   "source": [
    "fig, ax = plt.subplots(figsize=(12, 4))\n",
    "plt.title('Тренд и сезонность (1д)')\n",
    "plt.plot(decomposed.trend);\n",
    "plt.plot(decomposed.seasonal);\n",
    "plt.xlabel('Время')\n",
    "plt.ylabel('Расход за день, кВт-ч');"
   ]
  },
  {
   "cell_type": "code",
   "execution_count": null,
   "id": "50305fe2-c338-416a-9c4f-a5172ddf7259",
   "metadata": {},
   "outputs": [],
   "source": [
    "fig, ax = plt.subplots(figsize=(12, 4))\n",
    "plt.title('Остатки (1д)')\n",
    "plt.plot(decomposed.resid);\n",
    "plt.xlabel('Время')\n",
    "plt.ylabel('Расход за день, кВт-ч');"
   ]
  },
  {
   "cell_type": "markdown",
   "id": "dd73aa1a-fc72-4d38-8382-1f0358ded309",
   "metadata": {},
   "source": [
    "## Проверка на стационарность"
   ]
  },
  {
   "cell_type": "markdown",
   "id": "355f5db1-d5bd-4648-a37b-d4315cc245e8",
   "metadata": {},
   "source": [
    "Тест Дики-Фуллера: нулевая гипотеза - ряд нестационарен."
   ]
  },
  {
   "cell_type": "code",
   "execution_count": null,
   "id": "64f6f886-92d7-4122-a116-e453b4b2e221",
   "metadata": {},
   "outputs": [],
   "source": [
    "from statsmodels.tsa.stattools import adfuller"
   ]
  },
  {
   "cell_type": "code",
   "execution_count": null,
   "id": "814b8953-6b09-4d0e-8b87-e58ce881b1bc",
   "metadata": {},
   "outputs": [],
   "source": [
    "stat, p, *_ = adfuller(df_day['PJME_MW'])\n",
    "print(f'P-value: {p:.2f}')\n",
    "print(f'Результат: {stat:.2f}')\n",
    "if p < 0.05:\n",
    "    print (\"Отвергаем нулевую гипотезу - ряд стационарный.\")\n",
    "else:\n",
    "    print (\"Не получилось отвергнуть нулевую гипотезу - ряд нестационарный.\")"
   ]
  },
  {
   "cell_type": "markdown",
   "id": "91f44a25-2abd-4ca0-9f60-f5e2dae8153d",
   "metadata": {},
   "source": [
    "## Разности"
   ]
  },
  {
   "cell_type": "code",
   "execution_count": null,
   "id": "b9df106a-75b6-4f23-9bce-e5c380e94d45",
   "metadata": {},
   "outputs": [],
   "source": [
    "df_day.head()"
   ]
  },
  {
   "cell_type": "code",
   "execution_count": null,
   "id": "2f2cede7-59fd-432a-af3c-01dd703a98e7",
   "metadata": {},
   "outputs": [],
   "source": [
    "df_day.shift(fill_value=0).head()"
   ]
  },
  {
   "cell_type": "code",
   "execution_count": null,
   "id": "fab00942-1566-47f0-83a1-0f323aba5d93",
   "metadata": {},
   "outputs": [],
   "source": [
    "diff = df_day - df_day.shift(fill_value=df_day['PJME_MW'].iloc[0])"
   ]
  },
  {
   "cell_type": "code",
   "execution_count": null,
   "id": "4786703d-0624-469a-8763-d29a7a10cdd2",
   "metadata": {},
   "outputs": [],
   "source": [
    "decomposed = seasonal_decompose(diff)"
   ]
  },
  {
   "cell_type": "code",
   "execution_count": null,
   "id": "cf7add39-6a62-4c07-8a39-a57f2b6bb154",
   "metadata": {},
   "outputs": [],
   "source": [
    "fig, ax = plt.subplots(3, 1, figsize=(12, 16))\n",
    "ax[0].set(title = 'Тренд (первая разность, 1д)', xlabel='Время', ylabel='Расход за день, кВт-ч')\n",
    "ax[0].plot(decomposed.trend);\n",
    "ax[1].set(title = 'Сезонность (первая разность, 1д)', xlabel='Время', ylabel='Расход за день, кВт-ч')\n",
    "ax[1].plot(decomposed.seasonal);\n",
    "ax[2].set(title = 'Остатки (первая разность, 1д)', xlabel='Время', ylabel='Расход за день, кВт-ч')\n",
    "ax[2].plot(decomposed.resid);"
   ]
  },
  {
   "cell_type": "code",
   "execution_count": null,
   "id": "eec05213-35c9-4cc7-b06b-669178ee01c9",
   "metadata": {},
   "outputs": [],
   "source": [
    "stat, p, *_ = adfuller(diff['PJME_MW'])\n",
    "print(f'P-value: {p}')\n",
    "print(f'Результат: {stat:.2f}')\n",
    "if p < 0.05:\n",
    "    print (\"Отвергаем нулевую гипотезу - ряд стационарный.\")\n",
    "else:\n",
    "    print (\"Не получилось отвергнуть нулевую гипотезу - ряд нестационарный.\")"
   ]
  },
  {
   "cell_type": "markdown",
   "id": "1e4f1015-7594-4df4-bcf8-3d95ddc2e31d",
   "metadata": {},
   "source": [
    "## Baseline"
   ]
  },
  {
   "cell_type": "code",
   "execution_count": null,
   "id": "b389d282-cc16-42e2-be0b-254653fd2516",
   "metadata": {},
   "outputs": [],
   "source": [
    "data = df.resample('1d').sum()"
   ]
  },
  {
   "cell_type": "code",
   "execution_count": null,
   "id": "851f3628-9a92-4493-8a45-f087c5daff25",
   "metadata": {},
   "outputs": [],
   "source": [
    "train, test = train_test_split(data, shuffle=False, test_size=0.2)"
   ]
  },
  {
   "cell_type": "code",
   "execution_count": null,
   "id": "dbd67de6-70f3-4af2-8909-5e6cb81a9f5b",
   "metadata": {},
   "outputs": [],
   "source": [
    "print(f\"Средний объём электропотребления в день: {test['PJME_MW'].mean():.2f} кВт-ч\")"
   ]
  },
  {
   "cell_type": "markdown",
   "id": "63849146-1d78-461c-beeb-f984b47708a4",
   "metadata": {},
   "source": [
    "### На базе среднего/медианы"
   ]
  },
  {
   "cell_type": "code",
   "execution_count": null,
   "id": "32e6a0c9-f47d-4113-84fc-b6824f584db2",
   "metadata": {},
   "outputs": [],
   "source": [
    "print(f\"MAE: {mean_absolute_error(test['PJME_MW'], np.ones(test.shape) * train['PJME_MW'].median()):.2f}\")\n",
    "print(f\"MSE: {mean_squared_error(test['PJME_MW'], np.ones(test.shape) * train['PJME_MW'].median()):.2f}\")"
   ]
  },
  {
   "cell_type": "markdown",
   "id": "45d0757d-1986-4ad7-a8cf-9784aad549dc",
   "metadata": {},
   "source": [
    "### На базе вчерашнего дня"
   ]
  },
  {
   "cell_type": "code",
   "execution_count": null,
   "id": "9c4012f9-1f34-4b3f-82e0-55294da892eb",
   "metadata": {},
   "outputs": [],
   "source": [
    "yesterday = test.shift(fill_value=0)\n",
    "yesterday.iloc[0] = train.iloc[-1]"
   ]
  },
  {
   "cell_type": "code",
   "execution_count": null,
   "id": "ccb8e070-6722-4c07-a12b-57bbeadd5872",
   "metadata": {},
   "outputs": [],
   "source": [
    "print(f\"MAE: {mean_absolute_error(test['PJME_MW'], yesterday):.2f}\")\n",
    "print(f\"MSE: {mean_squared_error(test['PJME_MW'], yesterday):.2f}\")"
   ]
  },
  {
   "cell_type": "markdown",
   "id": "66fec10a-dc09-4a94-abaa-4c7e7c20848c",
   "metadata": {},
   "source": [
    "## Классический подход к решению"
   ]
  },
  {
   "cell_type": "markdown",
   "id": "6f845cd2-fc77-411c-8bd0-b2680ecf76a2",
   "metadata": {},
   "source": [
    "Классические методы включают в модель подмножество следующих компонентов:\n",
    "\n",
    "- авторегрессия (AR): линейная регрессия следующей точки по нескольким предыдущим;\n",
    "- так называемый MA-процесс: регрессия ошибки по предыдущим ошибкам;\n",
    "- сведение ряда к более стационарному с помощью разностей и/или логарифмирования."
   ]
  },
  {
   "cell_type": "code",
   "execution_count": null,
   "id": "bb4704c5-556a-40e3-9cdb-2dce84d80cb4",
   "metadata": {},
   "outputs": [],
   "source": [
    "from statsmodels.tsa.arima.model import ARIMA"
   ]
  },
  {
   "cell_type": "code",
   "execution_count": null,
   "id": "fa423fca-c8c1-4c5c-986a-9e94e48373f0",
   "metadata": {},
   "outputs": [],
   "source": [
    "model = ARIMA(train, order=(7, 0, 7)).fit()"
   ]
  },
  {
   "cell_type": "code",
   "execution_count": null,
   "id": "92b30abd-3fc3-43f0-b3e8-547e0e6e6db1",
   "metadata": {},
   "outputs": [],
   "source": [
    "fig, axes = plt.subplots(figsize=(12,4))\n",
    "train[-365:].plot(ax=axes)\n",
    "model.forecast(90).plot(ax=axes);\n",
    "test[:90].plot(ax=axes)\n",
    "axes.set(ylabel='Расход за день, кВт-ч', title='Прогноз с помощью ARIMA');\n",
    "axes.legend(['Обучение', 'Ожидание', 'Реальность']);"
   ]
  },
  {
   "cell_type": "markdown",
   "id": "27ee9a97-7c52-4173-a96b-95690e2aebdb",
   "metadata": {},
   "source": [
    "## Графики автокорреляции"
   ]
  },
  {
   "cell_type": "code",
   "execution_count": null,
   "id": "f6fdc3d0-0061-41e1-8c8d-b08d8888cb4b",
   "metadata": {},
   "outputs": [],
   "source": [
    "from statsmodels.graphics.tsaplots import acf, pacf, plot_acf, plot_pacf"
   ]
  },
  {
   "cell_type": "markdown",
   "id": "efef1e99-c2f1-42dd-bef6-5d858f36ebcf",
   "metadata": {},
   "source": [
    "Предыдущие значения за пределами синей зоны информативны."
   ]
  },
  {
   "cell_type": "code",
   "execution_count": null,
   "id": "fee4bfd7-00b4-4d90-9c89-829f9ac72347",
   "metadata": {},
   "outputs": [],
   "source": [
    "plot_acf(df_day);"
   ]
  },
  {
   "cell_type": "markdown",
   "id": "fb5acce5-c1a2-4cab-bd0c-b68abdf77e35",
   "metadata": {},
   "source": [
    "Предыдущие ошибки за пределами синей зоны информативны."
   ]
  },
  {
   "cell_type": "code",
   "execution_count": null,
   "id": "9c95da81-3f36-4b61-b2ea-ad9d0cad2a08",
   "metadata": {},
   "outputs": [],
   "source": [
    "plot_pacf(df_day, method='ywm');"
   ]
  },
  {
   "cell_type": "markdown",
   "id": "eac33c16-0929-44e8-bbc2-0d8304273f91",
   "metadata": {},
   "source": [
    "## Оценка модели на базе информационного критерия"
   ]
  },
  {
   "cell_type": "markdown",
   "id": "83a312e9-3b0a-475b-837a-4ec20d7d47d8",
   "metadata": {},
   "source": [
    "При сравнении моделей для временных рядов часто используется **критерий Акаике**:\n",
    "\n",
    "$$\n",
    "AIC = 2k - 2ln(L)\n",
    "$$\n",
    "\n",
    "Где k - число параметров модели, а L - функция правдоподобия (исходим из допущения, что ошибки модели распределены нормально). Чем эта метрика меньше, тем лучше."
   ]
  },
  {
   "cell_type": "code",
   "execution_count": null,
   "id": "c4e33613-ca89-4406-a34c-664d47222442",
   "metadata": {},
   "outputs": [],
   "source": [
    "model.aic"
   ]
  },
  {
   "cell_type": "markdown",
   "id": "b54bb289-bdef-4cb3-bbe0-1e4105defddd",
   "metadata": {},
   "source": [
    "## Модель Хольта-Уинтерса"
   ]
  },
  {
   "cell_type": "code",
   "execution_count": null,
   "id": "15821e06-575a-46ff-9de6-5b68b4649e07",
   "metadata": {},
   "outputs": [],
   "source": [
    "from statsmodels.tsa.holtwinters import ExponentialSmoothing"
   ]
  },
  {
   "cell_type": "code",
   "execution_count": null,
   "id": "357c5324-662d-4a47-8f83-87ac3c6c32bf",
   "metadata": {
    "editable": true,
    "slideshow": {
     "slide_type": ""
    },
    "tags": []
   },
   "outputs": [],
   "source": [
    "model_es = ExponentialSmoothing(endog=train, trend='add', seasonal='add', seasonal_periods=365, damped_trend=True, use_boxcox=True)"
   ]
  },
  {
   "cell_type": "code",
   "execution_count": null,
   "id": "323a81fb-6a33-422d-833d-9af96beef3f6",
   "metadata": {},
   "outputs": [],
   "source": [
    "fit_es = model_es.fit(optimized=True, remove_bias=False)"
   ]
  },
  {
   "cell_type": "code",
   "execution_count": null,
   "id": "7c0369ff-c315-47d5-a118-42a5f1ac3de9",
   "metadata": {},
   "outputs": [],
   "source": [
    "fig, axes = plt.subplots(figsize=(12,4))\n",
    "train[-365:].plot(ax=axes)\n",
    "fit_es.forecast(365).plot(ax=axes);\n",
    "test[:365].plot(ax=axes)\n",
    "axes.set(ylabel='Расход за день, кВт-ч', title='Прогноз с помощью модели Хольта-Уинтерса');\n",
    "axes.legend(['Обучение', 'Ожидание', 'Реальность']);"
   ]
  },
  {
   "cell_type": "code",
   "execution_count": null,
   "id": "39cb9fe5-b561-42ef-ac3e-cd1e588f4137",
   "metadata": {},
   "outputs": [],
   "source": [
    "fit_es.aic"
   ]
  },
  {
   "cell_type": "markdown",
   "id": "116cc097-ee11-4a65-af35-27d9ddd4ac71",
   "metadata": {},
   "source": [
    "## Используем sklearn"
   ]
  },
  {
   "cell_type": "markdown",
   "id": "4017837d-80bd-48fa-95b2-3b18a479c0a2",
   "metadata": {},
   "source": [
    "### Feature engineering"
   ]
  },
  {
   "cell_type": "code",
   "execution_count": null,
   "id": "a1307860-539e-4ec6-9d8f-9921df9b9fd8",
   "metadata": {},
   "outputs": [],
   "source": [
    "data['year'] = data.index.year\n",
    "data['month'] = data.index.month\n",
    "#data['day'] = data.index.day\n",
    "data['dayofweek'] = data.index.dayofweek"
   ]
  },
  {
   "cell_type": "code",
   "execution_count": null,
   "id": "9ffbf656-9924-41d8-b6ca-a44806b4a424",
   "metadata": {},
   "outputs": [],
   "source": [
    "data.head()"
   ]
  },
  {
   "cell_type": "code",
   "execution_count": null,
   "id": "fa09f74d-2353-4cd8-8941-455ed0b44c85",
   "metadata": {},
   "outputs": [],
   "source": [
    "max_lag = 7"
   ]
  },
  {
   "cell_type": "code",
   "execution_count": null,
   "id": "04542d90-164e-4e96-bd68-33cd4c71d5ff",
   "metadata": {},
   "outputs": [],
   "source": [
    "for i in range(1, max_lag+1):\n",
    "    data['lag_'+str(i)] = data['PJME_MW'].shift(i)"
   ]
  },
  {
   "cell_type": "code",
   "execution_count": null,
   "id": "558ce062-9ae2-4557-98f5-66cc16d8cd5c",
   "metadata": {},
   "outputs": [],
   "source": [
    "data['MA7'] = data['PJME_MW'].shift().rolling(7).mean()"
   ]
  },
  {
   "cell_type": "code",
   "execution_count": null,
   "id": "3b499320-c127-4c08-994c-4caa18ff864e",
   "metadata": {},
   "outputs": [],
   "source": [
    "data.head()"
   ]
  },
  {
   "cell_type": "code",
   "execution_count": null,
   "id": "9ea2af8e-b842-43c1-8cba-d12d3d65fb86",
   "metadata": {},
   "outputs": [],
   "source": [
    "data = data.dropna()"
   ]
  },
  {
   "cell_type": "markdown",
   "id": "c7530d7d-6e00-4a7b-8799-4bf8721f88c0",
   "metadata": {},
   "source": [
    "### Моделирование"
   ]
  },
  {
   "cell_type": "code",
   "execution_count": null,
   "id": "0b3fb0ee-2282-4af2-9971-6d953b93e236",
   "metadata": {},
   "outputs": [],
   "source": [
    "X_train, X_test, y_train, y_test = train_test_split(data.drop('PJME_MW', axis=1), data['PJME_MW'], shuffle=False, test_size=0.2)"
   ]
  },
  {
   "cell_type": "code",
   "execution_count": null,
   "id": "158af365-ae35-4143-8ca7-8030d4aaf00c",
   "metadata": {},
   "outputs": [],
   "source": [
    "model = LinearRegression()\n",
    "\n",
    "model.fit(X_train, y_train)\n",
    "\n",
    "print(f\"MAE: {mean_absolute_error(y_test, model.predict(X_test)):.2f}\")\n",
    "print(f\"MSE: {mean_squared_error(y_test, model.predict(X_test)):.2f}\")\n",
    "print(f\"R2: {r2_score(y_test, model.predict(X_test)):.2f}\")"
   ]
  },
  {
   "cell_type": "code",
   "execution_count": null,
   "id": "0bbbe8b8-d22c-4bb4-bd0a-8ee534cc66ab",
   "metadata": {},
   "outputs": [],
   "source": [
    "predictions = pd.Series(model.predict(X_test), index=y_test.index)"
   ]
  },
  {
   "cell_type": "code",
   "execution_count": null,
   "id": "92836049-e17e-463b-a208-d4d444d40ec8",
   "metadata": {},
   "outputs": [],
   "source": [
    "fig, axes = plt.subplots(figsize=(12,4))\n",
    "y_train[-90:].plot(ax=axes)\n",
    "predictions[:90].plot(ax=axes)\n",
    "y_test[:90].plot(ax=axes)\n",
    "axes.legend(['Исторические данные', 'Ожидание', 'Реальность'])\n",
    "axes.set(ylabel='Расход за день, кВт-ч', title='Прогноз с помощью sklearn');"
   ]
  },
  {
   "cell_type": "markdown",
   "id": "65d5044b-8e26-4b22-880e-32fef414ff86",
   "metadata": {},
   "source": [
    "### Оценим AIC для нашей модели!"
   ]
  },
  {
   "cell_type": "code",
   "execution_count": null,
   "id": "2c1383c5-9d8c-45b7-b701-01cf0dd6efbe",
   "metadata": {},
   "outputs": [],
   "source": [
    "# Стандартизируем ошибки:\n",
    "errors = y_test - predictions\n",
    "normalized_errors = StandardScaler().fit_transform(errors.values.reshape(-1, 1))\n",
    "\n",
    "# Сложим логарифмы их вероятностей на стандартном нормальном распределении:\n",
    "log_likelihood = np.sum(st.norm.logpdf(normalized_errors))\n",
    "\n",
    "num_params = model.coef_.size + 1\n",
    "2 * num_params - 2 * log_likelihood"
   ]
  },
  {
   "cell_type": "markdown",
   "id": "eda0e496-e627-498f-8021-071b5fa3e67d",
   "metadata": {},
   "source": [
    "### Кросс-валидация для временных рядов"
   ]
  },
  {
   "cell_type": "markdown",
   "id": "a13802b9-200e-4e05-932e-a3f26c104c58",
   "metadata": {},
   "source": [
    "Важно, чтобы модель обучалась на прошлом и предсказывала будущее, а не наоборот. Чтобы гарантировать это при кросс-валидации, вам понадобится `TimeSeriesSplit()` из `sklearn.model_selection`. При подборе гиперпараметров нужно указать соответствующее разбиение,  например, так:"
   ]
  },
  {
   "cell_type": "code",
   "execution_count": null,
   "id": "bcd6187b-2874-47f5-aa8c-98f2fb8c26db",
   "metadata": {},
   "outputs": [],
   "source": [
    "params = {}\n",
    "\n",
    "tscv = TimeSeriesSplit(n_splits=8)\n",
    "gcv = GridSearchCV (estimator=model, param_grid=params, cv=tscv, scoring='neg_mean_squared_error', n_jobs=-1)"
   ]
  },
  {
   "cell_type": "markdown",
   "id": "a8afddfe-4c0a-4efc-af6f-ce1dc7bc179a",
   "metadata": {},
   "source": [
    "# Домашнее задание"
   ]
  },
  {
   "cell_type": "markdown",
   "id": "526123f6-7756-44d6-95b9-faf488618618",
   "metadata": {},
   "source": [
    "Вам предстоит работать с данными по продажам 4 продуктов в 6 странах по 2 магазинам.\n",
    "\n",
    "**Easy**: постройте модель sklearn для предсказания продаж одного из продуктов в одной стране за последний год по предыдущим данным.\n",
    "\n",
    "**Medium**: проведите исследовательский анализ, распишите найденные изменения методологии, которые могут осложнить прогнозирование. Обработайте данные, извлеките признаки и постройте соответствующую модель (или отдельные модели) для пронозирования продаж по продуктам, странам и магазинам.\n",
    "\n",
    "**Hard**: мы исходили из предположения, что нам доступны данные вплоть до текущего дня. Предположим, что у нас есть большая закрытая тестовая выборка - для нее мы не сможем построить отстающие значения. Попробуйте извлечь признаки из исторических данных, которые не потребуют знания продаж за последние дни, и построить соответствующую модель."
   ]
  },
  {
   "cell_type": "code",
   "execution_count": null,
   "id": "e76b4498-32b9-4020-ade4-163feba16c9e",
   "metadata": {},
   "outputs": [],
   "source": [
    "df = pd.read_csv('kaggle_sales.csv')"
   ]
  },
  {
   "cell_type": "code",
   "execution_count": null,
   "id": "9f93a3e1-590f-4473-a368-d238547a9206",
   "metadata": {},
   "outputs": [],
   "source": [
    "df.head()"
   ]
  },
  {
   "cell_type": "markdown",
   "id": "eb1c55b5-925c-4a1d-862c-a8f8a8b655ed",
   "metadata": {},
   "source": [
    "Ввиду небольшого разброса рекомендуется оценивать модели по метрике SMAPE:"
   ]
  },
  {
   "cell_type": "markdown",
   "id": "cb04a66d-c7ee-417e-abf8-8f8e4b56984c",
   "metadata": {},
   "source": [
    "$$\n",
    "SMAPE = \\frac{1}{n} \\sum_n {\\frac{2|y-\\hat y|}{|y|+|\\hat y|}} \\cdot 100 \\%\n",
    "$$"
   ]
  },
  {
   "cell_type": "code",
   "execution_count": null,
   "id": "b0d34a1f-52bd-4652-8a88-ea0080de7bf9",
   "metadata": {},
   "outputs": [],
   "source": [
    "def smape(target, predictions):\n",
    "    result = np.mean(np.nan_to_num(abs(target - predictions) / ((abs(target)+abs(predictions))/2), posinf=0)) * 100.\n",
    "    return result"
   ]
  },
  {
   "cell_type": "code",
   "execution_count": null,
   "id": "e93b64be-1694-4011-b7ad-e43cda7db1ba",
   "metadata": {},
   "outputs": [],
   "source": [
    "# Скорер для кросс-валидации:\n",
    "smape_score = make_scorer(smape, greater_is_better=False)"
   ]
  },
  {
   "cell_type": "markdown",
   "id": "88c2b606-bb57-4ab2-8f36-3d81ebcab8f9",
   "metadata": {},
   "source": [
    "Пример тестовой выборки для Hard:"
   ]
  },
  {
   "cell_type": "code",
   "execution_count": null,
   "id": "bb368f8f-0345-40e8-a9a6-9c5a614550ec",
   "metadata": {},
   "outputs": [],
   "source": [
    "df_test = pd.read_csv('kaggle_sales_test.csv')"
   ]
  },
  {
   "cell_type": "code",
   "execution_count": null,
   "id": "6de9f429-69de-44d5-b2a5-2b021794735c",
   "metadata": {},
   "outputs": [],
   "source": [
    "df_test"
   ]
  },
  {
   "cell_type": "code",
   "execution_count": null,
   "id": "058b73d9-9bf5-4fa5-a15e-256dc6a64867",
   "metadata": {},
   "outputs": [],
   "source": []
  }
 ],
 "metadata": {
  "kernelspec": {
   "display_name": "Python 3 (ipykernel)",
   "language": "python",
   "name": "python3"
  },
  "language_info": {
   "codemirror_mode": {
    "name": "ipython",
    "version": 3
   },
   "file_extension": ".py",
   "mimetype": "text/x-python",
   "name": "python",
   "nbconvert_exporter": "python",
   "pygments_lexer": "ipython3",
   "version": "3.11.6"
  },
  "widgets": {
   "application/vnd.jupyter.widget-state+json": {
    "state": {},
    "version_major": 2,
    "version_minor": 0
   }
  }
 },
 "nbformat": 4,
 "nbformat_minor": 5
}
