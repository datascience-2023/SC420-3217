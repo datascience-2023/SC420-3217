{
 "cells": [
  {
   "cell_type": "markdown",
   "id": "a4b39641",
   "metadata": {},
   "source": [
    "# Основы Pandas"
   ]
  },
  {
   "cell_type": "markdown",
   "id": "2bdfb4ef",
   "metadata": {},
   "source": [
    "## Загрузка данных"
   ]
  },
  {
   "cell_type": "code",
   "execution_count": null,
   "id": "58047299",
   "metadata": {},
   "outputs": [],
   "source": [
    "import pandas as pd"
   ]
  },
  {
   "cell_type": "code",
   "execution_count": null,
   "id": "f8862352",
   "metadata": {},
   "outputs": [],
   "source": [
    "df = pd.read_csv('ds_salaries_mod.csv')"
   ]
  },
  {
   "cell_type": "markdown",
   "id": "4283e3ac",
   "metadata": {},
   "source": [
    "Наши задачи на этом уроке:\n",
    "\n",
    "- обзор данных;\n",
    "- предобработка данных;\n",
    "- анализ, проверка гипотез."
   ]
  },
  {
   "cell_type": "markdown",
   "id": "6dfe6722",
   "metadata": {},
   "source": [
    "## Обзор данных"
   ]
  },
  {
   "cell_type": "code",
   "execution_count": null,
   "id": "8db7face",
   "metadata": {},
   "outputs": [],
   "source": [
    "df"
   ]
  },
  {
   "cell_type": "markdown",
   "id": "664655c2",
   "metadata": {},
   "source": [
    "EN MI SE EX"
   ]
  },
  {
   "cell_type": "code",
   "execution_count": null,
   "id": "d617aa16",
   "metadata": {},
   "outputs": [],
   "source": [
    "df.head(10)"
   ]
  },
  {
   "cell_type": "code",
   "execution_count": null,
   "id": "7d0841ae",
   "metadata": {},
   "outputs": [],
   "source": [
    "df.tail(3)"
   ]
  },
  {
   "cell_type": "code",
   "execution_count": null,
   "id": "a5cf6468",
   "metadata": {},
   "outputs": [],
   "source": [
    "df.sample(5, random_state=177013)"
   ]
  },
  {
   "cell_type": "code",
   "execution_count": null,
   "id": "efd217f3",
   "metadata": {},
   "outputs": [],
   "source": [
    "df.sample(frac=0.001)"
   ]
  },
  {
   "cell_type": "code",
   "execution_count": null,
   "id": "4b9fd371",
   "metadata": {},
   "outputs": [],
   "source": [
    "df.info()"
   ]
  },
  {
   "cell_type": "markdown",
   "id": "0e365b0e",
   "metadata": {},
   "source": [
    "## Удаление пропусков"
   ]
  },
  {
   "cell_type": "code",
   "execution_count": null,
   "id": "41a6817f",
   "metadata": {},
   "outputs": [],
   "source": [
    "df_clean = df.dropna()"
   ]
  },
  {
   "cell_type": "code",
   "execution_count": null,
   "id": "5a34224e",
   "metadata": {},
   "outputs": [],
   "source": [
    "df_clean.info()"
   ]
  },
  {
   "cell_type": "markdown",
   "id": "4a544883",
   "metadata": {},
   "source": [
    "## Проверка на дубликаты"
   ]
  },
  {
   "cell_type": "code",
   "execution_count": null,
   "id": "59f2faf7",
   "metadata": {},
   "outputs": [],
   "source": [
    "df.duplicated().sum()"
   ]
  },
  {
   "cell_type": "code",
   "execution_count": null,
   "id": "9d2ff393",
   "metadata": {},
   "outputs": [],
   "source": [
    "# df = df.drop_duplicates()"
   ]
  },
  {
   "cell_type": "markdown",
   "id": "27935491",
   "metadata": {},
   "source": [
    "## Индексация"
   ]
  },
  {
   "cell_type": "code",
   "execution_count": null,
   "id": "1622d53e",
   "metadata": {},
   "outputs": [],
   "source": [
    "df['salary_in_usd']"
   ]
  },
  {
   "cell_type": "markdown",
   "id": "8f4c6e4b",
   "metadata": {},
   "source": [
    "### Классическая"
   ]
  },
  {
   "cell_type": "code",
   "execution_count": null,
   "id": "94e95a78",
   "metadata": {},
   "outputs": [],
   "source": [
    "year_2023 = (df['work_year'] == 2023)"
   ]
  },
  {
   "cell_type": "code",
   "execution_count": null,
   "id": "d77ad676",
   "metadata": {},
   "outputs": [],
   "source": [
    "year_2023"
   ]
  },
  {
   "cell_type": "code",
   "execution_count": null,
   "id": "fbe445f1",
   "metadata": {},
   "outputs": [],
   "source": [
    "df[year_2023].tail()"
   ]
  },
  {
   "cell_type": "code",
   "execution_count": null,
   "id": "dd542c5c",
   "metadata": {},
   "outputs": [],
   "source": [
    "df[df['work_year'] == 2023].tail()"
   ]
  },
  {
   "cell_type": "markdown",
   "id": "967e0a20",
   "metadata": {},
   "source": [
    "### Query"
   ]
  },
  {
   "cell_type": "code",
   "execution_count": null,
   "id": "86c32968",
   "metadata": {},
   "outputs": [],
   "source": [
    "df.query('work_year == 2023').tail()"
   ]
  },
  {
   "cell_type": "markdown",
   "id": "f1d9dae5",
   "metadata": {},
   "source": [
    "### .loc() и .iloc()"
   ]
  },
  {
   "cell_type": "code",
   "execution_count": null,
   "id": "058917ad",
   "metadata": {},
   "outputs": [],
   "source": [
    "df_2022 = df[df['work_year'] == 2022]"
   ]
  },
  {
   "cell_type": "code",
   "execution_count": null,
   "id": "ea11f70a",
   "metadata": {},
   "outputs": [],
   "source": [
    "df_2022.head()"
   ]
  },
  {
   "cell_type": "code",
   "execution_count": null,
   "id": "b4806db1",
   "metadata": {},
   "outputs": [],
   "source": [
    "df_2022.iloc[0:1]"
   ]
  },
  {
   "cell_type": "code",
   "execution_count": null,
   "id": "d6a7040e",
   "metadata": {},
   "outputs": [],
   "source": [
    "df_2022.loc[0:1]"
   ]
  },
  {
   "cell_type": "code",
   "execution_count": null,
   "id": "3e8e127e",
   "metadata": {},
   "outputs": [],
   "source": [
    "df_2022.loc[41:42]"
   ]
  },
  {
   "cell_type": "markdown",
   "id": "7320b1f6",
   "metadata": {},
   "source": [
    "## Простейший анализ"
   ]
  },
  {
   "cell_type": "markdown",
   "id": "7d5c1b71",
   "metadata": {},
   "source": [
    "### Значения по количеству"
   ]
  },
  {
   "cell_type": "code",
   "execution_count": null,
   "id": "2fbce88b",
   "metadata": {},
   "outputs": [],
   "source": [
    "df['work_year'].value_counts()"
   ]
  },
  {
   "cell_type": "markdown",
   "id": "66c0cf2c",
   "metadata": {},
   "source": [
    "### Сортировка столбца по значению"
   ]
  },
  {
   "cell_type": "code",
   "execution_count": null,
   "id": "6259f6a5",
   "metadata": {},
   "outputs": [],
   "source": [
    "df_clean['salary_in_usd'].sort_values()"
   ]
  },
  {
   "cell_type": "markdown",
   "id": "9a8f723d",
   "metadata": {},
   "source": [
    "### Основная статистика"
   ]
  },
  {
   "cell_type": "code",
   "execution_count": null,
   "id": "5fa9dc6d",
   "metadata": {},
   "outputs": [],
   "source": [
    "df['salary_in_usd'].describe()"
   ]
  },
  {
   "cell_type": "code",
   "execution_count": null,
   "id": "e5932038",
   "metadata": {},
   "outputs": [],
   "source": [
    "df[df['work_year'] == 2023]['salary_in_usd'].mean()"
   ]
  },
  {
   "cell_type": "code",
   "execution_count": null,
   "id": "81a75dd0",
   "metadata": {},
   "outputs": [],
   "source": [
    "df[df['work_year'] == 2022]['salary_in_usd'].mean()"
   ]
  },
  {
   "cell_type": "markdown",
   "id": "76067d0c-6f00-4704-9cdd-b80f7390b62c",
   "metadata": {},
   "source": [
    "## Операции над столбцами"
   ]
  },
  {
   "cell_type": "code",
   "execution_count": null,
   "id": "e8aab4f4-ea43-4626-abf3-32fae95d5161",
   "metadata": {},
   "outputs": [],
   "source": [
    "df['company_location'] == df['employee_residence']"
   ]
  },
  {
   "cell_type": "code",
   "execution_count": null,
   "id": "71405b65-e0a6-4562-9497-ded0f164517b",
   "metadata": {},
   "outputs": [],
   "source": [
    "df['same_country'] = (df['company_location'] == df['employee_residence'])"
   ]
  },
  {
   "cell_type": "code",
   "execution_count": null,
   "id": "594418ca-87c3-46b9-8f29-23d0ef29436c",
   "metadata": {},
   "outputs": [],
   "source": [
    "df['same_country'].value_counts()"
   ]
  },
  {
   "cell_type": "code",
   "execution_count": null,
   "id": "7a1dcea4-f42d-4c6a-b22c-d55e7421de16",
   "metadata": {},
   "outputs": [],
   "source": [
    "df['employment_type'] + ' ' + df['job_title']"
   ]
  },
  {
   "cell_type": "code",
   "execution_count": null,
   "id": "66de6036-5ae1-4ca4-84df-a8f3bc16c8b7",
   "metadata": {},
   "outputs": [],
   "source": [
    "def categorize(x):\n",
    "    return 'High' if x > 200000 else 'Normal'"
   ]
  },
  {
   "cell_type": "code",
   "execution_count": null,
   "id": "d560c9e0-e9e3-496d-bdec-2dfd48057d91",
   "metadata": {},
   "outputs": [],
   "source": [
    "df['salary_in_usd'].apply(categorize)"
   ]
  },
  {
   "cell_type": "code",
   "execution_count": null,
   "id": "4b507f4e-773e-4329-ab9b-9e64de9db49a",
   "metadata": {},
   "outputs": [],
   "source": [
    "df['salary_range'] = df['salary_in_usd'].apply(categorize)"
   ]
  },
  {
   "cell_type": "code",
   "execution_count": null,
   "id": "02c1b5a5-aa05-4652-8f4c-3cf74ca7524a",
   "metadata": {},
   "outputs": [],
   "source": [
    "df.tail()"
   ]
  },
  {
   "cell_type": "markdown",
   "id": "9a90849d-6e00-446a-9027-8e7d6c5e0ace",
   "metadata": {},
   "source": [
    "## Заполнение пропусков"
   ]
  },
  {
   "cell_type": "code",
   "execution_count": null,
   "id": "890259a7-7919-4307-afe4-e8b3feedbd14",
   "metadata": {},
   "outputs": [],
   "source": [
    "df_clean = df.copy()"
   ]
  },
  {
   "cell_type": "code",
   "execution_count": null,
   "id": "430dcdd3-d1bb-4a5f-8916-a99642dd3c10",
   "metadata": {},
   "outputs": [],
   "source": [
    "df_clean[df_clean['salary_in_usd'].isna()].head()"
   ]
  },
  {
   "cell_type": "code",
   "execution_count": null,
   "id": "5e118312-1ba9-4a6f-a95e-8cd7798be0d7",
   "metadata": {},
   "outputs": [],
   "source": [
    "df_clean['salary_in_usd'] = df_clean['salary_in_usd'].fillna(df_clean['salary_in_usd'].median())"
   ]
  },
  {
   "cell_type": "code",
   "execution_count": null,
   "id": "a2b858c0-72bd-400f-b47e-a73e2d8b0452",
   "metadata": {},
   "outputs": [],
   "source": [
    "df_clean[df['salary_in_usd'].isna()].head()"
   ]
  },
  {
   "cell_type": "markdown",
   "id": "f2263f38",
   "metadata": {},
   "source": [
    "## Группировка"
   ]
  },
  {
   "cell_type": "markdown",
   "id": "848e4f15",
   "metadata": {},
   "source": [
    "### Как изменяются зарплаты со временем?"
   ]
  },
  {
   "cell_type": "code",
   "execution_count": null,
   "id": "c1057491",
   "metadata": {},
   "outputs": [],
   "source": [
    "df.groupby('work_year')['salary_in_usd'].mean()"
   ]
  },
  {
   "cell_type": "markdown",
   "id": "ae164cba",
   "metadata": {},
   "source": [
    "### Сравним средние зарплаты в разных странах"
   ]
  },
  {
   "cell_type": "code",
   "execution_count": null,
   "id": "2a41c441",
   "metadata": {},
   "outputs": [],
   "source": [
    "sub = df.query('company_location == \"RU\" or company_location == \"US\"')"
   ]
  },
  {
   "cell_type": "code",
   "execution_count": null,
   "id": "7c722507",
   "metadata": {},
   "outputs": [],
   "source": [
    "sub.groupby('company_location')['salary_in_usd'].mean()"
   ]
  },
  {
   "cell_type": "code",
   "execution_count": null,
   "id": "98cfca19",
   "metadata": {},
   "outputs": [],
   "source": [
    "sub.groupby('company_location')['salary_in_usd'].agg(['count', 'mean'])"
   ]
  },
  {
   "cell_type": "code",
   "execution_count": null,
   "id": "a0419d8d",
   "metadata": {
    "scrolled": true
   },
   "outputs": [],
   "source": [
    "df.groupby('experience_level')['salary_in_usd'].agg(['count', 'mean', 'median'])"
   ]
  },
  {
   "cell_type": "markdown",
   "id": "120011e6",
   "metadata": {},
   "source": [
    "### Зарплаты по профессиям"
   ]
  },
  {
   "cell_type": "code",
   "execution_count": null,
   "id": "084227b6",
   "metadata": {},
   "outputs": [],
   "source": [
    "df['job_title'].value_counts()"
   ]
  },
  {
   "cell_type": "code",
   "execution_count": null,
   "id": "ba427e00",
   "metadata": {},
   "outputs": [],
   "source": [
    "df[df['job_title'].str.contains('Scientist')]['job_title'].value_counts()"
   ]
  },
  {
   "cell_type": "code",
   "execution_count": null,
   "id": "284b763f",
   "metadata": {},
   "outputs": [],
   "source": [
    "df['job_title'].value_counts().head(4)"
   ]
  },
  {
   "cell_type": "code",
   "execution_count": null,
   "id": "87eb87d8",
   "metadata": {},
   "outputs": [],
   "source": [
    "(df.groupby('job_title')['salary_in_usd']\n",
    "     .agg(['count', 'mean', 'median'])\n",
    "     .sort_values(by='count', ascending=False)\n",
    "     .head(4))"
   ]
  },
  {
   "cell_type": "code",
   "execution_count": null,
   "id": "3cfec5e0",
   "metadata": {},
   "outputs": [],
   "source": [
    "df.groupby('remote_ratio')['salary_in_usd'].agg(['count', 'mean', 'median'])"
   ]
  },
  {
   "cell_type": "code",
   "execution_count": null,
   "id": "808b5158",
   "metadata": {},
   "outputs": [],
   "source": [
    "(df.query('(company_location == \"US\" or company_location == \"CA\") and employment_type == \"FT\"')\n",
    "          .groupby(['company_location', 'experience_level'])['salary_in_usd']\n",
    "          .agg(['count', 'mean', 'median']))"
   ]
  },
  {
   "cell_type": "code",
   "execution_count": null,
   "id": "2ef45c3f",
   "metadata": {},
   "outputs": [],
   "source": [
    "df.groupby('remote_ratio')['salary_in_usd'].agg(['count', 'mean', 'median'])"
   ]
  },
  {
   "cell_type": "markdown",
   "id": "4a449875-082c-4a85-8113-face21de6816",
   "metadata": {},
   "source": [
    "# Домашнее задание"
   ]
  },
  {
   "cell_type": "markdown",
   "id": "8c77d5dc-70c6-4580-803f-810cfe2ea606",
   "metadata": {},
   "source": [
    "## Easy"
   ]
  },
  {
   "cell_type": "markdown",
   "id": "dafd166a-4919-4b9a-9b41-d52a113275eb",
   "metadata": {},
   "source": [
    "Изучите распределение размеров компаний (`company_size`) с помощью метода `.value_counts()`. Опишите своими словами, что вы увидели."
   ]
  },
  {
   "cell_type": "code",
   "execution_count": null,
   "id": "7313a3a6-0259-4f38-a8d8-4f994f236ba1",
   "metadata": {},
   "outputs": [],
   "source": [
    "# Ваш код ниже:\n"
   ]
  },
  {
   "cell_type": "markdown",
   "id": "098d5028-f53a-495c-b4a9-7dc7ca7e23c0",
   "metadata": {},
   "source": [
    "Вывод: "
   ]
  },
  {
   "cell_type": "markdown",
   "id": "268cafb2-f782-44da-ad5b-95469917e78e",
   "metadata": {},
   "source": [
    "## Normal"
   ]
  },
  {
   "cell_type": "markdown",
   "id": "5ef0c324-4742-43f1-879f-ea851395f428",
   "metadata": {},
   "source": [
    "Сделайте выборку за 2023 год. Постройте по ней сводную таблицу, сгруппированную по размеру компании-работодателя (`company_size`), со средней и медианной зарплатой в долларах. Не забывайте также указать количество."
   ]
  },
  {
   "cell_type": "code",
   "execution_count": null,
   "id": "0eb74644-ecef-416c-848a-b7293fc105a6",
   "metadata": {},
   "outputs": [],
   "source": [
    "# Ваш код ниже:\n"
   ]
  },
  {
   "cell_type": "markdown",
   "id": "52f0a6a4-3fb5-48b5-9e9a-adfafcd84f5f",
   "metadata": {},
   "source": [
    "Напишите краткий вывод из полученной таблицы:"
   ]
  },
  {
   "cell_type": "markdown",
   "id": "04472859-0e11-4bfc-bb67-402cf5dd5a94",
   "metadata": {},
   "source": [
    "Вывод:"
   ]
  },
  {
   "cell_type": "markdown",
   "id": "06fd85fc-8793-497b-b144-7fb492d56e6a",
   "metadata": {},
   "source": [
    "Аналогично исследуйте 2022 год. Есть ли отличия?"
   ]
  },
  {
   "cell_type": "code",
   "execution_count": null,
   "id": "6e1fd53e-19a5-4aec-9f7d-1c4bcb8b486e",
   "metadata": {},
   "outputs": [],
   "source": [
    "# Ваш код ниже:\n"
   ]
  },
  {
   "cell_type": "markdown",
   "id": "bcdab071-f3bc-4a7d-80c8-32a65e2f721c",
   "metadata": {},
   "source": [
    "Вывод: "
   ]
  },
  {
   "cell_type": "markdown",
   "id": "bc00cafa-a831-42b2-b0bd-042322c7ab63",
   "metadata": {},
   "source": [
    "## Hard"
   ]
  },
  {
   "cell_type": "markdown",
   "id": "24abf10f-81e4-4e3b-8d80-6f87b5b8c6a6",
   "metadata": {},
   "source": [
    "Для начала попробуйте восстановить пропущенные значения `salary_in_usd`."
   ]
  },
  {
   "cell_type": "markdown",
   "id": "f75ab23c-0422-4966-a691-e8a1aa5a9ef4",
   "metadata": {},
   "source": [
    "<details>\n",
    "<summary>Подсказка (нажмите, чтобы посмотреть):</summary>\n",
    "Один из способов:\n",
    "    <ul><li>создайте дополнительный столбец с \"курсом доллара\" для каждого наблюдения;</li>\n",
    "    <li>проверьте, менялся ли курс каждой валюты в течение года;</li>\n",
    "    <li>по возможности примените этот курс для расчета пропущенного значения;</li>\n",
    "    <li>если остались пропуски, которые нельзя заполнить, удалите их.</li></ul>    \n",
    "</details>"
   ]
  },
  {
   "cell_type": "markdown",
   "id": "f8e8bd10-1a01-40fe-959d-bf0c9ab1a774",
   "metadata": {},
   "source": [
    "Оставляйте комментарии в коде своего решения."
   ]
  },
  {
   "cell_type": "code",
   "execution_count": null,
   "id": "75f9770b-8961-467f-b383-827ca354f87b",
   "metadata": {},
   "outputs": [],
   "source": [
    "# Ваш код:\n"
   ]
  },
  {
   "cell_type": "markdown",
   "id": "969e0d2c-ac1d-4ec9-93d7-28d34468d32c",
   "metadata": {},
   "source": [
    "Дополнительно: попробуйте свести данные в столбце `job_title` к 4 основным профессиям (Data Scientist, Data Analyst, Data Engineer, ML Engineer), где это возможно."
   ]
  },
  {
   "cell_type": "code",
   "execution_count": null,
   "id": "7b5f4718-f5d3-4f98-b4fd-cb409d72df0a",
   "metadata": {},
   "outputs": [],
   "source": [
    "# Ваш код:\n"
   ]
  },
  {
   "cell_type": "markdown",
   "id": "c2013533-f2d1-41d3-acfd-fc7269f4fb5c",
   "metadata": {},
   "source": [
    "Сделайте выборку за 2023 год. Постройте по ней сводную таблицу, сгруппированную по профессии (`job_title`), со средней и медианной зарплатой в долларах. Не забывайте также указать количество. (Если у вас не получилось привести в порядок столбец `job_title`, выведите только 4 самых распространенных профессии.)"
   ]
  },
  {
   "cell_type": "code",
   "execution_count": null,
   "id": "f3133ece-ed1c-4d3f-bebe-e91b4573ed1a",
   "metadata": {},
   "outputs": [],
   "source": [
    "# Ваш код:\n"
   ]
  },
  {
   "cell_type": "markdown",
   "id": "baa395e7-a963-482d-9218-fe1a0518bcc9",
   "metadata": {},
   "source": [
    "Теперь давайте получше категоризируем зарплаты. Изучите самостоятельно документацию к функциям pandas [cut](https://pandas.pydata.org/pandas-docs/stable/reference/api/pandas.cut.html) и [qcut](https://pandas.pydata.org/pandas-docs/stable/reference/api/pandas.qcut.html). Используйте их, чтобы разбить зарплаты на три или больше категорий (например: `Low`, `Medium`, `High`) и запишите их в столбец `salary_range`."
   ]
  },
  {
   "cell_type": "markdown",
   "id": "4811add4-4ef3-4075-8ce7-f18319636011",
   "metadata": {},
   "source": [
    "Сделайте сводную таблицу по профессиям за 2023 год, где будут выведены:\n",
    "- число работников в профессии;\n",
    "- самая часто встречающаяся категория зарплаты.\n",
    "\n",
    "<details>\n",
    "<summary>Подсказка (нажмите, чтобы посмотреть):</summary>\n",
    "<code>lambda x : pd.Series.mode(x)</code>\n",
    "</details>"
   ]
  },
  {
   "cell_type": "code",
   "execution_count": null,
   "id": "d1d983de-3164-414e-8a4b-f8445f12a2c9",
   "metadata": {},
   "outputs": [],
   "source": [
    "# Ваш код:\n"
   ]
  },
  {
   "cell_type": "markdown",
   "id": "f711b85c-2f3e-43aa-bf7f-f6daeed757e2",
   "metadata": {},
   "source": [
    "Проверьте себя: совпадают ли категории с реальными цифрами?"
   ]
  }
 ],
 "metadata": {
  "kernelspec": {
   "display_name": "Python 3 (ipykernel)",
   "language": "python",
   "name": "python3"
  },
  "language_info": {
   "codemirror_mode": {
    "name": "ipython",
    "version": 3
   },
   "file_extension": ".py",
   "mimetype": "text/x-python",
   "name": "python",
   "nbconvert_exporter": "python",
   "pygments_lexer": "ipython3",
   "version": "3.11.3"
  },
  "widgets": {
   "application/vnd.jupyter.widget-state+json": {
    "state": {},
    "version_major": 2,
    "version_minor": 0
   }
  }
 },
 "nbformat": 4,
 "nbformat_minor": 5
}
