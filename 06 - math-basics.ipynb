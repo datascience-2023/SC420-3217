{
 "cells": [
  {
   "cell_type": "markdown",
   "id": "d7ebc95a-e7cb-4886-9545-8222b8b5db91",
   "metadata": {},
   "source": [
    "# Введение в теорию вероятностей и статистику"
   ]
  },
  {
   "cell_type": "markdown",
   "id": "cb54f910-37ba-481c-bdf2-38c52b52d8e7",
   "metadata": {},
   "source": [
    "## Множества и операции над ними"
   ]
  },
  {
   "cell_type": "markdown",
   "id": "9cb8e942-621b-4e2e-a641-a697ab0242b7",
   "metadata": {},
   "source": [
    "### Конечные множества в базовом python"
   ]
  },
  {
   "cell_type": "code",
   "execution_count": null,
   "id": "8d714778-e041-4556-9de7-6a9866a24d2a",
   "metadata": {},
   "outputs": [],
   "source": [
    "s1 = {1, 2, 3}"
   ]
  },
  {
   "cell_type": "code",
   "execution_count": null,
   "id": "c1dabaa5-0e99-4fc4-b4c6-2f367a173bb4",
   "metadata": {},
   "outputs": [],
   "source": [
    "s1"
   ]
  },
  {
   "cell_type": "code",
   "execution_count": null,
   "id": "66d1637e-70bd-4f50-8a20-23d5eb51bcda",
   "metadata": {},
   "outputs": [],
   "source": [
    "s2 = set()"
   ]
  },
  {
   "cell_type": "code",
   "execution_count": null,
   "id": "f47ccd15-f960-4669-b479-002bc8831229",
   "metadata": {},
   "outputs": [],
   "source": [
    "s2"
   ]
  },
  {
   "cell_type": "code",
   "execution_count": null,
   "id": "748d5b97-db04-4aa6-9595-6a8e8d86e3ac",
   "metadata": {},
   "outputs": [],
   "source": [
    "s1.add(4)"
   ]
  },
  {
   "cell_type": "code",
   "execution_count": null,
   "id": "16f57f78-08aa-4ce1-9068-c9d2e83385a1",
   "metadata": {},
   "outputs": [],
   "source": [
    "s1"
   ]
  },
  {
   "cell_type": "code",
   "execution_count": null,
   "id": "86ccb35c-9f92-45ae-9c5b-a75550d7d4fe",
   "metadata": {},
   "outputs": [],
   "source": [
    "s1.remove(1)"
   ]
  },
  {
   "cell_type": "code",
   "execution_count": null,
   "id": "24bf34c5-d742-484c-b822-1599753bc60b",
   "metadata": {},
   "outputs": [],
   "source": [
    "s1"
   ]
  },
  {
   "cell_type": "code",
   "execution_count": null,
   "id": "cb14c2be-842d-4181-abd1-1a159e9b3ac3",
   "metadata": {},
   "outputs": [],
   "source": [
    "s1.add(3)"
   ]
  },
  {
   "cell_type": "code",
   "execution_count": null,
   "id": "1b735ce4-1bae-474e-8b30-9a61b87ae836",
   "metadata": {},
   "outputs": [],
   "source": [
    "s1"
   ]
  },
  {
   "cell_type": "code",
   "execution_count": null,
   "id": "1d5ec3fa-81cf-48f5-b47a-6a8f8a467e87",
   "metadata": {},
   "outputs": [],
   "source": [
    "set1 = {1, 2, 3}\n",
    "set2 = {3, 4, 5}"
   ]
  },
  {
   "cell_type": "markdown",
   "id": "388bb1ac-17ba-438a-bd59-6ce5609db95b",
   "metadata": {},
   "source": [
    "### Объединение (A $\\cup$ B)"
   ]
  },
  {
   "cell_type": "code",
   "execution_count": null,
   "id": "0438ee55-3fd8-4b7e-865a-00745b9343c2",
   "metadata": {},
   "outputs": [],
   "source": [
    "set1.union(set2)"
   ]
  },
  {
   "cell_type": "code",
   "execution_count": null,
   "id": "e762f10d-497b-46bc-bc5b-ca0e8b130a02",
   "metadata": {},
   "outputs": [],
   "source": [
    "set1 | set2"
   ]
  },
  {
   "cell_type": "markdown",
   "id": "70e97c93-4d66-491a-92a2-1fd3d1997923",
   "metadata": {},
   "source": [
    "### Пересечение (A $\\cap$ B)"
   ]
  },
  {
   "cell_type": "code",
   "execution_count": null,
   "id": "1490fee3-1a4c-415c-ae6a-479489378b0e",
   "metadata": {},
   "outputs": [],
   "source": [
    "set1.intersection(set2)"
   ]
  },
  {
   "cell_type": "code",
   "execution_count": null,
   "id": "55061db2-4696-4a40-8679-db6569c5ad09",
   "metadata": {},
   "outputs": [],
   "source": [
    "set1 & set2"
   ]
  },
  {
   "cell_type": "markdown",
   "id": "4a858dc8-dfa4-430e-ba42-392251057b5c",
   "metadata": {},
   "source": [
    "### Разность (A $\\setminus$ B)"
   ]
  },
  {
   "cell_type": "code",
   "execution_count": null,
   "id": "315e9fe2-4f40-43b0-8e4e-4960c7d158d0",
   "metadata": {},
   "outputs": [],
   "source": [
    "set1.difference(set2)"
   ]
  },
  {
   "cell_type": "code",
   "execution_count": null,
   "id": "90dc4c70-0173-40b7-96e1-7fcb1c3b051c",
   "metadata": {},
   "outputs": [],
   "source": [
    "set1 - set2"
   ]
  },
  {
   "cell_type": "markdown",
   "id": "f337218f-9ca0-4abe-8986-46fa2929727d",
   "metadata": {},
   "source": [
    "### Подмножества (A $\\subset$ B, A $\\subseteq$ B)"
   ]
  },
  {
   "cell_type": "code",
   "execution_count": null,
   "id": "d239643e-673f-4021-a66f-3b674124bd4d",
   "metadata": {},
   "outputs": [],
   "source": [
    "{1, 2} < set1"
   ]
  },
  {
   "cell_type": "code",
   "execution_count": null,
   "id": "719bcd5e-bdf7-4693-9a7c-eb63cb6c5ded",
   "metadata": {},
   "outputs": [],
   "source": [
    "{1, 2, 3} <= set1"
   ]
  },
  {
   "cell_type": "code",
   "execution_count": null,
   "id": "94831431-f8f0-42fb-bc42-7940b863915f",
   "metadata": {},
   "outputs": [],
   "source": [
    "set2 > {3, 4, 5}"
   ]
  },
  {
   "cell_type": "markdown",
   "id": "26ba798f-bf5f-4dfe-a8e3-36880a5ec61a",
   "metadata": {},
   "source": [
    "## Вероятность как мера множества"
   ]
  },
  {
   "cell_type": "markdown",
   "id": "200ac19e-0e8e-48f5-9ccc-d2ec8400aea1",
   "metadata": {},
   "source": [
    "Из чего состоит вероятностное пространство?\n",
    "\n",
    "$\\Omega$ - множество всех возможных исходов.\n",
    "\n",
    "**Случайное событие** - некое подмножество $\\Omega$.\n",
    "\n",
    "$\\mathcal{F}$ - множество всех событий.\n",
    "\n",
    "$\\mathbb{P}$ - вероятностная мера: правило, сопоставляющее события и их вероятность (размер соответствующего подмножества событий), при этом $\\mathbb{P}[\\Omega] = 1$.\n",
    "\n",
    "Таким образом, вероятность события можно трактовать как долю от $\\Omega$, которую событие занимает."
   ]
  },
  {
   "cell_type": "markdown",
   "id": "93a403ed-dbf3-4e5f-9e6a-aa2f106c858a",
   "metadata": {},
   "source": [
    "**NB**: пересечение событий соответствует логическому \"и\", объединение - логическому \"или\". Вероятность, что событие *не* произойдет - разность между $\\Omega$ и событием."
   ]
  },
  {
   "cell_type": "markdown",
   "id": "a44e544e-13c7-42d7-8a94-5e2c8274f8c9",
   "metadata": {},
   "source": [
    "### Аксиомы:"
   ]
  },
  {
   "cell_type": "markdown",
   "id": "17682718-5b72-48a4-9179-fab275deaecc",
   "metadata": {},
   "source": [
    "- $\\mathbb{P}(\\Omega) = 1$;\n",
    "- вероятность события не может быть отрицательной;\n",
    "- для непересекающихся событий вероятность их объединения равна сумме вероятностей каждого."
   ]
  },
  {
   "cell_type": "markdown",
   "id": "0d0097d5-e57c-40bb-9b52-59ddb0222f37",
   "metadata": {},
   "source": [
    "### Следствия:"
   ]
  },
  {
   "cell_type": "markdown",
   "id": "0e4db54e-95df-4753-983c-7321855eb16d",
   "metadata": {},
   "source": [
    "- вероятность события не может превышать 1;\n",
    "- $\\mathbb{P}[\\neg A] = 1 - \\mathbb{P}[A]$;\n",
    "- $\\mathbb{P}[\\emptyset] = 0$\n",
    "- $\\mathbb{P}[A \\cup B] = \\mathbb{P}[A] + \\mathbb{P}[B] - \\mathbb{P}[A \\cap B)$"
   ]
  },
  {
   "cell_type": "markdown",
   "id": "8ea2dc36-0d28-43d6-a985-8649c21db7f4",
   "metadata": {},
   "source": [
    "## Условная вероятность"
   ]
  },
  {
   "cell_type": "markdown",
   "id": "be1a5f3b-3a5a-4e68-b69a-2f70a44ac241",
   "metadata": {},
   "source": [
    "$$\n",
    "\\mathbb{P}[A | B] = \\frac{\\mathbb{P}[A \\cap B]} {\\mathbb{P}[B]}\n",
    "$$"
   ]
  },
  {
   "cell_type": "markdown",
   "id": "fa621567-8cb6-409b-bc66-d1442fa05f3b",
   "metadata": {},
   "source": [
    "События **независимы**, если $\\mathbb{P}[A | B] = \\mathbb{P}[A]$. Иными словами,  $\\mathbb{P}[A \\cap B] = \\mathbb{P}[A]\\mathbb{P}[B]$."
   ]
  },
  {
   "cell_type": "markdown",
   "id": "dc13306b-9eac-411d-8d5e-b2def00539cc",
   "metadata": {},
   "source": [
    "### Формула полной вероятности и теорема Байеса"
   ]
  },
  {
   "cell_type": "markdown",
   "id": "e91ceebe-8e09-47ab-9640-eaf816b3053a",
   "metadata": {},
   "source": [
    "На практике нередки события, вероятность которых зависит от начальных условий:"
   ]
  },
  {
   "cell_type": "markdown",
   "id": "bbc23411-c314-4d4c-901e-96dc0a66c691",
   "metadata": {},
   "source": [
    "$$\n",
    "\\mathbb{P}[A] = \\sum_{i=0}^{n} \\mathbb{P}[A | B_{i}] \\mathbb{P}[B_{i}]\n",
    "$$"
   ]
  },
  {
   "cell_type": "markdown",
   "id": "079178c8-c4ff-40d5-9c8f-cb6f5287a59f",
   "metadata": {},
   "source": [
    "Отсюда"
   ]
  },
  {
   "cell_type": "markdown",
   "id": "9fd51a01-4e60-4d8b-a504-c3360b14ba8a",
   "metadata": {},
   "source": [
    "$$\n",
    "\\mathbb{P}[B | A] = \\frac {\\mathbb{P}[A \\cap B]} {\\sum_{i=0}^{n} \\mathbb{P}[A | B_{i}]\\mathbb{P}[B_{i}]}, или\n",
    "$$"
   ]
  },
  {
   "cell_type": "markdown",
   "id": "fd56a91d-81af-4fa4-a48c-9e6c47f2e290",
   "metadata": {},
   "source": [
    "$$\n",
    "\\mathbb{P}[B | A] = \\frac {\\mathbb{P}[A | B]\\mathbb{P}[B]} {\\mathbb{P}[A]}\n",
    "$$"
   ]
  },
  {
   "cell_type": "markdown",
   "id": "17fae765-3d4b-450b-acdd-864d529c7cd7",
   "metadata": {},
   "source": [
    "**NB:** как видно, в общем случае:\n",
    "- $\\mathbb{P}[A | B] \\ne \\mathbb{P}[B | A]$;\n",
    "- независимые события могут пересекаться."
   ]
  },
  {
   "cell_type": "markdown",
   "id": "fd02adb9-b96e-4c3f-866d-769ad7ac4f44",
   "metadata": {},
   "source": [
    "## Случайные величины"
   ]
  },
  {
   "cell_type": "markdown",
   "id": "12ce46ad-cb58-4e9f-8021-9b316ed6b41b",
   "metadata": {},
   "source": [
    "**Случайная величина (random variable)** отображает исход эксперимента на ось действительных чисел."
   ]
  },
  {
   "cell_type": "markdown",
   "id": "56831252-a5b2-4c3a-9a90-a956a9be8989",
   "metadata": {},
   "source": [
    "### Дискретный случай"
   ]
  },
  {
   "cell_type": "markdown",
   "id": "27a0a884-8ba8-4d7f-b448-55ef4b97db46",
   "metadata": {},
   "source": [
    "#### PMF"
   ]
  },
  {
   "cell_type": "markdown",
   "id": "5c3891fd-467e-409e-a769-e41beb663339",
   "metadata": {},
   "source": [
    "Дискретную переменную $X$ можно описать с помощью *функции вероятности* (probability mass function, **PMF**):\n",
    "\n",
    "$$\n",
    "p_{X}(x) = \\mathbb{P}[X=x]\n",
    "$$"
   ]
  },
  {
   "cell_type": "markdown",
   "id": "2b1ecd59-b3fa-4350-8e90-fb0a8968181c",
   "metadata": {},
   "source": [
    "Логично, что:\n",
    "\n",
    "$$\n",
    "\\sum_{x\\in X(\\Omega)} p_{X}(x) = 1\n",
    "$$"
   ]
  },
  {
   "cell_type": "markdown",
   "id": "c4639808-57a4-4331-a718-269cc588a8d1",
   "metadata": {},
   "source": [
    "PMF можно визуализировать с помощью стобчатой диаграммы."
   ]
  },
  {
   "cell_type": "code",
   "execution_count": null,
   "id": "1368180e-375d-4127-a17c-5ed58e2015a9",
   "metadata": {},
   "outputs": [],
   "source": [
    "import numpy as np\n",
    "import scipy.stats as st\n",
    "import matplotlib.pyplot as plt\n",
    "\n",
    "X = st.randint(1, 7)"
   ]
  },
  {
   "cell_type": "code",
   "execution_count": null,
   "id": "75c12dee-2c7b-492e-8883-7afbdf11de4f",
   "metadata": {},
   "outputs": [],
   "source": [
    "plt.title('PMF равномерного распределения')\n",
    "plt.xlabel('Значения X')\n",
    "plt.ylabel('Вероятность')\n",
    "plt.xticks(range(0, 10))\n",
    "plt.bar(range(0, 10), [X.pmf(x) for x in range(0, 10)]);"
   ]
  },
  {
   "cell_type": "code",
   "execution_count": null,
   "id": "1b1bf579-178b-4d7e-9d04-cba07d1ac2a8",
   "metadata": {},
   "outputs": [],
   "source": [
    "sum([X.pmf(x) for x in range(0, 10)])"
   ]
  },
  {
   "cell_type": "code",
   "execution_count": null,
   "id": "91f72825-bee1-4455-a7d1-89ed67a6148b",
   "metadata": {},
   "outputs": [],
   "source": [
    "X = np.random.randint(1, 7, 100)"
   ]
  },
  {
   "cell_type": "code",
   "execution_count": null,
   "id": "8d8c5e74-3a43-443b-b931-c370edde2c68",
   "metadata": {},
   "outputs": [],
   "source": [
    "numbers, counts = np.unique(X, return_counts=True)\n",
    "pmf = counts / len(X)"
   ]
  },
  {
   "cell_type": "code",
   "execution_count": null,
   "id": "cc60608e-db92-4a3e-9e8a-b73656b5556d",
   "metadata": {},
   "outputs": [],
   "source": [
    "plt.title('Оценка распределения')\n",
    "plt.xlabel('Значения X')\n",
    "plt.ylabel('Частота')\n",
    "plt.bar(numbers, pmf)\n",
    "plt.xticks(range(0, 10));"
   ]
  },
  {
   "cell_type": "markdown",
   "id": "7635f353-7d6b-48f7-a5c7-346cfb32e05b",
   "metadata": {},
   "source": [
    "#### CDF"
   ]
  },
  {
   "cell_type": "markdown",
   "id": "4fe1b19c-aa6c-429a-8fd0-fe02b415a8c5",
   "metadata": {},
   "source": [
    "Другой способ описания - *функция распределения* (cumulative distribution function, **CDF**):\n",
    "\n",
    "$$\n",
    "F_{X}(k) = \\mathbb{P}[X \\leqslant k]\n",
    "$$\n",
    "\n",
    "Иными словами, это сумма значений PMF для $X \\leqslant k$"
   ]
  },
  {
   "cell_type": "code",
   "execution_count": null,
   "id": "96256f2a-ed27-4caa-8dfd-b93ad5785e49",
   "metadata": {},
   "outputs": [],
   "source": [
    "X = st.randint(1, 7)"
   ]
  },
  {
   "cell_type": "code",
   "execution_count": null,
   "id": "7f32878b-2e10-4fb2-b9a8-b79a70db9a40",
   "metadata": {},
   "outputs": [],
   "source": [
    "plt.title('CDF')\n",
    "plt.xlabel('Верхний предел Х')\n",
    "plt.ylabel('Вероятность')\n",
    "plt.bar(range(1, 7), [X.cdf(x) for x in range(1, 7)]);"
   ]
  },
  {
   "cell_type": "markdown",
   "id": "05fd6a30-4afb-4c51-8182-27a9b33ca40b",
   "metadata": {},
   "source": [
    "- CDF не убывает;\n",
    "- CDF увеличивается ступенчато при $p_{X}(x) >0$;\n",
    "- $F_{X}(-\\infty) = 0$\n",
    "- $F_{X}(+\\infty) = 1$"
   ]
  },
  {
   "cell_type": "markdown",
   "id": "fba1b46d-947a-450c-be0e-eb4cb6964356",
   "metadata": {},
   "source": [
    "#### Матожидание"
   ]
  },
  {
   "cell_type": "markdown",
   "id": "9e64135d-c652-416f-bfbf-b9ced5a01870",
   "metadata": {},
   "source": [
    "$$\n",
    "\\mathbb{E}[X] = \\sum_{x\\in X(\\Omega)} x p_{X}(x)\n",
    "$$"
   ]
  },
  {
   "cell_type": "code",
   "execution_count": null,
   "id": "64fdbb8b-d96f-42e5-bc12-6497af6a19bb",
   "metadata": {},
   "outputs": [],
   "source": [
    "sum(x * X.pmf(x) for x in range(1,7))"
   ]
  },
  {
   "cell_type": "code",
   "execution_count": null,
   "id": "9f2cec6e-628e-4d41-b5d4-3a24f2725d97",
   "metadata": {},
   "outputs": [],
   "source": [
    "X.expect()"
   ]
  },
  {
   "cell_type": "markdown",
   "id": "14393d64-9efe-4391-b21f-455875dc130c",
   "metadata": {},
   "source": [
    "##### Свойства:"
   ]
  },
  {
   "cell_type": "markdown",
   "id": "a09bf681-5ac5-43af-aa53-312460c70538",
   "metadata": {},
   "source": [
    "$$\n",
    "\\mathbb{E}[g(X)] = \\sum_{x\\in X(\\Omega)} g(x) p_{X}(x)\n",
    "$$"
   ]
  },
  {
   "cell_type": "code",
   "execution_count": null,
   "id": "88ea5c29-4c25-4c60-8e53-139b11801e45",
   "metadata": {},
   "outputs": [],
   "source": [
    "X.expect(lambda x: x ** 2)"
   ]
  },
  {
   "cell_type": "code",
   "execution_count": null,
   "id": "c4e793a3-d5a4-4032-a658-d334446b45cc",
   "metadata": {},
   "outputs": [],
   "source": [
    "sum(x ** 2 * X.pmf(x) for x in range(1,7))"
   ]
  },
  {
   "cell_type": "markdown",
   "id": "e6980f87-1cfc-4c80-92f0-f5258867beb8",
   "metadata": {},
   "source": [
    "$$\n",
    "\\mathbb{E}[g(X) + h(X)] = \\mathbb{E}[g(X)] + \\mathbb{E}[h(X)]\n",
    "$$\n",
    "\n",
    "$$\n",
    "\\mathbb{E}[cX] = c \\mathbb{E}[X]\n",
    "$$\n",
    "\n",
    "$$\n",
    "\\mathbb{E}[X+c] = \\mathbb{E}[X] + c\n",
    "$$"
   ]
  },
  {
   "cell_type": "markdown",
   "id": "965bc6f9-9a02-40f8-b521-2e4679ca50f5",
   "metadata": {},
   "source": [
    "#### Моменты. Дисперсия, асимметрия, эксцесс."
   ]
  },
  {
   "cell_type": "markdown",
   "id": "d29b8283-ada6-4c9a-9efd-7c801e06e5a5",
   "metadata": {},
   "source": [
    "$\\mathbb{E}[X^k]$ - **k-й момент** переменной Х. Также встречается понятие **центральный момент** ($\\mathbb{E}[(X-\\mathbb{E}[X])^k]$)"
   ]
  },
  {
   "cell_type": "markdown",
   "id": "2998acc5-8110-4d38-a470-a18d75aba60e",
   "metadata": {},
   "source": [
    "**Дисперсия (variance)** определяется как $\\mathbb{E}[(X-\\mathbb{E}[X])^2]$ (то есть второй центральный момент), или, после раскрытия скобок:\n",
    "\n",
    "$$\n",
    "Var(X) = \\mathbb{E}[X^2] - \\mathbb{E}[X]^2\n",
    "$$"
   ]
  },
  {
   "cell_type": "code",
   "execution_count": null,
   "id": "deb9153a-9537-48e1-b3b1-4bda3ae3dd46",
   "metadata": {},
   "outputs": [],
   "source": [
    "sum(x ** 2 * X.pmf(x) for x in range(1,7)) - sum(x * X.pmf(x) for x in range(1,7)) ** 2"
   ]
  },
  {
   "cell_type": "code",
   "execution_count": null,
   "id": "d1d74c0b-f755-4010-82cc-72b255f8df9d",
   "metadata": {},
   "outputs": [],
   "source": [
    "X.expect(lambda x: (x - X.expect()) ** 2)"
   ]
  },
  {
   "cell_type": "code",
   "execution_count": null,
   "id": "c24d8a12-cdf4-4eac-888b-f57aa5ffcbc1",
   "metadata": {},
   "outputs": [],
   "source": [
    "X.var()"
   ]
  },
  {
   "cell_type": "markdown",
   "id": "78ce5a9a-ceb6-4b04-90e3-c03963fd97f9",
   "metadata": {},
   "source": [
    "##### Свойства дисперсии:"
   ]
  },
  {
   "cell_type": "markdown",
   "id": "8986fe82-1000-46c7-b621-87ad05ba4879",
   "metadata": {},
   "source": [
    "$$\n",
    "Var(cX) = c^2Var(X)\n",
    "$$\n",
    "\n",
    "$$\n",
    "Var(X+c) = Var(X)\n",
    "$$"
   ]
  },
  {
   "cell_type": "markdown",
   "id": "11447249-34e1-4e1a-a8f3-1a37e0331e6b",
   "metadata": {},
   "source": [
    "Дисперсия показывает, насколько сильно значения отклоняются от среднего. Квадратный корень из дисперсии называется **стандартным отклонением ($\\sigma$)**."
   ]
  },
  {
   "cell_type": "markdown",
   "id": "a1765570-cd0a-4905-b619-534f59997233",
   "metadata": {},
   "source": [
    "Третий момент показывает асимметричность распределения. Величина\n",
    "\n",
    "$$\n",
    "\\frac{\\mathbb{E}[(X-\\mathbb{E}[X])^3]}{\\sigma^3}\n",
    "$$\n",
    "\n",
    "называется **коэффициентом асимметрии (skewness)**."
   ]
  },
  {
   "cell_type": "code",
   "execution_count": null,
   "id": "6c29a350-7872-492c-ac6d-5e0d28265401",
   "metadata": {},
   "outputs": [],
   "source": [
    "# Равномерное распределение симметрично:\n",
    "X.expect(lambda x: (x - X.expect()) ** 3) / X.var() ** 1.5"
   ]
  },
  {
   "cell_type": "code",
   "execution_count": null,
   "id": "7c8f644c-8f0c-4890-b68e-a9900f03b244",
   "metadata": {},
   "outputs": [],
   "source": [
    "X.stats(moments='s')"
   ]
  },
  {
   "cell_type": "markdown",
   "id": "67539333-e7bc-4710-a254-5074a41bf11e",
   "metadata": {},
   "source": [
    "Четвертый момент демонстрирует, насколько тяжелые \"хвосты\" у распределения. Величина\n",
    "\n",
    "$$\n",
    "\\frac{\\mathbb{E}[(X-\\mathbb{E}[X])^4]}{\\sigma^4} - 3\n",
    "$$\n",
    "\n",
    "называется **коэффициентом эксцесса (kurtosis)**. Большое значение символизирует острый пик в районе матожидания, при отрицательных значениях распределение очень гладкое."
   ]
  },
  {
   "cell_type": "code",
   "execution_count": null,
   "id": "972a33d4-d812-4f36-9100-7330f408640a",
   "metadata": {},
   "outputs": [],
   "source": [
    "X.expect(lambda x: (x - X.expect()) ** 4) / X.var() ** 2 - 3"
   ]
  },
  {
   "cell_type": "code",
   "execution_count": null,
   "id": "1924e256-cf60-4667-a699-fd83b62a50f4",
   "metadata": {},
   "outputs": [],
   "source": [
    "X.stats(moments='k')"
   ]
  },
  {
   "cell_type": "markdown",
   "id": "d0267865-5786-4d63-ab6b-8f9eaea81a59",
   "metadata": {},
   "source": [
    "### Дискретные распределения на практике"
   ]
  },
  {
   "cell_type": "markdown",
   "id": "cdbb1eb9-ddd2-4a34-8b6f-41007880fdc9",
   "metadata": {},
   "source": [
    "#### Дискретное равномерное ($X \\sim U(a, b)$)"
   ]
  },
  {
   "cell_type": "markdown",
   "id": "a2267569-350f-449f-aff4-9647050b76fd",
   "metadata": {},
   "source": [
    "Число возможных значений ($b-a+1$) обозначим как $n$:"
   ]
  },
  {
   "cell_type": "markdown",
   "id": "6ab33308-da63-4db1-bf3a-2a208916e211",
   "metadata": {},
   "source": [
    "$$\n",
    "p_X(x) = \n",
    "\\begin{equation}\n",
    "\\begin{cases}\n",
    "  \\frac{1}{n}\\text{, если }a\\leqslant x \\leqslant b \\\\\n",
    "  0 \\text{ иначе}\n",
    "\\end{cases}\n",
    "\\end{equation}\n",
    "$$"
   ]
  },
  {
   "cell_type": "markdown",
   "id": "e18bb39f-302b-4306-845e-85322e1c1995",
   "metadata": {},
   "source": [
    "$$\n",
    "\\mathbb{E}[X] = \\frac{a + b}{2}\n",
    "$$\n",
    "\n",
    "$$\n",
    "Var(X) = \\frac{n^2-1}{12}\n",
    "$$"
   ]
  },
  {
   "cell_type": "code",
   "execution_count": null,
   "id": "a234a34e-5fd2-42bc-801e-ad433226af6e",
   "metadata": {},
   "outputs": [],
   "source": [
    "35/12"
   ]
  },
  {
   "cell_type": "markdown",
   "id": "4067daed-ac1b-491b-8f09-231a321b2217",
   "metadata": {},
   "source": [
    "#### Распределение Бернулли ($X \\sim Bernoulli(p)$)"
   ]
  },
  {
   "cell_type": "markdown",
   "id": "0518c3b9-1072-487c-a82c-614aca3f072e",
   "metadata": {},
   "source": [
    "Распределение подходит для одного эсперимента вида \"успех (1) или неудача (0)\". Вероятность успеха равна $p$, а неудачи, соответственно, $1-p$."
   ]
  },
  {
   "cell_type": "markdown",
   "id": "474a13fb-8f7d-4c78-bbe9-b9d813eedf02",
   "metadata": {},
   "source": [
    "$$\n",
    "p_X(x) = \n",
    "\\begin{equation}\n",
    "\\begin{cases}\n",
    "  p \\text{, если } x = 1 \\\\\n",
    "  1-p \\text{, если } x = 0\n",
    "\\end{cases}\n",
    "\\end{equation}\n",
    "$$"
   ]
  },
  {
   "cell_type": "markdown",
   "id": "a8c49e40-28e6-4023-b438-a5946bb9cefe",
   "metadata": {},
   "source": [
    "$$\n",
    "\\mathbb{E}[X] = p\n",
    "$$\n",
    "\n",
    "$$\n",
    "Var(X) = p(1-p)\n",
    "$$"
   ]
  },
  {
   "cell_type": "code",
   "execution_count": null,
   "id": "0c22fbf0-18c7-45d0-93dd-fbba5731a9bb",
   "metadata": {},
   "outputs": [],
   "source": [
    "X = st.bernoulli(0.3)"
   ]
  },
  {
   "cell_type": "code",
   "execution_count": null,
   "id": "6c1ac5b4-db5b-4d74-b50a-fa8eb34be17f",
   "metadata": {},
   "outputs": [],
   "source": [
    "plt.title('PMF Бернулли')\n",
    "plt.xlabel('Значения X')\n",
    "plt.ylabel('Вероятность')\n",
    "plt.xticks(range(0, 10))\n",
    "plt.bar(range(2), [X.pmf(x) for x in range(2)]);"
   ]
  },
  {
   "cell_type": "markdown",
   "id": "a013149b-3815-47c0-928d-1c7061a346eb",
   "metadata": {},
   "source": [
    "#### Биномиальное распределение ($X \\sim Binomial(n, p)$)"
   ]
  },
  {
   "cell_type": "markdown",
   "id": "9bc08b02-7d1f-4950-adbf-09d99ae5e62e",
   "metadata": {},
   "source": [
    "Обобщение распределения Бернулли для $n$ попыток.\n",
    "\n",
    "Какова вероятность получить ровно $k$ удачных результатов? Для этого должно произойти $k$ успешных попыток и $n-k$ неудачных, при этом надо помнить, что есть несколько способов выбрать $k$ из $n$."
   ]
  },
  {
   "cell_type": "markdown",
   "id": "ab2de972-37dd-4f0d-a758-e0088cd397ca",
   "metadata": {},
   "source": [
    "$$\n",
    "p_X(k) = C^k_n p^k(1-p)^{n-k},\n",
    "$$ где\n",
    "\n",
    "$$\n",
    "C^k_n = \\frac{n!}{k!(n-k)!}\n",
    "$$\n",
    "\n",
    "и \n",
    "\n",
    "$$\n",
    "0 \\leqslant k \\leqslant n\n",
    "$$"
   ]
  },
  {
   "cell_type": "code",
   "execution_count": null,
   "id": "b1039dbc-9e02-409b-bc3a-55527e5f9a41",
   "metadata": {},
   "outputs": [],
   "source": [
    "X = st.binom(5, 0.5)"
   ]
  },
  {
   "cell_type": "code",
   "execution_count": null,
   "id": "52c867da-976c-45c2-8c16-e4703bd2421f",
   "metadata": {},
   "outputs": [],
   "source": [
    "plt.title('PMF для биномиального распределения X ~ Binomial(5, 0.5)')\n",
    "plt.xlabel('Значения X')\n",
    "plt.ylabel('Вероятность')\n",
    "plt.xticks(range(0, 10))\n",
    "plt.bar(range(6), [X.pmf(x) for x in range(6)]);"
   ]
  },
  {
   "cell_type": "markdown",
   "id": "40854be7-69a9-4e61-842f-30d45a7a5255",
   "metadata": {},
   "source": [
    "$$\n",
    "\\mathbb{E}[X] = np\n",
    "$$\n",
    "\n",
    "$$\n",
    "Var(X) = np(1-p)\n",
    "$$"
   ]
  },
  {
   "cell_type": "markdown",
   "id": "08877f30-5b26-4125-9af5-3a819e2b7a27",
   "metadata": {},
   "source": [
    "#### Геометрическое распределение ($X \\sim Geometric(p)$)"
   ]
  },
  {
   "cell_type": "markdown",
   "id": "c1ab5e06-2121-45a9-a496-3e82f955b716",
   "metadata": {},
   "source": [
    "В данном случае эксперимент продолжается неограниченное число раз до первого успеха."
   ]
  },
  {
   "cell_type": "markdown",
   "id": "cb0989bd-3e6b-4864-a75d-186b9de46cd4",
   "metadata": {},
   "source": [
    "$$\n",
    "p_X(k) =p(1-p)^{k-1}\\text{, где }k \\geqslant 1\n",
    "$$"
   ]
  },
  {
   "cell_type": "code",
   "execution_count": null,
   "id": "afd03701-3177-4804-bf37-bc878c9c60be",
   "metadata": {},
   "outputs": [],
   "source": [
    "X = st.geom(0.25)"
   ]
  },
  {
   "cell_type": "code",
   "execution_count": null,
   "id": "f8ed028b-906b-44be-9f04-05d263bb26c0",
   "metadata": {},
   "outputs": [],
   "source": [
    "plt.title('PMF для геометрического распределения X ~ Geometric(0.25)')\n",
    "plt.xlabel('Значения X')\n",
    "plt.ylabel('Вероятность')\n",
    "plt.xticks(range(1, 21))\n",
    "plt.bar(range(1, 21), [X.pmf(x) for x in range(1,21)]);"
   ]
  },
  {
   "cell_type": "markdown",
   "id": "6eacccbb-21ea-417f-8b31-3a1c7b6abd1c",
   "metadata": {},
   "source": [
    "$$\n",
    "\\mathbb{E}[X] = \\frac{1}{p}\n",
    "$$\n",
    "\n",
    "$$\n",
    "Var(X) = \\frac{1-p}{p^2}\n",
    "$$\n",
    "\n",
    "$$\n",
    "\\mathbb{P}[X > k] = (1-p)^k\n",
    "$$"
   ]
  },
  {
   "cell_type": "markdown",
   "id": "f9cc48b3-273f-4450-8937-68894e606c66",
   "metadata": {},
   "source": [
    "#### Распределение Пуассона ($X \\sim Poisson(\\lambda)$)"
   ]
  },
  {
   "cell_type": "markdown",
   "id": "10580880-9f7f-4fb7-bff6-910abf4f917b",
   "metadata": {},
   "source": [
    "Вероятность того, что случится $k$ одинаковых событий за период времени, если известно среднее количество этих событий за этот период."
   ]
  },
  {
   "cell_type": "markdown",
   "id": "14c1c94d-28bf-4970-a7e4-bad2fef0b3e0",
   "metadata": {},
   "source": [
    "$$\n",
    "p_X(k) = \\frac{\\lambda^k e^{-\\lambda}}{k!}\\text{, где }k \\geqslant 1\n",
    "$$"
   ]
  },
  {
   "cell_type": "markdown",
   "id": "87e8434c-4920-4cb8-bc20-868864c164f7",
   "metadata": {},
   "source": [
    "$\\lambda > 0$ - среднее количество событий за период времени."
   ]
  },
  {
   "cell_type": "code",
   "execution_count": null,
   "id": "fbf2d5b9-66c9-440c-88c5-e24b4087053d",
   "metadata": {},
   "outputs": [],
   "source": [
    "X = st.poisson(2)"
   ]
  },
  {
   "cell_type": "code",
   "execution_count": null,
   "id": "1962d9ca-3ee2-493b-b1ee-496e61f6224a",
   "metadata": {},
   "outputs": [],
   "source": [
    "plt.title('PMF для распределения Пуассона X ~ Poisson(2)')\n",
    "plt.xlabel('Значения X')\n",
    "plt.ylabel('Вероятность')\n",
    "plt.xticks(range(10))\n",
    "plt.bar(range(10), [X.pmf(x) for x in range(10)]);"
   ]
  },
  {
   "cell_type": "markdown",
   "id": "8522a367-a92a-4d9c-998b-56c28b1c9e7e",
   "metadata": {},
   "source": [
    "$$\n",
    "\\mathbb{E}[X] = \\lambda\n",
    "$$\n",
    "\n",
    "$$\n",
    "Var(X) = \\lambda\n",
    "$$"
   ]
  },
  {
   "cell_type": "markdown",
   "id": "f83a8dd1-af21-4edb-8128-68836bef300e",
   "metadata": {},
   "source": [
    "#### Приближение $Binomial(n, p)$ через $Poisson(np)$ для больших n и малых p"
   ]
  },
  {
   "cell_type": "code",
   "execution_count": null,
   "id": "919976d2-ca36-4dd3-a44d-702b7054e28e",
   "metadata": {},
   "outputs": [],
   "source": [
    "plt.title('PMF: X ~ Binomial(100, 0.1) vs X ~ Poisson(10)')\n",
    "plt.xlabel('Значения X')\n",
    "plt.ylabel('Вероятность')\n",
    "plt.xticks(range(0, 20))\n",
    "X = st.binom(100, 0.1)\n",
    "plt.bar(range(21), [X.pmf(x) for x in range(21)], alpha=0.7);\n",
    "Y = st.poisson(10)\n",
    "plt.bar(range(21), [Y.pmf(x) for x in range(21)], alpha=0.7);"
   ]
  },
  {
   "cell_type": "markdown",
   "id": "c8afe95f-6e1a-4cd1-bfbf-0d9907576a34",
   "metadata": {},
   "source": [
    "---"
   ]
  },
  {
   "cell_type": "markdown",
   "id": "ac100716-95eb-45bb-b4ee-f99dee6e5e9d",
   "metadata": {},
   "source": [
    "### Непрерывный случай"
   ]
  },
  {
   "cell_type": "markdown",
   "id": "acc9c869-7984-4395-8902-4a5ed3754449",
   "metadata": {},
   "source": [
    "#### PDF"
   ]
  },
  {
   "cell_type": "markdown",
   "id": "71f12698-8e6d-452e-89bf-87748f9471f3",
   "metadata": {},
   "source": [
    "В случае непрерывной величины вероятность в отдельной точке имеет меру $\\emptyset$, и мы можем говорить лишь о вероятности нахождения в каком-то интервале. Непрерывный аналог PMF называется *плотностью вероятности* (probability density function, **PDF**):"
   ]
  },
  {
   "cell_type": "code",
   "execution_count": null,
   "id": "e53734be-92b3-4d3b-ac7b-ad787b9d490e",
   "metadata": {},
   "outputs": [],
   "source": [
    "X = st.norm(0, 0.3)"
   ]
  },
  {
   "cell_type": "code",
   "execution_count": null,
   "id": "091f5d57-c9ac-4790-9b15-def27a6a675d",
   "metadata": {},
   "outputs": [],
   "source": [
    "plt.title('PDF нормального распределения')\n",
    "plt.xlabel('Значения X')\n",
    "plt.ylabel('Плотность вероятности')\n",
    "points = np.linspace(-2, 2, 100)\n",
    "pdf = np.array([X.pdf(x) for x in points])\n",
    "plt.plot(points, pdf, alpha=0.7);"
   ]
  },
  {
   "cell_type": "markdown",
   "id": "c1978979-857b-4249-bc64-d00eae9553be",
   "metadata": {},
   "source": [
    "$$\n",
    "\\mathbb{P}[a\\leqslant x \\leqslant b] = \\int_{a}^{b} f_{X}(x) dx\n",
    "$$"
   ]
  },
  {
   "cell_type": "code",
   "execution_count": null,
   "id": "e34d7ef1-3097-4c83-b679-e00eaeaf235b",
   "metadata": {},
   "outputs": [],
   "source": [
    "from scipy.integrate import trapezoid\n",
    "trapezoid(pdf[(points >= -0.5) & (points < 0.5)], points[(points >= -0.5) & (points < 0.5)])"
   ]
  },
  {
   "cell_type": "code",
   "execution_count": null,
   "id": "5506c90c-eda6-4eec-97ad-f4ba51e1810d",
   "metadata": {},
   "outputs": [],
   "source": [
    "trapezoid(pdf[(points >= -1) & (points < 1)], points[(points >= -1) & (points < 1)])"
   ]
  },
  {
   "cell_type": "markdown",
   "id": "4a144653-9448-4d4d-883c-fb4f216e7d75",
   "metadata": {},
   "source": [
    "#### Свойства PDF"
   ]
  },
  {
   "cell_type": "markdown",
   "id": "9d5a2343-1752-47dc-990d-9520f0e53c3d",
   "metadata": {},
   "source": [
    "- PDF всегда неотрицательна (но, в отличие от PMF, ее значение может превышать 1);\n",
    "- однако площадь под всей кривой $\\int_{\\Omega} f_{X}(x) dx = 1$"
   ]
  },
  {
   "cell_type": "markdown",
   "id": "0f923d83-50b9-4701-9fcf-b986dc6b2ff3",
   "metadata": {},
   "source": [
    "#### CDF"
   ]
  },
  {
   "cell_type": "markdown",
   "id": "7530e066-a32d-4afd-ba4d-46bc487867c2",
   "metadata": {},
   "source": [
    "$$\n",
    "F_X(x) = \\mathbb{P}[x \\leqslant k] = \\int_{- \\infty}^{k} f_{X}(x) dx\n",
    "$$"
   ]
  },
  {
   "cell_type": "markdown",
   "id": "d95abe87-f335-4bdc-8418-ceb713fd253a",
   "metadata": {},
   "source": [
    "Соответственно,\n",
    "\n",
    "$$\n",
    "f_{X}(x) = \\frac{dF_X(x)}{dx}\n",
    "$$"
   ]
  },
  {
   "cell_type": "code",
   "execution_count": null,
   "id": "7c2c995f-06d5-4273-a682-8ccfaba3f286",
   "metadata": {},
   "outputs": [],
   "source": [
    "plt.title('CDF нормального распределения')\n",
    "plt.xlabel('Верхний предел Х')\n",
    "plt.ylabel('Вероятность')\n",
    "points = np.linspace(-2, 2, 100)\n",
    "cdf = np.array([X.cdf(x) for x in points])\n",
    "plt.plot(points, cdf, alpha=0.7);"
   ]
  },
  {
   "cell_type": "markdown",
   "id": "249d8125-dee5-4aa2-97a5-a313c5b23dbc",
   "metadata": {},
   "source": [
    "CDF будет более плавной, но ее свойства сохраняются:\n",
    "\n",
    "- CDF не убывает;\n",
    "- $F_{X}(-\\infty) = 0$\n",
    "- $F_{X}(+\\infty) = 1$"
   ]
  },
  {
   "cell_type": "markdown",
   "id": "7d48daa9-90a6-44fa-b816-da5d38c8e3f7",
   "metadata": {},
   "source": [
    "### Моменты"
   ]
  },
  {
   "cell_type": "markdown",
   "id": "9eced35c-6241-4511-8bdd-0ebc9ceb4a08",
   "metadata": {},
   "source": [
    "$$\n",
    "\\mathbb{E}[X] = \\int_{\\Omega} xf_{X}(x) dx\n",
    "$$"
   ]
  },
  {
   "cell_type": "markdown",
   "id": "7f915121-d37c-4740-9f02-36de1bbc028e",
   "metadata": {},
   "source": [
    "Свойства сохраняются:"
   ]
  },
  {
   "cell_type": "markdown",
   "id": "e8db8439-d59e-42e7-be1c-5185c5213118",
   "metadata": {},
   "source": [
    "$$\n",
    "\\mathbb{E}[g(X)] = \\int_{\\Omega} g(x)f_{X}(x) dx\n",
    "$$"
   ]
  },
  {
   "cell_type": "markdown",
   "id": "602cdc4d-b1cc-48e1-ad3b-c79bc089c900",
   "metadata": {},
   "source": [
    "$$\n",
    "\\mathbb{E}[g(X) + h(X)] = \\mathbb{E}[g(X)] + \\mathbb{E}[h(X)]\n",
    "$$\n",
    "\n",
    "$$\n",
    "\\mathbb{E}[cX] = c \\mathbb{E}[X]\n",
    "$$\n",
    "\n",
    "$$\n",
    "\\mathbb{E}[X+c] = \\mathbb{E}[X] + c\n",
    "$$"
   ]
  },
  {
   "cell_type": "markdown",
   "id": "d9c7c499-884a-4413-8592-13ea9663303a",
   "metadata": {},
   "source": [
    "Другие моменты строятся аналогично:"
   ]
  },
  {
   "cell_type": "markdown",
   "id": "063b400e-2ae4-4b0c-8187-2c69e3d72791",
   "metadata": {},
   "source": [
    "$$\n",
    "\\mathbb{E}[X^k] = \\int_{\\Omega} x^kf_{X}(x) dx\n",
    "$$"
   ]
  },
  {
   "cell_type": "markdown",
   "id": "d1327dd0-1f84-4812-abab-d7eb2cd24e80",
   "metadata": {},
   "source": [
    "### Другие статистики"
   ]
  },
  {
   "cell_type": "markdown",
   "id": "92cfbc92-3389-4635-a1d3-dac4cc22abcd",
   "metadata": {},
   "source": [
    "**Медиана** определяется как значение $x=c$, где $\\int_{- \\infty}^{c} f_{X}(x) dx = \\int_{c}^{\\infty} f_{X}(x) dx$.\n",
    "\n",
    "Иными словами, CDF **$F_X(c) = \\frac{1}{2}$**\n",
    "\n",
    "\n",
    "**Мода** - значение $x$, при котором значение PDF максимально ($\\underset{x\\in\\Omega}{\\mathrm{argmax}}f_X(x)$)"
   ]
  },
  {
   "cell_type": "markdown",
   "id": "a63d753a-250d-41ad-aa75-8c4074911979",
   "metadata": {},
   "source": [
    "### Непрерывные распределения на практике"
   ]
  },
  {
   "cell_type": "markdown",
   "id": "a3c07cad-51a3-410e-bccb-b69af8998d4d",
   "metadata": {},
   "source": [
    "#### Непрерывное равномерное ($X \\sim Uniform(a, b)$)"
   ]
  },
  {
   "cell_type": "markdown",
   "id": "6efe9a34-1e7d-4ddb-913c-de95c1962807",
   "metadata": {},
   "source": [
    "$$\n",
    "f_X(x) = \n",
    "\\begin{equation}\n",
    "\\begin{cases}\n",
    "  \\frac{1}{b-a}\\text{, если }a\\leqslant x \\leqslant b \\\\\n",
    "  0 \\text{ иначе}\n",
    "\\end{cases}\n",
    "\\end{equation}\n",
    "$$"
   ]
  },
  {
   "cell_type": "code",
   "execution_count": null,
   "id": "fd9f1a9f-5aff-4d4d-b365-e76199b59b3f",
   "metadata": {},
   "outputs": [],
   "source": [
    "X = st.uniform(1, 5) # 1..1+5"
   ]
  },
  {
   "cell_type": "code",
   "execution_count": null,
   "id": "fd28dc8b-3001-4407-a97d-92e0742458e9",
   "metadata": {},
   "outputs": [],
   "source": [
    "fig, ax = plt.subplots(1, 2, figsize=(12, 5))\n",
    "plt.suptitle('PDF и CDF равномерного распределения')\n",
    "ax[0].set(xlabel = 'Значения X', ylabel = 'Плотность вероятности')\n",
    "ax[0].set(xlabel = 'Верхний предел X', ylabel = 'Вероятность')\n",
    "\n",
    "points = np.linspace(-5, 13, 100)\n",
    "pdf = np.array([X.pdf(x) for x in points])\n",
    "ax[0].plot(points, pdf);\n",
    "\n",
    "cdf = np.array([X.cdf(x) for x in points])\n",
    "ax[1].plot(points, cdf);"
   ]
  },
  {
   "cell_type": "markdown",
   "id": "2b01b8e7-ab6f-4a0a-a9fd-4066cd7cf618",
   "metadata": {},
   "source": [
    "$$\n",
    "\\mathbb{E}[X] = \\frac{a + b}{2}\n",
    "$$\n",
    "\n",
    "$$\n",
    "Var(X) = \\frac{(b-a)^2}{12}\n",
    "$$"
   ]
  },
  {
   "cell_type": "markdown",
   "id": "622f186d-6988-4f49-ada4-f0b80ba0383e",
   "metadata": {},
   "source": [
    "#### Экспоненциальное распределение ($X \\sim Exponential(\\lambda)$)"
   ]
  },
  {
   "cell_type": "markdown",
   "id": "d1f03b9f-7c7c-4634-b04b-0d135725641d",
   "metadata": {},
   "source": [
    "Его можно рассматривать как непрерывный аналог распределения Пуассона: вместо подсчета событий в единицу времени используется средний промежуток времени между двумя событиями."
   ]
  },
  {
   "cell_type": "markdown",
   "id": "f2476585-3ecf-462d-8145-ef0c56f532ad",
   "metadata": {},
   "source": [
    "$$\n",
    "f_X(x) = \n",
    "\\begin{equation}\n",
    "\\begin{cases}\n",
    "  \\lambda e^{-\\lambda x}\\text{, если }x\\geqslant 0\\\\\n",
    "  0 \\text{ иначе}\n",
    "\\end{cases}\n",
    "\\end{equation}\n",
    "$$"
   ]
  },
  {
   "cell_type": "code",
   "execution_count": null,
   "id": "312bd767-3601-4572-9840-97c3a450136e",
   "metadata": {},
   "outputs": [],
   "source": [
    "X1 = st.expon(scale=1/2)\n",
    "X2 = st.expon(scale=1/5)"
   ]
  },
  {
   "cell_type": "code",
   "execution_count": null,
   "id": "263e5597-e2cc-48a8-83be-0eca467ef80a",
   "metadata": {},
   "outputs": [],
   "source": [
    "fig, ax = plt.subplots(1, 2, figsize=(12, 5))\n",
    "plt.suptitle('PDF и CDF экспоненциального распределения')\n",
    "\n",
    "ax[0].set(xlabel = 'Значения X', ylabel = 'Плотность вероятности')\n",
    "ax[1].set(xlabel = 'Верхний предел X', ylabel = 'Вероятность')\n",
    "\n",
    "points = np.linspace(0, 1, 100)\n",
    "pdf1 = np.array([X1.pdf(x) for x in points])\n",
    "ax[0].plot(points, pdf1);\n",
    "pdf2 = np.array([X2.pdf(x) for x in points])\n",
    "ax[0].plot(points, pdf2);\n",
    "ax[0].legend(['$\\lambda = 2$', '$\\lambda = 5$'])\n",
    "\n",
    "cdf1 = np.array([X1.cdf(x) for x in points])\n",
    "ax[1].plot(points, cdf1);\n",
    "cdf2 = np.array([X2.cdf(x) for x in points])\n",
    "ax[1].plot(points, cdf2);"
   ]
  },
  {
   "cell_type": "markdown",
   "id": "8fe2b242-a781-4205-aa62-6ff5644ac2c1",
   "metadata": {},
   "source": [
    "$$\n",
    "\\mathbb{E}[X] = \\frac{1}{\\lambda}\n",
    "$$\n",
    "\n",
    "$$\n",
    "Var(X) = \\frac{1}{\\lambda^2}\n",
    "$$"
   ]
  },
  {
   "cell_type": "markdown",
   "id": "d9b2e123-da84-46dc-b8a4-0280c9f16fd1",
   "metadata": {},
   "source": [
    "#### Нормальное распределение ($X \\sim \\mathcal{N}(\\mu, \\sigma^2)$)"
   ]
  },
  {
   "cell_type": "markdown",
   "id": "b7437665-b112-4baf-b6f9-ded99a4b5018",
   "metadata": {},
   "source": [
    "$$\n",
    "\\large{f_X(x) = \\frac{1}{\\sqrt{2\\pi \\sigma^2}}  e^{\\frac{-(x-\\mu)^2}{2\\sigma^2}}}\n",
    "$$"
   ]
  },
  {
   "cell_type": "markdown",
   "id": "c8098bf3-477a-4231-b513-3ec9cba6fde7",
   "metadata": {},
   "source": [
    "$$\n",
    "\\mathbb{E}[X] = \\mu\n",
    "$$\n",
    "\n",
    "$$\n",
    "Var(X) = \\sigma^2\n",
    "$$"
   ]
  },
  {
   "cell_type": "markdown",
   "id": "87180ef8-4c3a-4a4c-a9fa-4f091c98376e",
   "metadata": {},
   "source": [
    "При $\\mu = 0$ и $\\sigma^2 = 1$ получается *стандартное нормальное распределение*:"
   ]
  },
  {
   "cell_type": "markdown",
   "id": "a851f5ac-0a20-453b-9b54-02dc25e863ab",
   "metadata": {},
   "source": [
    "$$\n",
    "\\large{f_X(x) = \\frac{1}{\\sqrt{2\\pi}} e^{\\frac{-x^2}{2}}}\n",
    "$$"
   ]
  },
  {
   "cell_type": "code",
   "execution_count": null,
   "id": "cbe10ffd-b37d-49fd-901c-d68f4555aba8",
   "metadata": {},
   "outputs": [],
   "source": [
    "X = st.norm(0, 1)"
   ]
  },
  {
   "cell_type": "code",
   "execution_count": null,
   "id": "145f083b-e989-4006-9ad5-a6fdc5159bce",
   "metadata": {},
   "outputs": [],
   "source": [
    "fig, ax = plt.subplots(1, 2, figsize=(12, 5))\n",
    "plt.suptitle('PDF и CDF стандартного нормального распределения')\n",
    "ax[0].set(xlabel = 'Значения X', ylabel = 'Плотность вероятности')\n",
    "ax[1].set(xlabel = 'Верхний предел X', ylabel = 'Вероятность')\n",
    "\n",
    "points = np.linspace(-5, 5, 100)\n",
    "pdf = np.array([X.pdf(x) for x in points])\n",
    "ax[0].plot(points, pdf);\n",
    "\n",
    "cdf = np.array([X.cdf(x) for x in points])\n",
    "ax[1].plot(points, cdf);"
   ]
  },
  {
   "cell_type": "markdown",
   "id": "c274a6b1-a270-41c0-a822-c30a1d8e5067",
   "metadata": {},
   "source": [
    "Свойства нормальной PDF:\n",
    "\n",
    "- площадь под кривой в диапазоне [μ−σ, μ+σ] всегда равна 0.6826;\n",
    "- площадь под кривой в диапазоне от [μ−2σ, μ+2σ] всегда равна 0.9544;\n",
    "- площадь под кривой в диапазоне от [μ−3σ, μ+3σ] всегда равна 0.9972;"
   ]
  },
  {
   "cell_type": "markdown",
   "id": "73b4b899-47ca-4c2d-8ee4-b64bb983b766",
   "metadata": {},
   "source": [
    "CDF стандартной гауссианы:\n",
    "\n",
    "$$\n",
    "\\Phi(k) = \\frac{1}{\\sqrt{2\\pi}}\\int_{-\\infty}^k{e^{-\\frac{x^2}{2}}dx}\n",
    "$$"
   ]
  },
  {
   "cell_type": "markdown",
   "id": "ffb59fbd-2002-4f1c-8647-4e541a6ac2f1",
   "metadata": {},
   "source": [
    "Она является одним из видов так называемой **функции ошибок**:\n",
    "\n",
    "$$\n",
    "erf(k) = \\frac{2}{\\sqrt{\\pi}}\\int_0^k{e^{-x^2}dx}\n",
    "$$"
   ]
  },
  {
   "cell_type": "markdown",
   "id": "6e7d653b-b0df-41c7-821d-fb9d7581b59f",
   "metadata": {},
   "source": [
    "$$\n",
    "\\Phi(k) = \\frac{1 + erf\\left(\\frac{x}{\\sqrt(2)}\\right)}{2}\n",
    "$$"
   ]
  },
  {
   "cell_type": "markdown",
   "id": "e6af87b5-7bd0-47b8-8fe2-647a782a2f6e",
   "metadata": {},
   "source": [
    "Можно выразить CDF любого нормального распределения через $\\Phi$:\n",
    "\n",
    "$$\n",
    "F_X(x) = \\Phi\\left(\\frac{x-\\mu}{\\sigma}\\right)\n",
    "$$"
   ]
  },
  {
   "cell_type": "markdown",
   "id": "4bbe7634-bdd9-4562-bda3-627a71ca1ac2",
   "metadata": {},
   "source": [
    "#### Сумма случайных переменных"
   ]
  },
  {
   "cell_type": "code",
   "execution_count": null,
   "id": "936c39f3-0320-4a31-b4f7-a883284d709f",
   "metadata": {},
   "outputs": [],
   "source": [
    "plt.suptitle('Cумма случайных переменных')\n",
    "plt.xlabel('Значения X')\n",
    "plt.ylabel('Наблюдений, шт')\n",
    "\n",
    "pdf = sum(np.random.randint(1, 6, 10000) for _ in range(3))\n",
    "plt.hist(pdf);"
   ]
  },
  {
   "cell_type": "code",
   "execution_count": null,
   "id": "95688202-3b0e-4b6b-8668-ff4349a4c529",
   "metadata": {},
   "outputs": [],
   "source": [
    "from scipy.signal import convolve\n",
    "from functools import reduce\n",
    "\n",
    "points = np.linspace(-20, 20, 1000)\n",
    "\n",
    "# Convolve the two arrays\n",
    "pdf_sum = reduce(lambda x, y: convolve(x, y, mode=\"same\"),\n",
    "                 [np.array([st.uniform(-2, np.random.randint(1, 5)).pdf(x) for x in points]) for _ in range(2)])\n",
    "\n",
    "plt.suptitle('Свертка PDF случайных переменных')\n",
    "plt.xlabel('Значения X')\n",
    "plt.ylabel('Наблюдений, шт')\n",
    "\n",
    "plt.plot(points, pdf_sum);"
   ]
  },
  {
   "cell_type": "markdown",
   "id": "84cdfd27-9216-429b-95b8-c72af32430db",
   "metadata": {},
   "source": [
    "#### Приближение $Binomial(n, p)$ через $\\mathcal{N}(np, np(1-p))$ для больших n и средних p"
   ]
  },
  {
   "cell_type": "markdown",
   "id": "4eb39b46-d257-4f8d-aff7-562c95bd99fe",
   "metadata": {},
   "source": [
    "В качестве эмирического критерия обычно берется $np > 5$ и $n(1-p) > 5$."
   ]
  },
  {
   "cell_type": "code",
   "execution_count": null,
   "id": "f7d7213a-c4d7-4902-bbd1-7af2aaf3e4dd",
   "metadata": {},
   "outputs": [],
   "source": [
    "plt.title('PMF: X ~ Binomial(100, 0.1) vs X ~ $\\mathcal{N}$(10, 9) )')\n",
    "plt.xlabel('Значения X')\n",
    "plt.ylabel('Вероятность')\n",
    "plt.xticks(range(0, 20))\n",
    "X = st.binom(100, 0.1)\n",
    "plt.bar(range(21), [X.pmf(x) for x in range(21)], alpha=0.7);\n",
    "Y = st.norm(10, 3)\n",
    "plt.bar(range(21), [Y.pdf(x) for x in range(21)], alpha=0.7);"
   ]
  },
  {
   "cell_type": "markdown",
   "id": "2d308e3e-cf98-4381-b461-83c31fa29ba7",
   "metadata": {},
   "source": [
    "#### Логнормальное распределение ($X \\sim \\mathcal{LogN}(\\mu, \\sigma^2)$)"
   ]
  },
  {
   "cell_type": "markdown",
   "id": "63d75c96-339e-412d-bf96-4941dda0b176",
   "metadata": {},
   "source": [
    "Величина, логарифм которой распределен нормально:"
   ]
  },
  {
   "cell_type": "markdown",
   "id": "1bc8a1c9-5650-4397-85a5-06cdadc7ea67",
   "metadata": {},
   "source": [
    "$$\n",
    "\\large{f_X(x) = \\frac{1}{x\\sqrt{2\\pi \\sigma^2}}  e^{\\frac{-(ln(x)-\\mu)^2}{2\\sigma^2}}}\n",
    "$$\n",
    "\n",
    "($x$ и $\\sigma$ строго положительны.)"
   ]
  },
  {
   "cell_type": "markdown",
   "id": "49ebc4a5-b90b-4492-beea-53104aa6d5df",
   "metadata": {},
   "source": [
    "Или, проще говоря, если $X \\sim \\mathcal{LogN}(\\mu, \\sigma^2)$, то $Y=ln(X)$ распределена как $Y \\sim \\mathcal{N}(\\mu, \\sigma^2)$. И наоборот, для любой нормальной переменной ее экспонента распределена логнормально.\n",
    "\n",
    "Типичные примеры такого распределения: доход компании, сумма перевода, число подписчиков телеграм-канала."
   ]
  },
  {
   "cell_type": "code",
   "execution_count": null,
   "id": "08c3786b-9ad9-41e4-b613-8885c8531e3c",
   "metadata": {},
   "outputs": [],
   "source": [
    "X1 = st.lognorm(1, 0)\n",
    "X2 = st.lognorm(0.5, 0)"
   ]
  },
  {
   "cell_type": "code",
   "execution_count": null,
   "id": "0a25f302-44fe-4052-8d95-df919e08bf7e",
   "metadata": {},
   "outputs": [],
   "source": [
    "fig, ax = plt.subplots(1, 2, figsize=(12, 5))\n",
    "plt.suptitle('PDF и CDF логнормального распределения')\n",
    "ax[0].set(xlabel = 'Значения X', ylabel = 'Плотность вероятности')\n",
    "ax[1].set(xlabel = 'Верхний предел X', ylabel = 'Вероятность')\n",
    "\n",
    "points = np.linspace(0, 5, 100)\n",
    "pdf1 = np.array([X1.pdf(x) for x in points])\n",
    "ax[0].plot(points, pdf1);\n",
    "pdf2 = np.array([X2.pdf(x) for x in points])\n",
    "ax[0].plot(points, pdf2);\n",
    "ax[0].legend(['$\\mu = 0, \\sigma = 1$', '$\\mu = 0, \\sigma = 0.55$'])\n",
    "\n",
    "cdf1 = np.array([X1.cdf(x) for x in points])\n",
    "ax[1].plot(points, cdf1);\n",
    "cdf2 = np.array([X2.cdf(x) for x in points])\n",
    "ax[1].plot(points, cdf2);"
   ]
  },
  {
   "cell_type": "markdown",
   "id": "0f01f5c8-d24c-4f23-b6dc-a5f7f5ceb43f",
   "metadata": {},
   "source": [
    "$$\n",
    "\\large{\\mathbb{E}[X] = e^{\\left(\\mu + \\frac{\\sigma^2}{2}\\right)}}\n",
    "$$\n",
    "\n",
    "$$\n",
    "\\large{Var(X) = (e^{\\sigma^2} - 1)(e^{2\\mu + \\sigma^2})}\n",
    "$$"
   ]
  },
  {
   "cell_type": "markdown",
   "id": "d35bff79-8c3e-4d02-ab3a-89b5a44d2a25",
   "metadata": {},
   "source": [
    "### PPF и генерация случайных чисел"
   ]
  },
  {
   "cell_type": "markdown",
   "id": "cef2af80-2f32-4b42-92c5-9b590bde1314",
   "metadata": {},
   "source": [
    "Percentage point function - функция, обратная CDF. То есть задав вероятность, мы получаем соответствующий верхний предел случайной величины.\n",
    "\n",
    "Одно из практических применений - симуляция разных распределений, имея лишь значения, сгенерированные равномерно:"
   ]
  },
  {
   "cell_type": "code",
   "execution_count": null,
   "id": "a6d80669-34da-4591-a6e8-09aa4f48b9e9",
   "metadata": {},
   "outputs": [],
   "source": [
    "X = np.random.uniform(0, 1, 10000)"
   ]
  },
  {
   "cell_type": "code",
   "execution_count": null,
   "id": "b190f5ce-9347-41d1-996f-918272bb7d3c",
   "metadata": {},
   "outputs": [],
   "source": [
    "plt.hist(X);"
   ]
  },
  {
   "cell_type": "code",
   "execution_count": null,
   "id": "f294955a-038c-493c-aaab-b990540da445",
   "metadata": {},
   "outputs": [],
   "source": [
    "Y = [st.norm.ppf(x) for x in X]"
   ]
  },
  {
   "cell_type": "code",
   "execution_count": null,
   "id": "6b65c608-e655-4865-8267-099d128fe9e9",
   "metadata": {},
   "outputs": [],
   "source": [
    "plt.hist(Y);"
   ]
  },
  {
   "cell_type": "markdown",
   "id": "6cf957bb-2bec-4c42-8dfa-b55dbf27a3e2",
   "metadata": {},
   "source": [
    "Верно и обратное: если мы знаем распределение исходной величины, мы можем симулировать равномерное:"
   ]
  },
  {
   "cell_type": "code",
   "execution_count": null,
   "id": "34fe9c74-a108-44a4-992a-214f813835bd",
   "metadata": {},
   "outputs": [],
   "source": [
    "X = np.random.normal(0, 1, 10000)"
   ]
  },
  {
   "cell_type": "code",
   "execution_count": null,
   "id": "c824a53a-ebcb-4e06-a323-31c0a042f0ab",
   "metadata": {},
   "outputs": [],
   "source": [
    "plt.hist(X);"
   ]
  },
  {
   "cell_type": "code",
   "execution_count": null,
   "id": "ba1b7b71-4ccb-461f-b84f-5f51c237a198",
   "metadata": {},
   "outputs": [],
   "source": [
    "Y = [st.uniform(0, 1).ppf(x) for x in X]"
   ]
  },
  {
   "cell_type": "code",
   "execution_count": null,
   "id": "6ea3f5a7-09a7-43c6-be2e-d36a1ad7cc8c",
   "metadata": {},
   "outputs": [],
   "source": [
    "plt.hist(Y);"
   ]
  },
  {
   "cell_type": "markdown",
   "id": "175be0c5-cbb3-4ca6-a24f-c6937f04ad3a",
   "metadata": {},
   "source": [
    "# Домашнее задание"
   ]
  },
  {
   "cell_type": "markdown",
   "id": "ac6ca9ab-6ffc-44dc-9710-25960067ef2f",
   "metadata": {},
   "source": [
    "## Easy"
   ]
  },
  {
   "cell_type": "markdown",
   "id": "a48313d5-8735-4c5d-8739-73bf7195057c",
   "metadata": {},
   "source": [
    "Мы бросаем честный шестигранный кубик. Какова вероятность:\n",
    "\n",
    "- выкинуть 6 только с третьего раза?\n",
    "- выкинуть 6 два раза из трех?\n",
    "\n",
    "Можно воспользоваться как расчетом по формуле, так и `scipy.stats`."
   ]
  },
  {
   "cell_type": "code",
   "execution_count": null,
   "id": "1ee54b40-8074-4c63-8e9c-805af68b7a47",
   "metadata": {},
   "outputs": [],
   "source": [
    "# Ваш код ниже:\n"
   ]
  },
  {
   "cell_type": "markdown",
   "id": "6ecc123f-ec6e-45c7-b096-e25c91b2d5c3",
   "metadata": {},
   "source": [
    "## Normal"
   ]
  },
  {
   "cell_type": "markdown",
   "id": "83d921cf-7a48-43e1-9397-3948f441beaf",
   "metadata": {},
   "source": [
    "Мы бросаем тот же кубик 1000 раз.\n",
    "\n",
    "1. Сколько шестерок выпадет в среднем?"
   ]
  },
  {
   "cell_type": "code",
   "execution_count": null,
   "id": "dffa768d-6654-4605-90fa-61a08125ca10",
   "metadata": {},
   "outputs": [],
   "source": [
    "# Ваш код ниже:\n"
   ]
  },
  {
   "cell_type": "markdown",
   "id": "f0fbaed5-6ee8-4d5a-ab16-711ffa939797",
   "metadata": {},
   "source": [
    "2. В каком диапазоне будет лежать количество шестерок с вероятностью 94%?"
   ]
  },
  {
   "cell_type": "markdown",
   "id": "bef75b58-45ee-4aa4-b831-3cd3547e919e",
   "metadata": {},
   "source": [
    "<details>\n",
    "<summary>Подсказка (нажмите, чтобы посмотреть):</summary>\n",
    "Для этого вам понадобится PPF и не забывать, что диапазон двусторонний.\n",
    "</details>"
   ]
  },
  {
   "cell_type": "code",
   "execution_count": null,
   "id": "45b5d469-5146-45b8-be04-8265f45a1396",
   "metadata": {},
   "outputs": [],
   "source": [
    "# Ваш код ниже:\n"
   ]
  },
  {
   "cell_type": "markdown",
   "id": "77d8b5d0-f8ec-4374-b674-ce3ea2969a5d",
   "metadata": {},
   "source": [
    "## Hard"
   ]
  },
  {
   "cell_type": "markdown",
   "id": "5a225f07-1ca3-4d7f-8a26-0895aa68f8ba",
   "metadata": {},
   "source": [
    "Число заказов, ожидающих обработки в неком онлайн-магазине распределено по Пуассону c $\\lambda = \\frac{N}{n\\mu}$, где:\n",
    "N - общее число заказов в день;\n",
    "$\\mu$ - число заказов, которое сотрудник может обработать в день;\n",
    "n - количество сотрудников.\n",
    "\n",
    "Пусть $N=5$ и $\\mu=1$.\n",
    "\n",
    "Найдите число работников, при котором более 4 заказов будут в ожидании с вероятностью менее 10%."
   ]
  },
  {
   "cell_type": "markdown",
   "id": "6f24e692-3227-45b1-aeed-7839a40a22f6",
   "metadata": {},
   "source": []
  }
 ],
 "metadata": {
  "kernelspec": {
   "display_name": "Python 3 (ipykernel)",
   "language": "python",
   "name": "python3"
  },
  "language_info": {
   "codemirror_mode": {
    "name": "ipython",
    "version": 3
   },
   "file_extension": ".py",
   "mimetype": "text/x-python",
   "name": "python",
   "nbconvert_exporter": "python",
   "pygments_lexer": "ipython3",
   "version": "3.12.0"
  },
  "widgets": {
   "application/vnd.jupyter.widget-state+json": {
    "state": {},
    "version_major": 2,
    "version_minor": 0
   }
  }
 },
 "nbformat": 4,
 "nbformat_minor": 5
}
